{
  "cells": [
    {
      "cell_type": "markdown",
      "metadata": {
        "id": "view-in-github",
        "colab_type": "text"
      },
      "source": [
        "<a href=\"https://colab.research.google.com/github/YuvalRozner/BetterWeather/blob/main/data/dataImport.ipynb\" target=\"_parent\"><img src=\"https://colab.research.google.com/assets/colab-badge.svg\" alt=\"Open In Colab\"/></a>"
      ]
    },
    {
      "cell_type": "markdown",
      "source": [
        "## Data Request %Y%m%d%H%M"
      ],
      "metadata": {
        "id": "I9UzyykySfd1"
      }
    },
    {
      "cell_type": "code",
      "execution_count": 15,
      "metadata": {
        "id": "CFupoGE4Wg4S"
      },
      "outputs": [],
      "source": [
        "import pandas as pd\n",
        "import requests\n",
        "import json\n",
        "from datetime import datetime\n",
        "import numpy as np\n",
        "\n",
        "def vrbind(long_list, l):\n",
        "    return pd.DataFrame(long_list[l]).transpose()\n",
        "\n",
        "def fetch_weather_data(station_id, start_date, end_date):\n",
        "    url = f\"https://ims.gov.il/he/envista_station_all_data_time_range/{station_id}/BP%26DiffR%26Grad%26NIP%26RH%26TD%26TDmax%26TDmin%26TW%26WD%26WDmax%26WS%26WS1mm%26Ws10mm%26Ws10maxEnd%26WSmax%26STDwd%26Rain/{start_date}/{end_date}/1/S\"\n",
        "    response = requests.get(url)\n",
        "    data = json.loads(response.content)\n",
        "    return data\n"
      ]
    },
    {
      "cell_type": "code",
      "source": [
        "for curr_year in range(2020, 2024):\n",
        "    today_fore0 = f\"{curr_year}01010000\"\n",
        "    today_fore23 = f\"{curr_year}12312350\"\n",
        "\n",
        "    # Jerusalem Weather Data\n",
        "    JER_data = fetch_weather_data(23, today_fore0, today_fore23)\n",
        "\n",
        "    # Specify the file name\n",
        "    filename = f\"data{curr_year}.json\"\n",
        "\n",
        "    # Writing JSON data to a file\n",
        "    with open(filename, 'w') as file:\n",
        "        json.dump(JER_data, file, indent=4)  # indent=4 is optional, it makes the JSON file easier to read\n",
        "\n",
        "    print(f\"Data has been saved to {filename}\")\n",
        "\n",
        "\n",
        "    import json\n",
        "    import csv\n",
        "\n",
        "    # Load JSON data from file\n",
        "    with open(filename) as json_file:\n",
        "        data = json.load(json_file)['data']['records']\n",
        "\n",
        "    # Define the CSV file name\n",
        "    filename = f\"data{curr_year}.csv\"\n",
        "\n",
        "    # Specify the order of the columns for the CSV\n",
        "    columns = [\n",
        "        \"Date Time\", \"BP (hPa)\", \"DiffR (w/m^2)\", \"Grad (w/m^2)\", \"NIP (w/m^2)\", \"RH (%)\",\n",
        "        \"TD (degC)\", \"TDmax (degC)\", \"TDmin (degC)\", \"WD (deg)\", \"WDmax (deg)\",\n",
        "        \"WS (m/s)\", \"Ws1mm (m/s)\", \"Ws10mm (m/s)\", \"WSmax (m/s)\", \"STDwd (deg)\"\n",
        "    ]\n",
        "\n",
        "    # Writing the data to a CSV file\n",
        "    with open(filename, 'w', newline='') as file:\n",
        "        writer = csv.DictWriter(file, fieldnames=columns)\n",
        "\n",
        "        # Write the header\n",
        "        writer.writeheader()\n",
        "\n",
        "        # Write the rows\n",
        "        for entry in data:\n",
        "            # Create a row dictionary with matching keys to the columns\n",
        "            row = {\n",
        "                \"Date Time\": entry.get(\"date\", \"\"),\n",
        "                \"BP (hPa)\": entry.get(\"BP\", \"\"),\n",
        "                \"DiffR (w/m^2)\": entry.get(\"DiffR\", \"\"),\n",
        "                \"Grad (w/m^2)\": entry.get(\"Grad\", \"\"),\n",
        "                \"NIP (w/m^2)\": entry.get(\"NIP\", \"\"),\n",
        "                \"RH (%)\": entry.get(\"RH\", \"\"),\n",
        "                \"TD (degC)\": entry.get(\"TD\", \"\"),\n",
        "                \"TDmax (degC)\": entry.get(\"TDmax\", \"\"),\n",
        "                \"TDmin (degC)\": entry.get(\"TDmin\", \"\"),\n",
        "                \"WD (deg)\": entry.get(\"WD\", \"\"),\n",
        "                \"WDmax (deg)\": entry.get(\"WDmax\", \"\"),\n",
        "                \"WS (m/s)\": entry.get(\"WS\", \"\"),\n",
        "                \"Ws1mm (m/s)\": entry.get(\"WS1mm\", \"\"),\n",
        "                \"Ws10mm (m/s)\": entry.get(\"Ws10mm\", \"\"),\n",
        "                \"WSmax (m/s)\": entry.get(\"WSmax\", \"\"),\n",
        "                \"STDwd (deg)\": entry.get(\"STDwd\", \"\")\n",
        "            }\n",
        "            writer.writerow(row)\n",
        "\n",
        "    print(f\"Data has been saved to {filename}\")\n",
        "\n"
      ],
      "metadata": {
        "colab": {
          "base_uri": "https://localhost:8080/"
        },
        "id": "WlYH9BsvX_gg",
        "outputId": "86d56028-6cdc-4ce6-e3f9-b511fc7ede4d"
      },
      "execution_count": 20,
      "outputs": [
        {
          "output_type": "stream",
          "name": "stdout",
          "text": [
            "Data has been saved to data2020.json\n",
            "Data has been saved to data2020.csv\n",
            "Data has been saved to data2021.json\n",
            "Data has been saved to data2021.csv\n",
            "Data has been saved to data2022.json\n",
            "Data has been saved to data2022.csv\n",
            "Data has been saved to data2023.json\n",
            "Data has been saved to data2023.csv\n"
          ]
        }
      ]
    },
    {
      "cell_type": "code",
      "source": [
        "import os\n",
        "import pandas as pd\n",
        "\n",
        "# Directory containing your CSV files\n",
        "directory = \"/content/\"\n",
        "\n",
        "# List to hold all DataFrames\n",
        "dataframes = []\n",
        "\n",
        "# Loop through all files in the directory\n",
        "for filename in os.listdir(directory):\n",
        "    if filename.endswith(\".csv\"):\n",
        "        file_path = os.path.join(directory, filename)\n",
        "        # Read each CSV file\n",
        "        df = pd.read_csv(file_path)\n",
        "        # Append the DataFrame to the list\n",
        "        dataframes.append(df)\n",
        "\n",
        "# Concatenate all DataFrames\n",
        "concatenated_df = pd.concat(dataframes, ignore_index=True)\n",
        "\n",
        "# Save the concatenated DataFrame to a new CSV file\n",
        "output_file = \"concatenated_output.csv\"\n",
        "concatenated_df.to_csv(output_file, index=False)\n",
        "\n",
        "print(f\"All files have been concatenated and saved to {output_file}.\")"
      ],
      "metadata": {
        "colab": {
          "base_uri": "https://localhost:8080/"
        },
        "id": "l_sO8x21aKre",
        "outputId": "6f5ea67d-f46e-486c-f5a8-3a0ebc240b4d"
      },
      "execution_count": 21,
      "outputs": [
        {
          "output_type": "stream",
          "name": "stderr",
          "text": [
            "<ipython-input-21-ccc5c06ec55d>:15: DtypeWarning: Columns (5,6,7,8,12,13) have mixed types. Specify dtype option on import or set low_memory=False.\n",
            "  df = pd.read_csv(file_path)\n",
            "<ipython-input-21-ccc5c06ec55d>:15: DtypeWarning: Columns (9,12,13) have mixed types. Specify dtype option on import or set low_memory=False.\n",
            "  df = pd.read_csv(file_path)\n",
            "<ipython-input-21-ccc5c06ec55d>:15: DtypeWarning: Columns (9,10,11,12,13,14,15) have mixed types. Specify dtype option on import or set low_memory=False.\n",
            "  df = pd.read_csv(file_path)\n",
            "<ipython-input-21-ccc5c06ec55d>:15: DtypeWarning: Columns (1,9,10,12,13) have mixed types. Specify dtype option on import or set low_memory=False.\n",
            "  df = pd.read_csv(file_path)\n",
            "<ipython-input-21-ccc5c06ec55d>:15: DtypeWarning: Columns (1,5,6,7,8,9,10,12,13,15) have mixed types. Specify dtype option on import or set low_memory=False.\n",
            "  df = pd.read_csv(file_path)\n",
            "<ipython-input-21-ccc5c06ec55d>:15: DtypeWarning: Columns (1,9,10,11,12,13,14,15) have mixed types. Specify dtype option on import or set low_memory=False.\n",
            "  df = pd.read_csv(file_path)\n",
            "<ipython-input-21-ccc5c06ec55d>:15: DtypeWarning: Columns (5,6,8,9,10,11,12,13,14,15) have mixed types. Specify dtype option on import or set low_memory=False.\n",
            "  df = pd.read_csv(file_path)\n",
            "<ipython-input-21-ccc5c06ec55d>:15: DtypeWarning: Columns (10) have mixed types. Specify dtype option on import or set low_memory=False.\n",
            "  df = pd.read_csv(file_path)\n",
            "<ipython-input-21-ccc5c06ec55d>:15: DtypeWarning: Columns (1,11,12,13,14,15) have mixed types. Specify dtype option on import or set low_memory=False.\n",
            "  df = pd.read_csv(file_path)\n",
            "<ipython-input-21-ccc5c06ec55d>:15: DtypeWarning: Columns (1,9,10,11,12,13,14) have mixed types. Specify dtype option on import or set low_memory=False.\n",
            "  df = pd.read_csv(file_path)\n",
            "<ipython-input-21-ccc5c06ec55d>:15: DtypeWarning: Columns (1,9,10,11,12,13,14,15) have mixed types. Specify dtype option on import or set low_memory=False.\n",
            "  df = pd.read_csv(file_path)\n",
            "<ipython-input-21-ccc5c06ec55d>:15: DtypeWarning: Columns (9,10,11,12,13,14) have mixed types. Specify dtype option on import or set low_memory=False.\n",
            "  df = pd.read_csv(file_path)\n",
            "<ipython-input-21-ccc5c06ec55d>:15: DtypeWarning: Columns (9,11,12,13,14) have mixed types. Specify dtype option on import or set low_memory=False.\n",
            "  df = pd.read_csv(file_path)\n",
            "<ipython-input-21-ccc5c06ec55d>:15: DtypeWarning: Columns (9,10,11,12,13,14) have mixed types. Specify dtype option on import or set low_memory=False.\n",
            "  df = pd.read_csv(file_path)\n",
            "<ipython-input-21-ccc5c06ec55d>:15: DtypeWarning: Columns (15) have mixed types. Specify dtype option on import or set low_memory=False.\n",
            "  df = pd.read_csv(file_path)\n",
            "<ipython-input-21-ccc5c06ec55d>:15: DtypeWarning: Columns (9,10,11,12,13,15) have mixed types. Specify dtype option on import or set low_memory=False.\n",
            "  df = pd.read_csv(file_path)\n",
            "<ipython-input-21-ccc5c06ec55d>:15: DtypeWarning: Columns (9,10,11,12,13,14) have mixed types. Specify dtype option on import or set low_memory=False.\n",
            "  df = pd.read_csv(file_path)\n",
            "<ipython-input-21-ccc5c06ec55d>:15: DtypeWarning: Columns (1,9,10,11,12,13,14) have mixed types. Specify dtype option on import or set low_memory=False.\n",
            "  df = pd.read_csv(file_path)\n",
            "<ipython-input-21-ccc5c06ec55d>:15: DtypeWarning: Columns (9,10,11,12,13,14) have mixed types. Specify dtype option on import or set low_memory=False.\n",
            "  df = pd.read_csv(file_path)\n",
            "<ipython-input-21-ccc5c06ec55d>:15: DtypeWarning: Columns (10,11) have mixed types. Specify dtype option on import or set low_memory=False.\n",
            "  df = pd.read_csv(file_path)\n",
            "<ipython-input-21-ccc5c06ec55d>:15: DtypeWarning: Columns (1,15) have mixed types. Specify dtype option on import or set low_memory=False.\n",
            "  df = pd.read_csv(file_path)\n"
          ]
        },
        {
          "output_type": "stream",
          "name": "stdout",
          "text": [
            "All files have been concatenated and saved to concatenated_output.csv.\n"
          ]
        }
      ]
    },
    {
      "cell_type": "markdown",
      "source": [
        "## Save to .json File"
      ],
      "metadata": {
        "id": "wCeszTTwSRnH"
      }
    },
    {
      "cell_type": "code",
      "execution_count": 2,
      "metadata": {
        "colab": {
          "base_uri": "https://localhost:8080/"
        },
        "id": "B8V6WIBu3cJU",
        "outputId": "fb69f419-864c-404d-86fa-976dca1b77dc"
      },
      "outputs": [
        {
          "output_type": "stream",
          "name": "stdout",
          "text": [
            "Data has been saved to data.json\n"
          ]
        }
      ],
      "source": [
        "# Specify the file name\n",
        "filename = \"data.json\"\n",
        "\n",
        "# Writing JSON data to a file\n",
        "with open(filename, 'w') as file:\n",
        "    json.dump(JER_data, file, indent=4)  # indent=4 is optional, it makes the JSON file easier to read\n",
        "\n",
        "print(f\"Data has been saved to {filename}\")"
      ]
    },
    {
      "cell_type": "markdown",
      "source": [
        "## Transform a .csv file from .json"
      ],
      "metadata": {
        "id": "OGCPMTUtS26Y"
      }
    },
    {
      "cell_type": "code",
      "execution_count": 7,
      "metadata": {
        "colab": {
          "base_uri": "https://localhost:8080/"
        },
        "id": "ilVon6Dy3DC3",
        "outputId": "eda4654f-ef40-46f7-846d-8e0e9c937412"
      },
      "outputs": [
        {
          "output_type": "stream",
          "name": "stdout",
          "text": [
            "Data has been saved to data.csv\n"
          ]
        }
      ],
      "source": [
        "import json\n",
        "import csv\n",
        "\n",
        "# Load JSON data from file\n",
        "with open('data.json') as json_file:\n",
        "    data = json.load(json_file)['data']['records']\n",
        "\n",
        "# Define the CSV file name\n",
        "filename = \"data.csv\"\n",
        "\n",
        "# Specify the order of the columns for the CSV\n",
        "columns = [\n",
        "    \"Date Time\", \"BP (hPa)\", \"DiffR (w/m^2)\", \"Grad (w/m^2)\", \"NIP (w/m^2)\", \"RH (%)\",\n",
        "    \"TD (degC)\", \"TDmax (degC)\", \"TDmin (degC)\", \"WD (deg)\", \"WDmax (deg)\",\n",
        "    \"WS (m/s)\", \"Ws1mm (m/s)\", \"Ws10mm (m/s)\", \"WSmax (m/s)\", \"STDwd (deg)\"\n",
        "]\n",
        "\n",
        "# Writing the data to a CSV file\n",
        "with open(filename, 'w', newline='') as file:\n",
        "    writer = csv.DictWriter(file, fieldnames=columns)\n",
        "\n",
        "    # Write the header\n",
        "    writer.writeheader()\n",
        "\n",
        "    # Write the rows\n",
        "    for entry in data:\n",
        "        # Create a row dictionary with matching keys to the columns\n",
        "        row = {\n",
        "            \"Date Time\": entry.get(\"date\", \"\"),\n",
        "            \"BP (hPa)\": entry.get(\"BP\", \"\"),\n",
        "            \"DiffR (w/m^2)\": entry.get(\"DiffR\", \"\"),\n",
        "            \"Grad (w/m^2)\": entry.get(\"Grad\", \"\"),\n",
        "            \"NIP (w/m^2)\": entry.get(\"NIP\", \"\"),\n",
        "            \"RH (%)\": entry.get(\"RH\", \"\"),\n",
        "            \"TD (degC)\": entry.get(\"TD\", \"\"),\n",
        "            \"TDmax (degC)\": entry.get(\"TDmax\", \"\"),\n",
        "            \"TDmin (degC)\": entry.get(\"TDmin\", \"\"),\n",
        "            \"WD (deg)\": entry.get(\"WD\", \"\"),\n",
        "            \"WDmax (deg)\": entry.get(\"WDmax\", \"\"),\n",
        "            \"WS (m/s)\": entry.get(\"WS\", \"\"),\n",
        "            \"Ws1mm (m/s)\": entry.get(\"WS1mm\", \"\"),\n",
        "            \"Ws10mm (m/s)\": entry.get(\"Ws10mm\", \"\"),\n",
        "            \"WSmax (m/s)\": entry.get(\"WSmax\", \"\"),\n",
        "            \"STDwd (deg)\": entry.get(\"STDwd\", \"\")\n",
        "        }\n",
        "        writer.writerow(row)\n",
        "\n",
        "print(f\"Data has been saved to {filename}\")"
      ]
    }
  ],
  "metadata": {
    "colab": {
      "provenance": [],
      "authorship_tag": "ABX9TyNDvSmn8tcxceToOcy+G16z",
      "include_colab_link": true
    },
    "kernelspec": {
      "display_name": "Python 3",
      "name": "python3"
    },
    "language_info": {
      "name": "python"
    }
  },
  "nbformat": 4,
  "nbformat_minor": 0
}
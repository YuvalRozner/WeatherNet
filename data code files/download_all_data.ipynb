{
 "cells": [
  {
   "cell_type": "markdown",
   "metadata": {},
   "source": [
    "## pips and includes:"
   ]
  },
  {
   "cell_type": "code",
   "execution_count": 1,
   "metadata": {},
   "outputs": [],
   "source": [
    "import pandas as pd\n",
    "import requests\n",
    "import json\n",
    "from datetime import datetime"
   ]
  },
  {
   "cell_type": "markdown",
   "metadata": {},
   "source": [
    "## constants:"
   ]
  },
  {
   "cell_type": "code",
   "execution_count": 2,
   "metadata": {},
   "outputs": [],
   "source": [
    "YEAR_BEGINS = \"01010000\"\n",
    "YEAR_ENDS = \"12312350\"\n",
    "START_YEAR = 2000\n",
    "END_YEAR = 2023\n",
    "\n",
    "DATA_DIRECTORY = \"../data/\"\n",
    "\n",
    "columns = [\n",
    "    \"Date Time\", \"BP (hPa)\", \"DiffR (w/m^2)\", \"Grad (w/m^2)\", \"NIP (w/m^2)\", \"RH (%)\",\n",
    "    \"TD (degC)\", \"TDmax (degC)\", \"TDmin (degC)\", \"WD (deg)\", \"WDmax (deg)\",\n",
    "    \"WS (m/s)\", \"Ws1mm (m/s)\", \"Ws10mm (m/s)\", \"WSmax (m/s)\", \"STDwd (deg)\"\n",
    "]\n",
    "\n",
    "column_pairs = [\n",
    "    (\"date\", \"Date Time\"),\n",
    "    (\"BP\", \"BP (hPa)\"),\n",
    "    (\"DiffR\", \"DiffR (w/m^2)\"),\n",
    "    (\"Grad\", \"Grad (w/m^2)\"),\n",
    "    (\"NIP\", \"NIP (w/m^2)\"),\n",
    "    (\"RH\", \"RH (%)\"),\n",
    "    (\"TD\", \"TD (degC)\"),\n",
    "    (\"TDmax\", \"TDmax (degC)\"),\n",
    "    (\"TDmin\", \"TDmin (degC)\"),\n",
    "    (\"WD\", \"WD (deg)\"),\n",
    "    (\"WDmax\", \"WDmax (deg)\"),\n",
    "    (\"WS\", \"WS (m/s)\"),\n",
    "    (\"WS1mm\", \"Ws1mm (m/s)\"),\n",
    "    (\"Ws10mm\", \"Ws10mm (m/s)\"),\n",
    "    (\"WSmax\", \"WSmax (m/s)\"),\n",
    "    (\"STDwd\", \"STDwd (deg)\")\n",
    "]\n"
   ]
  },
  {
   "cell_type": "markdown",
   "metadata": {},
   "source": [
    "## utills functions:"
   ]
  },
  {
   "cell_type": "code",
   "execution_count": 3,
   "metadata": {},
   "outputs": [],
   "source": [
    "def fetch_weather_data(station_id, start_date, end_date):\n",
    "    url = f\"https://ims.gov.il/he/envista_station_all_data_time_range/{station_id}/BP%26DiffR%26Grad%26NIP%26RH%26TD%26TDmax%26TDmin%26TW%26WD%26WDmax%26WS%26WS1mm%26Ws10mm%26Ws10maxEnd%26WSmax%26STDwd%26Rain/{start_date}/{end_date}/1/S\"\n",
    "    response = requests.get(url)\n",
    "    data = json.loads(response.content)\n",
    "    return data\n",
    "\n",
    "def remove_unwanted_keys(data):\n",
    "    # Remove 'sid', 'sname', and 'date_for_sort' from each record in data\n",
    "    for record in data['data']['records']:\n",
    "        if 'date_for_sort' in record:\n",
    "            del record['date_for_sort']\n",
    "        if 'sid' in record:\n",
    "            del record['sid']\n",
    "        if 'TW' in record:\n",
    "            del record['TW']\n",
    "        if 'sname' in record:\n",
    "            del record['sname']\n",
    "\n",
    "def replace_column_names(data):\n",
    "    # Replace the names of the columns by the pairs in column_pairs\n",
    "    for record in data['data']['records']:\n",
    "        for new_name, old_name in column_pairs:\n",
    "            if new_name in record:\n",
    "                record[old_name] = record.pop(new_name)\n",
    "\n",
    "def process_data(data):\n",
    "    remove_unwanted_keys(data)\n",
    "    replace_column_names(data)\n",
    "\n",
    "def save_to_csv(data, filename):\n",
    "    import csv\n",
    "\n",
    "    # Extract the column names from the first record\n",
    "    column_names = data['data']['records'][0].keys()\n",
    "\n",
    "    # Open the file in write mode\n",
    "    with open(DATA_DIRECTORY+filename, mode='w', newline='') as file:\n",
    "        writer = csv.DictWriter(file, fieldnames=column_names)\n",
    "\n",
    "        # Write the header\n",
    "        writer.writeheader()\n",
    "\n",
    "        # Write the data\n",
    "        for record in data['data']['records']:\n",
    "            writer.writerow(record)\n",
    "\n",
    "def fetch_data_for_station(station_id, start_year, end_year):\n",
    "    all_data = []\n",
    "\n",
    "    for year in range(start_year, end_year + 1):\n",
    "        today_fore0 = f\"{year}\" + YEAR_BEGINS\n",
    "        today_fore23 = f\"{year}\" + YEAR_ENDS\n",
    "\n",
    "        data = fetch_weather_data(station_id, today_fore0, today_fore23)\n",
    "        process_data(data)\n",
    "        \n",
    "        # Convert the data to a DataFrame and append to the list\n",
    "        df = pd.DataFrame(data['data']['records'])\n",
    "        all_data.append(df)\n",
    "\n",
    "    # Concatenate all DataFrames\n",
    "    combined_df = pd.concat(all_data, ignore_index=True)\n",
    "    return combined_df\n",
    "\n",
    "def get_and_save_station_data(station_name, station_id, start_year, end_year):\n",
    "    # Get all data for the station\n",
    "    combined_df = fetch_data_for_station(station_id, start_year, end_year)\n",
    "    \n",
    "    # Convert the DataFrame back to the dictionary format expected by process_data\n",
    "    data = {'data': {'records': combined_df.to_dict(orient='records')}}\n",
    "    \n",
    "    # Process the data\n",
    "    process_data(data)\n",
    "    \n",
    "    # Save the data to a CSV file\n",
    "    filename = f\"{station_name}_data_{start_year}_{end_year}.csv\"\n",
    "    save_to_csv(data, filename)\n",
    "\n"
   ]
  },
  {
   "cell_type": "code",
   "execution_count": 4,
   "metadata": {},
   "outputs": [],
   "source": [
    "get_and_save_station_data(\"Jerusalem\", 23, 2020, 2022)"
   ]
  },
  {
   "cell_type": "code",
   "execution_count": 12,
   "metadata": {},
   "outputs": [
    {
     "ename": "FileNotFoundError",
     "evalue": "[Errno 2] No such file or directory: 'data/code/files/stations.json'",
     "output_type": "error",
     "traceback": [
      "\u001b[1;31m---------------------------------------------------------------------------\u001b[0m",
      "\u001b[1;31mFileNotFoundError\u001b[0m                         Traceback (most recent call last)",
      "Cell \u001b[1;32mIn[12], line 5\u001b[0m\n\u001b[0;32m      2\u001b[0m station_map \u001b[38;5;241m=\u001b[39m {}\n\u001b[0;32m      4\u001b[0m \u001b[38;5;66;03m# Load stations.json\u001b[39;00m\n\u001b[1;32m----> 5\u001b[0m \u001b[38;5;28;01mwith\u001b[39;00m \u001b[38;5;28;43mopen\u001b[39;49m\u001b[43m(\u001b[49m\u001b[38;5;124;43m'\u001b[39;49m\u001b[38;5;124;43mdata/code/files/stations.json\u001b[39;49m\u001b[38;5;124;43m'\u001b[39;49m\u001b[43m,\u001b[49m\u001b[43m \u001b[49m\u001b[38;5;124;43m'\u001b[39;49m\u001b[38;5;124;43mr\u001b[39;49m\u001b[38;5;124;43m'\u001b[39;49m\u001b[43m,\u001b[49m\u001b[43m \u001b[49m\u001b[43mencoding\u001b[49m\u001b[38;5;241;43m=\u001b[39;49m\u001b[38;5;124;43m'\u001b[39;49m\u001b[38;5;124;43mutf-8\u001b[39;49m\u001b[38;5;124;43m'\u001b[39;49m\u001b[43m)\u001b[49m \u001b[38;5;28;01mas\u001b[39;00m f:\n\u001b[0;32m      6\u001b[0m     stations_data \u001b[38;5;241m=\u001b[39m json\u001b[38;5;241m.\u001b[39mload(f)\n\u001b[0;32m      8\u001b[0m \u001b[38;5;66;03m# Iterate through all stations and populate station_map\u001b[39;00m\n",
      "File \u001b[1;32m~\\AppData\\Roaming\\Python\\Python311\\site-packages\\IPython\\core\\interactiveshell.py:324\u001b[0m, in \u001b[0;36m_modified_open\u001b[1;34m(file, *args, **kwargs)\u001b[0m\n\u001b[0;32m    317\u001b[0m \u001b[38;5;28;01mif\u001b[39;00m file \u001b[38;5;129;01min\u001b[39;00m {\u001b[38;5;241m0\u001b[39m, \u001b[38;5;241m1\u001b[39m, \u001b[38;5;241m2\u001b[39m}:\n\u001b[0;32m    318\u001b[0m     \u001b[38;5;28;01mraise\u001b[39;00m \u001b[38;5;167;01mValueError\u001b[39;00m(\n\u001b[0;32m    319\u001b[0m         \u001b[38;5;124mf\u001b[39m\u001b[38;5;124m\"\u001b[39m\u001b[38;5;124mIPython won\u001b[39m\u001b[38;5;124m'\u001b[39m\u001b[38;5;124mt let you open fd=\u001b[39m\u001b[38;5;132;01m{\u001b[39;00mfile\u001b[38;5;132;01m}\u001b[39;00m\u001b[38;5;124m by default \u001b[39m\u001b[38;5;124m\"\u001b[39m\n\u001b[0;32m    320\u001b[0m         \u001b[38;5;124m\"\u001b[39m\u001b[38;5;124mas it is likely to crash IPython. If you know what you are doing, \u001b[39m\u001b[38;5;124m\"\u001b[39m\n\u001b[0;32m    321\u001b[0m         \u001b[38;5;124m\"\u001b[39m\u001b[38;5;124myou can use builtins\u001b[39m\u001b[38;5;124m'\u001b[39m\u001b[38;5;124m open.\u001b[39m\u001b[38;5;124m\"\u001b[39m\n\u001b[0;32m    322\u001b[0m     )\n\u001b[1;32m--> 324\u001b[0m \u001b[38;5;28;01mreturn\u001b[39;00m \u001b[43mio_open\u001b[49m\u001b[43m(\u001b[49m\u001b[43mfile\u001b[49m\u001b[43m,\u001b[49m\u001b[43m \u001b[49m\u001b[38;5;241;43m*\u001b[39;49m\u001b[43margs\u001b[49m\u001b[43m,\u001b[49m\u001b[43m \u001b[49m\u001b[38;5;241;43m*\u001b[39;49m\u001b[38;5;241;43m*\u001b[39;49m\u001b[43mkwargs\u001b[49m\u001b[43m)\u001b[49m\n",
      "\u001b[1;31mFileNotFoundError\u001b[0m: [Errno 2] No such file or directory: 'data/code/files/stations.json'"
     ]
    }
   ],
   "source": [
    "# Initialize the station map\n",
    "station_map = {}\n",
    "\n",
    "# Load stations.json\n",
    "with open('data code files\\stations.json', 'r', encoding='utf-8') as f:\n",
    "    stations_data = json.load(f)\n",
    "\n",
    "# Iterate through all stations and populate station_map\n",
    "for area, stations in stations_data['data']['area_stations'].items():\n",
    "    for station in stations.values():\n",
    "        station_name = station['name']\n",
    "        sid = station['sid']\n",
    "        station_map[station_name] = sid\n",
    "\n",
    "print(station_map)\n"
   ]
  }
 ],
 "metadata": {
  "kernelspec": {
   "display_name": "Python 3",
   "language": "python",
   "name": "python3"
  },
  "language_info": {
   "codemirror_mode": {
    "name": "ipython",
    "version": 3
   },
   "file_extension": ".py",
   "mimetype": "text/x-python",
   "name": "python",
   "nbconvert_exporter": "python",
   "pygments_lexer": "ipython3",
   "version": "3.11.2"
  }
 },
 "nbformat": 4,
 "nbformat_minor": 2
}

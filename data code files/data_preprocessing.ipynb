{
 "cells": [
  {
   "cell_type": "markdown",
   "metadata": {},
   "source": [
    "# Before"
   ]
  },
  {
   "cell_type": "markdown",
   "metadata": {},
   "source": [
    "## pips and includes"
   ]
  },
  {
   "cell_type": "code",
   "execution_count": 1,
   "metadata": {},
   "outputs": [],
   "source": [
    "import pandas as pd\n",
    "import requests\n",
    "import json\n",
    "from datetime import datetime\n",
    "import os\n",
    "import numpy as np\n",
    "import matplotlib.pyplot as plt\n",
    "from tqdm import tqdm"
   ]
  },
  {
   "cell_type": "markdown",
   "metadata": {},
   "source": [
    "## Constants"
   ]
  },
  {
   "cell_type": "code",
   "execution_count": 2,
   "metadata": {},
   "outputs": [],
   "source": [
    "DATA_DIRECTORY = \"../data/\""
   ]
  },
  {
   "cell_type": "markdown",
   "metadata": {},
   "source": [
    "## load csv files:"
   ]
  },
  {
   "cell_type": "code",
   "execution_count": 3,
   "metadata": {},
   "outputs": [
    {
     "name": "stderr",
     "output_type": "stream",
     "text": [
      "Loading CSV files: 100%|██████████| 70/70 [03:31<00:00,  3.02s/it]\n"
     ]
    }
   ],
   "source": [
    "data_files = [f for f in os.listdir(DATA_DIRECTORY) if f.endswith('.csv')]\n",
    "\n",
    "dataframes = {}\n",
    "for file in tqdm(data_files, desc=\"Loading CSV files\"):\n",
    "    file_path = os.path.join(DATA_DIRECTORY, file)\n",
    "    df_name = os.path.splitext(file)[0]\n",
    "    dataframes[df_name] = pd.read_csv(file_path, low_memory=False)\n"
   ]
  },
  {
   "cell_type": "markdown",
   "metadata": {},
   "source": [
    "# Preprocessing"
   ]
  },
  {
   "cell_type": "markdown",
   "metadata": {},
   "source": [
    "## Remove unecesery columns"
   ]
  },
  {
   "cell_type": "markdown",
   "metadata": {},
   "source": [
    "### remove 'Time' column:"
   ]
  },
  {
   "cell_type": "code",
   "execution_count": 13,
   "metadata": {},
   "outputs": [],
   "source": [
    "for df_name, df in dataframes.items():\n",
    "    if 'Time' in df.columns:\n",
    "        df.drop(columns=['Time'], inplace=True)"
   ]
  },
  {
   "cell_type": "markdown",
   "metadata": {},
   "source": [
    "### remove radiation columns:"
   ]
  },
  {
   "cell_type": "code",
   "execution_count": 16,
   "metadata": {},
   "outputs": [],
   "source": [
    "columns_to_remove = ['Grad (w/m^2)', 'DiffR (w/m^2)', 'NIP (w/m^2)']\n",
    "\n",
    "for df_name, df in dataframes.items():\n",
    "    df.drop(columns=[col for col in columns_to_remove if col in df.columns], inplace=True)\n"
   ]
  },
  {
   "cell_type": "markdown",
   "metadata": {},
   "source": [
    "### remove 'BP' column:"
   ]
  },
  {
   "cell_type": "code",
   "execution_count": 18,
   "metadata": {},
   "outputs": [],
   "source": [
    "for df_name, df in dataframes.items():\n",
    "    if 'BP (hPa)' in df.columns:\n",
    "        df.drop(columns=['BP (hPa)'], inplace=True)"
   ]
  },
  {
   "cell_type": "markdown",
   "metadata": {},
   "source": [
    "### remove the 'Ws10mm (m/s)' , 'Ws1mm (m/s)' colums:"
   ]
  },
  {
   "cell_type": "code",
   "execution_count": 4,
   "metadata": {},
   "outputs": [],
   "source": [
    "for df_name, df in dataframes.items():\n",
    "    columns_to_remove = ['Ws10mm (m/s)', 'Ws1mm (m/s)']\n",
    "    df.drop(columns=[col for col in columns_to_remove if col in df.columns], inplace=True)"
   ]
  },
  {
   "cell_type": "markdown",
   "metadata": {},
   "source": [
    "## Time"
   ]
  },
  {
   "cell_type": "markdown",
   "metadata": {},
   "source": [
    "### format the time:"
   ]
  },
  {
   "cell_type": "code",
   "execution_count": 22,
   "metadata": {},
   "outputs": [],
   "source": [
    "for df_name, df in dataframes.items():\n",
    "    if 'Date Time' in df.columns:\n",
    "        df['Date Time'] = pd.to_datetime(df.pop('Date Time'), format=\"%d/%m/%Y %H:%M\")"
   ]
  },
  {
   "cell_type": "markdown",
   "metadata": {},
   "source": [
    "### add column with the year:"
   ]
  },
  {
   "cell_type": "code",
   "execution_count": 24,
   "metadata": {},
   "outputs": [],
   "source": [
    "for df_name, df in dataframes.items():\n",
    "    if 'Date Time' in df.columns:\n",
    "        df['Year'] = df['Date Time'].dt.year"
   ]
  },
  {
   "cell_type": "markdown",
   "metadata": {},
   "source": [
    "### Time cicles (days ans years):"
   ]
  },
  {
   "cell_type": "code",
   "execution_count": 29,
   "metadata": {},
   "outputs": [],
   "source": [
    "day = 24*60*60\n",
    "year = (365.2425)*day\n",
    "\n",
    "for df_name, df in dataframes.items():\n",
    "    if 'Date Time' in df.columns:\n",
    "        timestamp_s = df['Date Time'].map(pd.Timestamp.timestamp)\n",
    "        df['Day sin'] = np.sin(timestamp_s * (2 * np.pi / day))\n",
    "        df['Day cos'] = np.cos(timestamp_s * (2 * np.pi / day))\n",
    "        df['Year sin'] = np.sin(timestamp_s * (2 * np.pi / year))\n",
    "        df['Year cos'] = np.cos(timestamp_s * (2 * np.pi / year))\n",
    "        df.drop(columns=['Date Time'], inplace=True)\n"
   ]
  },
  {
   "cell_type": "markdown",
   "metadata": {},
   "source": [
    "## Data Imputation"
   ]
  },
  {
   "cell_type": "markdown",
   "metadata": {},
   "source": [
    "### 1 missing value:"
   ]
  },
  {
   "cell_type": "code",
   "execution_count": null,
   "metadata": {},
   "outputs": [],
   "source": [
    "na_values = ['None', 'null', '-', '', ' ', 'NaN', 'nan', 'NAN']\n",
    "\n",
    "for df_name, df in tqdm(dataframes.items(), desc=\"Processing DataFrames\"):\n",
    "    if 'TD (degC)' in df.columns:\n",
    "        df['TD (degC)'].replace(na_values, np.nan, inplace=True)\n",
    "        \n",
    "        # Fill NaN values wrapped with two non-NaN values:\n",
    "        nan_wrapped_count = 0\n",
    "        td_values = df['TD (degC)'].values\n",
    "        for i in range(1, len(td_values) - 1):\n",
    "            if pd.isna(td_values[i]) and not pd.isna(td_values[i - 1]) and not pd.isna(td_values[i + 1]):\n",
    "                try:\n",
    "                    td_values[i] = (float(td_values[i - 1]) + float(td_values[i + 1])) / 2\n",
    "                    nan_wrapped_count += 1\n",
    "                except ValueError as e:\n",
    "                    print(f\"ValueError encountered in {df_name} at index {i}: {e}\")\n",
    "        print(f\"Number of NaN values wrapped with two non-NaN values and filled in {df_name} station: {nan_wrapped_count} which is {nan_wrapped_count / len(df) * 100}% of the data\")"
   ]
  },
  {
   "cell_type": "code",
   "execution_count": null,
   "metadata": {},
   "outputs": [],
   "source": [
    "na_values = ['None', 'null', '-', '', ' ', 'NaN', 'nan', 'NAN']\n",
    "\n",
    "for df_name, df in tqdm(dataframes.items(), desc=\"Processing DataFrames\"):\n",
    "    if 'TDmax (degC)' in df.columns:\n",
    "        df['TDmax (degC)'].replace(na_values, np.nan, inplace=True)\n",
    "        \n",
    "        # Fill NaN values wrapped with two non-NaN values:\n",
    "        nan_wrapped_count = 0\n",
    "        td_values = df['TDmax (degC)'].values\n",
    "        for i in range(1, len(td_values) - 1):\n",
    "            if pd.isna(td_values[i]) and not pd.isna(td_values[i - 1]) and not pd.isna(td_values[i + 1]):\n",
    "                try:\n",
    "                    td_values[i] = (float(td_values[i - 1]) + float(td_values[i + 1])) / 2\n",
    "                    nan_wrapped_count += 1\n",
    "                except ValueError as e:\n",
    "                    print(f\"ValueError encountered in {df_name} at index {i}: {e}\")\n",
    "        print(f\"Number of NaN values wrapped with two non-NaN values and filled in {df_name} station: {nan_wrapped_count} which is {nan_wrapped_count / len(df) * 100}% of the data\")"
   ]
  },
  {
   "cell_type": "code",
   "execution_count": null,
   "metadata": {},
   "outputs": [],
   "source": [
    "na_values = ['None', 'null', '-', '', ' ', 'NaN', 'nan', 'NAN']\n",
    "\n",
    "for df_name, df in tqdm(dataframes.items(), desc=\"Processing DataFrames\"):\n",
    "    if 'TDmin (degC)' in df.columns:\n",
    "        df['TDmin (degC)'].replace(na_values, np.nan, inplace=True)\n",
    "        \n",
    "        # Fill NaN values wrapped with two non-NaN values:\n",
    "        nan_wrapped_count = 0\n",
    "        td_values = df['TDmin (degC)'].values\n",
    "        for i in range(1, len(td_values) - 1):\n",
    "            if pd.isna(td_values[i]) and not pd.isna(td_values[i - 1]) and not pd.isna(td_values[i + 1]):\n",
    "                try:\n",
    "                    td_values[i] = (float(td_values[i - 1]) + float(td_values[i + 1])) / 2\n",
    "                    nan_wrapped_count += 1\n",
    "                except ValueError as e:\n",
    "                    print(f\"ValueError encountered in {df_name} at index {i}: {e}\")\n",
    "        print(f\"Number of NaN values wrapped with two non-NaN values and filled in {df_name} station: {nan_wrapped_count} which is {nan_wrapped_count / len(df) * 100}% of the data\")"
   ]
  },
  {
   "cell_type": "code",
   "execution_count": null,
   "metadata": {},
   "outputs": [],
   "source": [
    "na_values = ['None', 'null', '-', '', ' ', 'NaN', 'nan', 'NAN']\n",
    "\n",
    "for df_name, df in tqdm(dataframes.items(), desc=\"Processing DataFrames\"):\n",
    "    if 'RH (%)' in df.columns:\n",
    "        df['RH (%)'].replace(na_values, np.nan, inplace=True)\n",
    "        \n",
    "        # Fill NaN values wrapped with two non-NaN values:\n",
    "        nan_wrapped_count = 0\n",
    "        td_values = df['RH (%)'].values\n",
    "        for i in range(1, len(td_values) - 1):\n",
    "            if pd.isna(td_values[i]) and not pd.isna(td_values[i - 1]) and not pd.isna(td_values[i + 1]) and not pd.isna(td_values[i - 2]) and not pd.isna(td_values[i + 2]):\n",
    "                trend_before = td_values[i - 1] < td_values[i - 2] if i - 2 >= 0 else None\n",
    "                trend_after = td_values[i + 1] < td_values[i + 2] if i + 2 < len(td_values) else None\n",
    "                if trend_before == trend_after:\n",
    "                    try:\n",
    "                        td_values[i] = (float(td_values[i - 1]) + float(td_values[i + 1])) / 2\n",
    "                        nan_wrapped_count += 1\n",
    "                    except ValueError as e:\n",
    "                        print(f\"ValueError encountered in {df_name} at index {i}: {e}\")\n",
    "        print(f\"Number of NaN values wrapped with two non-NaN values and filled in {df_name} station: {nan_wrapped_count} which is {nan_wrapped_count / len(df) * 100}% of the data\")"
   ]
  },
  {
   "cell_type": "markdown",
   "metadata": {},
   "source": [
    "### 2 missing values together:"
   ]
  },
  {
   "cell_type": "code",
   "execution_count": null,
   "metadata": {},
   "outputs": [],
   "source": [
    "na_values = ['None', 'null', '-', '', ' ', 'NaN', 'nan', 'NAN']\n",
    "column_to_fill = 'RH (%)'\n",
    "\n",
    "for df_name, df in tqdm(dataframes.items(), desc=\"Processing DataFrames\"):\n",
    "    if column_to_fill in df.columns:\n",
    "        df[column_to_fill].replace(na_values, np.nan, inplace=True)\n",
    "        \n",
    "        # Fill two consecutive NaN values wrapped with two non-NaN values:\n",
    "        nan_wrapped_count = 0\n",
    "        td_values = df[column_to_fill].values\n",
    "        i = 2  # Start from index 2 to ensure i-2 is valid\n",
    "        while i < len(td_values) - 2:\n",
    "            if (pd.isna(td_values[i]) and pd.isna(td_values[i+1]) and\n",
    "                not pd.isna(td_values[i - 2]) and not pd.isna(td_values[i - 1]) and\n",
    "                not pd.isna(td_values[i + 2]) and not pd.isna(td_values[i + 3])):\n",
    "                \n",
    "                val1 = float(td_values[i - 2])\n",
    "                val2 = float(td_values[i - 1])\n",
    "                val3 = float(td_values[i + 2])\n",
    "                val4 = float(td_values[i + 3])\n",
    "                \n",
    "                # Determine trends\n",
    "                trend_before = val2 < val1\n",
    "                trend_after = val4 < val3\n",
    "                if trend_before == trend_after:\n",
    "                    try:\n",
    "                        diff = val3 - val2\n",
    "                        td_values[i] = val2 + diff / 3\n",
    "                        td_values[i + 1] = val2 + diff * 2 / 3\n",
    "                        nan_wrapped_count += 2\n",
    "                        i += 2  # Skip the next index as it's already processed\n",
    "                        continue\n",
    "                    except ValueError as e:\n",
    "                        print(f\"ValueError encountered in {df_name} at indices {i} and {i+1}: {e}\")\n",
    "            i += 1\n",
    "        print(f\"Number of NaN values wrapped with two non-NaN values and filled in {df_name} station: {nan_wrapped_count} which is {nan_wrapped_count / len(df) * 100:.2f}% of the data\")"
   ]
  },
  {
   "cell_type": "markdown",
   "metadata": {},
   "source": [
    "### 3 missing values together:"
   ]
  },
  {
   "cell_type": "code",
   "execution_count": null,
   "metadata": {},
   "outputs": [],
   "source": [
    "na_values = ['None', 'null', '-', '', ' ', 'NaN', 'nan', 'NAN']\n",
    "column_to_fill = 'RH (%)'\n",
    "\n",
    "for df_name, df in tqdm(dataframes.items(), desc=\"Processing DataFrames\"):\n",
    "    if column_to_fill in df.columns:\n",
    "        df[column_to_fill].replace(na_values, np.nan, inplace=True)\n",
    "        \n",
    "        # Fill three consecutive NaN values wrapped with two non-NaN values:\n",
    "        nan_wrapped_count = 0\n",
    "        td_values = df[column_to_fill].values\n",
    "        i = 2  # Start from index 2 to ensure i-2 is valid\n",
    "        while i < len(td_values) - 4:\n",
    "            if (pd.isna(td_values[i]) and pd.isna(td_values[i+1]) and pd.isna(td_values[i+2]) and\n",
    "                not pd.isna(td_values[i - 2]) and not pd.isna(td_values[i - 1]) and\n",
    "                not pd.isna(td_values[i + 3]) and not pd.isna(td_values[i + 4])):\n",
    "                \n",
    "                val1 = float(td_values[i - 2])\n",
    "                val2 = float(td_values[i - 1])\n",
    "                val3 = float(td_values[i + 3])\n",
    "                val4 = float(td_values[i + 4])\n",
    "                \n",
    "                # Determine trends\n",
    "                trend_before = val2 < val1\n",
    "                trend_after = val4 < val3\n",
    "                if trend_before == trend_after:\n",
    "                    try:\n",
    "                        diff = val3 - val2\n",
    "                        td_values[i] = val2 + diff / 4\n",
    "                        td_values[i + 1] = val2 + (diff * 2) / 4\n",
    "                        td_values[i + 2] = val2 + (diff * 3) / 4\n",
    "                        nan_wrapped_count += 3\n",
    "                        i += 3  # Skip the next indices as they're already processed\n",
    "                        continue\n",
    "                    except ValueError as e:\n",
    "                        print(f\"ValueError encountered in {df_name} at indices {i}, {i+1}, and {i+2}: {e}\")\n",
    "            i += 1\n",
    "        print(f\"Number of NaN values wrapped with three non-NaN values and filled in {df_name} station: {nan_wrapped_count} which is {nan_wrapped_count / len(df) * 100:.2f}% of the data\")"
   ]
  },
  {
   "cell_type": "markdown",
   "metadata": {},
   "source": [
    "## Wind"
   ]
  },
  {
   "cell_type": "code",
   "execution_count": 12,
   "metadata": {},
   "outputs": [],
   "source": []
  },
  {
   "cell_type": "markdown",
   "metadata": {},
   "source": [
    "# Show and Save"
   ]
  },
  {
   "cell_type": "markdown",
   "metadata": {},
   "source": [
    "## Display"
   ]
  },
  {
   "cell_type": "markdown",
   "metadata": {},
   "source": [
    "### heads:"
   ]
  },
  {
   "cell_type": "code",
   "execution_count": null,
   "metadata": {},
   "outputs": [],
   "source": [
    "# Display the head of all dataframes in the dataframes dictionary\n",
    "for df_name, df in dataframes.items():\n",
    "    print(f\"DataFrame: {df_name}\")\n",
    "    display(df.head())"
   ]
  },
  {
   "cell_type": "markdown",
   "metadata": {},
   "source": [
    "### time:"
   ]
  },
  {
   "cell_type": "code",
   "execution_count": null,
   "metadata": {},
   "outputs": [],
   "source": [
    "fig, ax = plt.subplots(1, 2, figsize=(12, 6))\n",
    "\n",
    "# Plot the Day sin and cos on the first subplot\n",
    "ax[0].plot(np.array(df['Day sin'])[:48*6])\n",
    "ax[0].plot(np.array(df['Day cos'])[:48*6])\n",
    "ax[0].legend(['Day sin', 'Day cos'])\n",
    "ax[0].set_xlabel('Time [h]')\n",
    "ax[0].set_title('Time of 48 hours (2 days) signal')\n",
    "\n",
    "# Plot the Year sin and cos on the second subplot\n",
    "ax[1].plot(np.array(df['Year sin'])[:365*2*24*6])\n",
    "ax[1].plot(np.array(df['Year cos'])[:365*2*24*6])\n",
    "ax[1].legend(['Year sin', 'Year cos'])\n",
    "ax[1].set_xlabel('Time [h]')\n",
    "ax[1].set_title('Time of 2 years signal')\n",
    "plt.show()"
   ]
  },
  {
   "cell_type": "markdown",
   "metadata": {},
   "source": [
    "## Save Changes"
   ]
  },
  {
   "cell_type": "code",
   "execution_count": 24,
   "metadata": {},
   "outputs": [
    {
     "name": "stderr",
     "output_type": "stream",
     "text": [
      "Saving DataFrames: 100%|██████████| 70/70 [12:30<00:00, 10.72s/it]\n"
     ]
    }
   ],
   "source": [
    "# Save the dataframes back to CSV files with the changes made\n",
    "for df_name, df in tqdm(dataframes.items(), desc=\"Saving DataFrames\"):\n",
    "    file_path = os.path.join(DATA_DIRECTORY, f\"{df_name}.csv\")\n",
    "    df.to_csv(file_path, index=False)"
   ]
  }
 ],
 "metadata": {
  "kernelspec": {
   "display_name": "Python 3",
   "language": "python",
   "name": "python3"
  },
  "language_info": {
   "codemirror_mode": {
    "name": "ipython",
    "version": 3
   },
   "file_extension": ".py",
   "mimetype": "text/x-python",
   "name": "python",
   "nbconvert_exporter": "python",
   "pygments_lexer": "ipython3",
   "version": "3.11.2"
  }
 },
 "nbformat": 4,
 "nbformat_minor": 2
}

{
 "cells": [
  {
   "cell_type": "markdown",
   "metadata": {},
   "source": [
    "## pips and includes"
   ]
  },
  {
   "cell_type": "code",
   "execution_count": 1,
   "metadata": {},
   "outputs": [],
   "source": [
    "import pandas as pd\n",
    "import requests\n",
    "import json\n",
    "from datetime import datetime\n",
    "import os"
   ]
  },
  {
   "cell_type": "markdown",
   "metadata": {},
   "source": [
    "## Constants"
   ]
  },
  {
   "cell_type": "code",
   "execution_count": 2,
   "metadata": {},
   "outputs": [],
   "source": [
    "BEGINING_OF_YEAR = \"01010000\"\n",
    "ENDING_OF_YEAR = \"12312350\"\n",
    "START_YEAR = 2000\n",
    "END_YEAR = 2023\n",
    "\n",
    "DATA_DIRECTORY = \"../data/\"\n",
    "\n",
    "columns = [\n",
    "    \"Date Time\", \"BP (hPa)\", \"DiffR (w/m^2)\", \"Grad (w/m^2)\", \"NIP (w/m^2)\", \"RH (%)\",\n",
    "    \"TD (degC)\", \"TDmax (degC)\", \"TDmin (degC)\", \"WD (deg)\", \"WDmax (deg)\",\n",
    "    \"WS (m/s)\", \"Ws1mm (m/s)\", \"Ws10mm (m/s)\", \"WSmax (m/s)\", \"STDwd (deg)\"\n",
    "]\n",
    "\n",
    "column_pairs = [\n",
    "    (\"date\", \"Date Time\"),\n",
    "    (\"BP\", \"BP (hPa)\"),\n",
    "    (\"DiffR\", \"DiffR (w/m^2)\"),\n",
    "    (\"Grad\", \"Grad (w/m^2)\"),\n",
    "    (\"NIP\", \"NIP (w/m^2)\"),\n",
    "    (\"RH\", \"RH (%)\"),\n",
    "    (\"TD\", \"TD (degC)\"),\n",
    "    (\"TDmax\", \"TDmax (degC)\"),\n",
    "    (\"TDmin\", \"TDmin (degC)\"),\n",
    "    (\"WD\", \"WD (deg)\"),\n",
    "    (\"WDmax\", \"WDmax (deg)\"),\n",
    "    (\"WS\", \"WS (m/s)\"),\n",
    "    (\"WS1mm\", \"Ws1mm (m/s)\"),\n",
    "    (\"Ws10mm\", \"Ws10mm (m/s)\"),\n",
    "    (\"WSmax\", \"WSmax (m/s)\"),\n",
    "    (\"STDwd\", \"STDwd (deg)\")\n",
    "]\n"
   ]
  },
  {
   "cell_type": "markdown",
   "metadata": {},
   "source": [
    "## Utills functions"
   ]
  },
  {
   "cell_type": "markdown",
   "metadata": {},
   "source": [
    "### processing:"
   ]
  },
  {
   "cell_type": "code",
   "execution_count": 3,
   "metadata": {},
   "outputs": [],
   "source": [
    "def remove_unwanted_keys(data):\n",
    "    # Remove 'sid', 'sname', and 'date_for_sort' from each record in data\n",
    "    for record in data['data']['records']:\n",
    "        if 'date_for_sort' in record:\n",
    "            del record['date_for_sort']\n",
    "        if 'sid' in record:\n",
    "            del record['sid']\n",
    "        if 'TW' in record:\n",
    "            del record['TW']\n",
    "        if 'sname' in record:\n",
    "            del record['sname']\n",
    "\n",
    "def replace_column_names(data):\n",
    "    # Replace the names of the columns by the pairs in column_pairs\n",
    "    for record in data['data']['records']:\n",
    "        for new_name, old_name in column_pairs:\n",
    "            if new_name in record:\n",
    "                record[old_name] = record.pop(new_name)\n",
    "\n",
    "def process_data(data):\n",
    "    remove_unwanted_keys(data)\n",
    "    replace_column_names(data)\n",
    "\n",
    "def save_to_csv(data, filename):\n",
    "    import csv\n",
    "    # Extract the column names from the first record\n",
    "    column_names = data['data']['records'][0].keys()\n",
    "    # Open the file in write mode\n",
    "    with open(DATA_DIRECTORY+filename, mode='w', newline='') as file:\n",
    "        writer = csv.DictWriter(file, fieldnames=column_names)\n",
    "        # Write the header\n",
    "        writer.writeheader()\n",
    "        # Write the data\n",
    "        for record in data['data']['records']:\n",
    "            writer.writerow(record)"
   ]
  },
  {
   "cell_type": "markdown",
   "metadata": {},
   "source": [
    "### fetching:"
   ]
  },
  {
   "cell_type": "code",
   "execution_count": 4,
   "metadata": {},
   "outputs": [],
   "source": [
    "def fetch_weather_data(station_id, start_date, end_date):\n",
    "    url = f\"https://ims.gov.il/he/envista_station_all_data_time_range/{station_id}/BP%26DiffR%26Grad%26NIP%26RH%26TD%26TDmax%26TDmin%26TW%26WD%26WDmax%26WS%26WS1mm%26Ws10mm%26Ws10maxEnd%26WSmax%26STDwd%26Rain/{start_date}/{end_date}/1/S\"\n",
    "    response = requests.get(url)\n",
    "    data = json.loads(response.content)\n",
    "    return data\n",
    "\n",
    "\n",
    "def fetch_data_for_station(station_id, start_year, end_year):\n",
    "    all_data = []\n",
    "    for year in range(start_year, end_year + 1):\n",
    "        today_fore0 = f\"{year}\" + BEGINING_OF_YEAR\n",
    "        today_fore23 = f\"{year}\" + ENDING_OF_YEAR\n",
    "        data = fetch_weather_data(station_id, today_fore0, today_fore23)\n",
    "        process_data(data)\n",
    "        # Convert the data to a DataFrame and append to the list\n",
    "        df = pd.DataFrame(data['data']['records'])\n",
    "        all_data.append(df)\n",
    "    # Concatenate all DataFrames\n",
    "    combined_df = pd.concat(all_data, ignore_index=True)\n",
    "    return combined_df\n",
    "\n",
    "\n",
    "def get_and_save_station_data(station_name, station_id, start_year, end_year):\n",
    "    # Get all data for the station\n",
    "    combined_df = fetch_data_for_station(station_id, start_year, end_year)\n",
    "    # Convert the DataFrame back to the dictionary format expected by process_data\n",
    "    data = {'data': {'records': combined_df.to_dict(orient='records')}}\n",
    "    # Process the data\n",
    "    process_data(data)\n",
    "    # Save the data to a CSV file\n",
    "    filename = f\"{station_name}_data_{start_year}_{end_year}.csv\"\n",
    "    save_to_csv(data, filename)\n",
    "\n"
   ]
  },
  {
   "cell_type": "markdown",
   "metadata": {},
   "source": [
    "## Download from IMS"
   ]
  },
  {
   "cell_type": "markdown",
   "metadata": {},
   "source": [
    "### download all north data:"
   ]
  },
  {
   "cell_type": "code",
   "execution_count": 5,
   "metadata": {},
   "outputs": [],
   "source": [
    "# Load stations_ids.json\n",
    "with open('stations_ids.json', 'r', encoding='utf-8') as f:\n",
    "    stations_ids = json.load(f)\n",
    "\n",
    "# Load stations_details.json\n",
    "with open('stations_details.json', 'r', encoding='utf-8') as f:\n",
    "    stations_details = json.load(f)\n",
    "\n",
    "# Iterate over all stations in area 'N' and use the function get_and_save_station_data\n",
    "for station_id, station_info in stations_details.items():\n",
    "    if station_info.get('area') == 'N':\n",
    "        station_name = station_info.get('name')\n",
    "        if station_name in stations_ids:\n",
    "            filename = f\"{station_name}_data_{START_YEAR}_{END_YEAR}.csv\"\n",
    "            if not os.path.exists(filename):\n",
    "                get_and_save_station_data(station_name, stations_ids[station_name], START_YEAR, END_YEAR)\n"
   ]
  }
 ],
 "metadata": {
  "kernelspec": {
   "display_name": "Python 3",
   "language": "python",
   "name": "python3"
  },
  "language_info": {
   "codemirror_mode": {
    "name": "ipython",
    "version": 3
   },
   "file_extension": ".py",
   "mimetype": "text/x-python",
   "name": "python",
   "nbconvert_exporter": "python",
   "pygments_lexer": "ipython3",
   "version": "3.11.2"
  }
 },
 "nbformat": 4,
 "nbformat_minor": 2
}

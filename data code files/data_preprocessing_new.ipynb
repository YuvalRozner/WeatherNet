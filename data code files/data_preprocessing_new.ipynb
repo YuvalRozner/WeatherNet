{
 "cells": [
  {
   "cell_type": "markdown",
   "metadata": {},
   "source": [
    "# Before"
   ]
  },
  {
   "cell_type": "markdown",
   "metadata": {},
   "source": [
    "## pips and includes"
   ]
  },
  {
   "cell_type": "code",
   "execution_count": 30,
   "metadata": {},
   "outputs": [],
   "source": [
    "import pandas as pd\n",
    "import requests\n",
    "import json\n",
    "from datetime import datetime\n",
    "import os\n",
    "import numpy as np\n",
    "import matplotlib.pyplot as plt"
   ]
  },
  {
   "cell_type": "markdown",
   "metadata": {},
   "source": [
    "## Constants"
   ]
  },
  {
   "cell_type": "code",
   "execution_count": 28,
   "metadata": {},
   "outputs": [],
   "source": [
    "DATA_DIRECTORY = \"../data/\""
   ]
  },
  {
   "cell_type": "markdown",
   "metadata": {},
   "source": [
    "## load csv files:"
   ]
  },
  {
   "cell_type": "code",
   "execution_count": 7,
   "metadata": {},
   "outputs": [],
   "source": [
    "data_files = [f for f in os.listdir(DATA_DIRECTORY) if f.endswith('.csv')]\n",
    "\n",
    "dataframes = {}\n",
    "for file in data_files:\n",
    "    file_path = os.path.join(DATA_DIRECTORY, file)\n",
    "    df_name = os.path.splitext(file)[0]\n",
    "    dataframes[df_name] = pd.read_csv(file_path, low_memory=False)\n"
   ]
  },
  {
   "cell_type": "markdown",
   "metadata": {},
   "source": [
    "# Preprocessing"
   ]
  },
  {
   "cell_type": "markdown",
   "metadata": {},
   "source": [
    "## Remove unecesery columns"
   ]
  },
  {
   "cell_type": "markdown",
   "metadata": {},
   "source": [
    "### remove 'Time' column:"
   ]
  },
  {
   "cell_type": "code",
   "execution_count": 13,
   "metadata": {},
   "outputs": [],
   "source": [
    "for df_name, df in dataframes.items():\n",
    "    if 'Time' in df.columns:\n",
    "        df.drop(columns=['Time'], inplace=True)"
   ]
  },
  {
   "cell_type": "markdown",
   "metadata": {},
   "source": [
    "### remove radiation columns:"
   ]
  },
  {
   "cell_type": "code",
   "execution_count": 16,
   "metadata": {},
   "outputs": [],
   "source": [
    "columns_to_remove = ['Grad (w/m^2)', 'DiffR (w/m^2)', 'NIP (w/m^2)']\n",
    "\n",
    "for df_name, df in dataframes.items():\n",
    "    df.drop(columns=[col for col in columns_to_remove if col in df.columns], inplace=True)\n"
   ]
  },
  {
   "cell_type": "markdown",
   "metadata": {},
   "source": [
    "### remove 'BP' column:"
   ]
  },
  {
   "cell_type": "code",
   "execution_count": 18,
   "metadata": {},
   "outputs": [],
   "source": [
    "for df_name, df in dataframes.items():\n",
    "    if 'BP (hPa)' in df.columns:\n",
    "        df.drop(columns=['BP (hPa)'], inplace=True)"
   ]
  },
  {
   "cell_type": "markdown",
   "metadata": {},
   "source": [
    "## Time"
   ]
  },
  {
   "cell_type": "markdown",
   "metadata": {},
   "source": [
    "### format the time:"
   ]
  },
  {
   "cell_type": "code",
   "execution_count": 22,
   "metadata": {},
   "outputs": [],
   "source": [
    "for df_name, df in dataframes.items():\n",
    "    if 'Date Time' in df.columns:\n",
    "        df['Date Time'] = pd.to_datetime(df.pop('Date Time'), format=\"%d/%m/%Y %H:%M\")"
   ]
  },
  {
   "cell_type": "markdown",
   "metadata": {},
   "source": [
    "### add column with the year:"
   ]
  },
  {
   "cell_type": "code",
   "execution_count": 24,
   "metadata": {},
   "outputs": [],
   "source": [
    "for df_name, df in dataframes.items():\n",
    "    if 'Date Time' in df.columns:\n",
    "        df['Year'] = df['Date Time'].dt.year"
   ]
  },
  {
   "cell_type": "markdown",
   "metadata": {},
   "source": [
    "### Time cicles (days ans years):"
   ]
  },
  {
   "cell_type": "code",
   "execution_count": 29,
   "metadata": {},
   "outputs": [],
   "source": [
    "day = 24*60*60\n",
    "year = (365.2425)*day\n",
    "\n",
    "for df_name, df in dataframes.items():\n",
    "    if 'Date Time' in df.columns:\n",
    "        timestamp_s = df['Date Time'].map(pd.Timestamp.timestamp)\n",
    "        df['Day sin'] = np.sin(timestamp_s * (2 * np.pi / day))\n",
    "        df['Day cos'] = np.cos(timestamp_s * (2 * np.pi / day))\n",
    "        df['Year sin'] = np.sin(timestamp_s * (2 * np.pi / year))\n",
    "        df['Year cos'] = np.cos(timestamp_s * (2 * np.pi / year))\n",
    "        df.drop(columns=['Date Time'], inplace=True)\n"
   ]
  },
  {
   "cell_type": "markdown",
   "metadata": {},
   "source": [
    "# Show and Save"
   ]
  },
  {
   "cell_type": "markdown",
   "metadata": {},
   "source": [
    "## Display"
   ]
  },
  {
   "cell_type": "markdown",
   "metadata": {},
   "source": [
    "### heads:"
   ]
  },
  {
   "cell_type": "code",
   "execution_count": null,
   "metadata": {},
   "outputs": [],
   "source": [
    "# Display the head of all dataframes in the dataframes dictionary\n",
    "for df_name, df in dataframes.items():\n",
    "    print(f\"DataFrame: {df_name}\")\n",
    "    display(df.head())"
   ]
  },
  {
   "cell_type": "markdown",
   "metadata": {},
   "source": [
    "### time:"
   ]
  },
  {
   "cell_type": "code",
   "execution_count": null,
   "metadata": {},
   "outputs": [],
   "source": [
    "fig, ax = plt.subplots(1, 2, figsize=(12, 6))\n",
    "\n",
    "# Plot the Day sin and cos on the first subplot\n",
    "ax[0].plot(np.array(df['Day sin'])[:48*6])\n",
    "ax[0].plot(np.array(df['Day cos'])[:48*6])\n",
    "ax[0].legend(['Day sin', 'Day cos'])\n",
    "ax[0].set_xlabel('Time [h]')\n",
    "ax[0].set_title('Time of 48 hours (2 days) signal')\n",
    "\n",
    "# Plot the Year sin and cos on the second subplot\n",
    "ax[1].plot(np.array(df['Year sin'])[:365*2*24*6])\n",
    "ax[1].plot(np.array(df['Year cos'])[:365*2*24*6])\n",
    "ax[1].legend(['Year sin', 'Year cos'])\n",
    "ax[1].set_xlabel('Time [h]')\n",
    "ax[1].set_title('Time of 2 years signal')\n",
    "plt.show()"
   ]
  },
  {
   "cell_type": "markdown",
   "metadata": {},
   "source": [
    "## Save Changes"
   ]
  },
  {
   "cell_type": "code",
   "execution_count": 42,
   "metadata": {},
   "outputs": [],
   "source": [
    "# Save the dataframes back to CSV files with the changes made\n",
    "for df_name, df in dataframes.items():\n",
    "    file_path = os.path.join(DATA_DIRECTORY, f\"{df_name}.csv\")\n",
    "    df.to_csv(file_path, index=False)"
   ]
  }
 ],
 "metadata": {
  "kernelspec": {
   "display_name": "Python 3",
   "language": "python",
   "name": "python3"
  },
  "language_info": {
   "codemirror_mode": {
    "name": "ipython",
    "version": 3
   },
   "file_extension": ".py",
   "mimetype": "text/x-python",
   "name": "python",
   "nbconvert_exporter": "python",
   "pygments_lexer": "ipython3",
   "version": "3.11.2"
  }
 },
 "nbformat": 4,
 "nbformat_minor": 2
}

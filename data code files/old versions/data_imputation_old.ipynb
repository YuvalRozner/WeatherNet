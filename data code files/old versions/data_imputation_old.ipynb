{
 "cells": [
  {
   "cell_type": "code",
   "execution_count": 26,
   "metadata": {},
   "outputs": [],
   "source": [
    "import matplotlib.pyplot as plt\n",
    "import numpy as np\n",
    "import pandas as pd"
   ]
  },
  {
   "cell_type": "markdown",
   "metadata": {},
   "source": [
    "## CSV Import"
   ]
  },
  {
   "cell_type": "code",
   "execution_count": 27,
   "metadata": {},
   "outputs": [
    {
     "data": {
      "text/html": [
       "<div>\n",
       "<style scoped>\n",
       "    .dataframe tbody tr th:only-of-type {\n",
       "        vertical-align: middle;\n",
       "    }\n",
       "\n",
       "    .dataframe tbody tr th {\n",
       "        vertical-align: top;\n",
       "    }\n",
       "\n",
       "    .dataframe thead th {\n",
       "        text-align: right;\n",
       "    }\n",
       "</style>\n",
       "<table border=\"1\" class=\"dataframe\">\n",
       "  <thead>\n",
       "    <tr style=\"text-align: right;\">\n",
       "      <th></th>\n",
       "      <th>BP (hPa)</th>\n",
       "      <th>RH (%)</th>\n",
       "      <th>TD (degC)</th>\n",
       "      <th>TDmax (degC)</th>\n",
       "      <th>TDmin (degC)</th>\n",
       "      <th>WDmax (deg)</th>\n",
       "      <th>Ws1mm (m/s)</th>\n",
       "      <th>Ws10mm (m/s)</th>\n",
       "      <th>STDwd (deg)</th>\n",
       "      <th>Wx</th>\n",
       "      <th>Wy</th>\n",
       "      <th>max Wx</th>\n",
       "      <th>max Wy</th>\n",
       "      <th>Day sin</th>\n",
       "      <th>Day cos</th>\n",
       "      <th>Year sin</th>\n",
       "      <th>Year cos</th>\n",
       "    </tr>\n",
       "  </thead>\n",
       "  <tbody>\n",
       "    <tr>\n",
       "      <th>0</th>\n",
       "      <td>NaN</td>\n",
       "      <td>NaN</td>\n",
       "      <td>17.3</td>\n",
       "      <td>17.4</td>\n",
       "      <td>17.3</td>\n",
       "      <td>97.0</td>\n",
       "      <td>2.4</td>\n",
       "      <td>1.7</td>\n",
       "      <td>9.8</td>\n",
       "      <td>-0.332659</td>\n",
       "      <td>1.565036</td>\n",
       "      <td>-0.582153</td>\n",
       "      <td>2.738813</td>\n",
       "      <td>-5.461913e-12</td>\n",
       "      <td>1.000000</td>\n",
       "      <td>-0.004731</td>\n",
       "      <td>0.999989</td>\n",
       "    </tr>\n",
       "    <tr>\n",
       "      <th>1</th>\n",
       "      <td>NaN</td>\n",
       "      <td>NaN</td>\n",
       "      <td>17.0</td>\n",
       "      <td>17.0</td>\n",
       "      <td>16.9</td>\n",
       "      <td>58.0</td>\n",
       "      <td>2.9</td>\n",
       "      <td>2.2</td>\n",
       "      <td>14.2</td>\n",
       "      <td>0.400699</td>\n",
       "      <td>2.061417</td>\n",
       "      <td>0.686912</td>\n",
       "      <td>3.533858</td>\n",
       "      <td>2.588190e-01</td>\n",
       "      <td>0.965926</td>\n",
       "      <td>-0.004014</td>\n",
       "      <td>0.999992</td>\n",
       "    </tr>\n",
       "    <tr>\n",
       "      <th>2</th>\n",
       "      <td>NaN</td>\n",
       "      <td>NaN</td>\n",
       "      <td>17.3</td>\n",
       "      <td>17.3</td>\n",
       "      <td>17.2</td>\n",
       "      <td>92.0</td>\n",
       "      <td>2.1</td>\n",
       "      <td>2.1</td>\n",
       "      <td>16.2</td>\n",
       "      <td>-0.118586</td>\n",
       "      <td>1.695859</td>\n",
       "      <td>-0.167416</td>\n",
       "      <td>2.394154</td>\n",
       "      <td>5.000000e-01</td>\n",
       "      <td>0.866025</td>\n",
       "      <td>-0.003297</td>\n",
       "      <td>0.999995</td>\n",
       "    </tr>\n",
       "    <tr>\n",
       "      <th>3</th>\n",
       "      <td>NaN</td>\n",
       "      <td>NaN</td>\n",
       "      <td>16.7</td>\n",
       "      <td>16.8</td>\n",
       "      <td>16.7</td>\n",
       "      <td>75.0</td>\n",
       "      <td>1.8</td>\n",
       "      <td>1.9</td>\n",
       "      <td>8.6</td>\n",
       "      <td>0.234652</td>\n",
       "      <td>1.481533</td>\n",
       "      <td>0.312869</td>\n",
       "      <td>1.975377</td>\n",
       "      <td>7.071068e-01</td>\n",
       "      <td>0.707107</td>\n",
       "      <td>-0.002580</td>\n",
       "      <td>0.999997</td>\n",
       "    </tr>\n",
       "    <tr>\n",
       "      <th>4</th>\n",
       "      <td>NaN</td>\n",
       "      <td>NaN</td>\n",
       "      <td>16.6</td>\n",
       "      <td>16.6</td>\n",
       "      <td>16.5</td>\n",
       "      <td>84.0</td>\n",
       "      <td>2.0</td>\n",
       "      <td>1.8</td>\n",
       "      <td>9.6</td>\n",
       "      <td>-0.094205</td>\n",
       "      <td>1.797533</td>\n",
       "      <td>-0.125606</td>\n",
       "      <td>2.396711</td>\n",
       "      <td>8.660254e-01</td>\n",
       "      <td>0.500000</td>\n",
       "      <td>-0.001864</td>\n",
       "      <td>0.999998</td>\n",
       "    </tr>\n",
       "  </tbody>\n",
       "</table>\n",
       "</div>"
      ],
      "text/plain": [
       "   BP (hPa)  RH (%)  TD (degC)  TDmax (degC)  TDmin (degC)  WDmax (deg)  \\\n",
       "0       NaN     NaN       17.3          17.4          17.3         97.0   \n",
       "1       NaN     NaN       17.0          17.0          16.9         58.0   \n",
       "2       NaN     NaN       17.3          17.3          17.2         92.0   \n",
       "3       NaN     NaN       16.7          16.8          16.7         75.0   \n",
       "4       NaN     NaN       16.6          16.6          16.5         84.0   \n",
       "\n",
       "   Ws1mm (m/s)  Ws10mm (m/s)  STDwd (deg)        Wx        Wy    max Wx  \\\n",
       "0          2.4           1.7          9.8 -0.332659  1.565036 -0.582153   \n",
       "1          2.9           2.2         14.2  0.400699  2.061417  0.686912   \n",
       "2          2.1           2.1         16.2 -0.118586  1.695859 -0.167416   \n",
       "3          1.8           1.9          8.6  0.234652  1.481533  0.312869   \n",
       "4          2.0           1.8          9.6 -0.094205  1.797533 -0.125606   \n",
       "\n",
       "     max Wy       Day sin   Day cos  Year sin  Year cos  \n",
       "0  2.738813 -5.461913e-12  1.000000 -0.004731  0.999989  \n",
       "1  3.533858  2.588190e-01  0.965926 -0.004014  0.999992  \n",
       "2  2.394154  5.000000e-01  0.866025 -0.003297  0.999995  \n",
       "3  1.975377  7.071068e-01  0.707107 -0.002580  0.999997  \n",
       "4  2.396711  8.660254e-01  0.500000 -0.001864  0.999998  "
      ]
     },
     "execution_count": 27,
     "metadata": {},
     "output_type": "execute_result"
    }
   ],
   "source": [
    "#loading data\n",
    "path = 'data\\JER_data_fixed.csv'\n",
    "df = pd.read_csv(path)\n",
    "df.head()"
   ]
  },
  {
   "cell_type": "markdown",
   "metadata": {},
   "source": [
    "## Missing Data Handle"
   ]
  },
  {
   "cell_type": "markdown",
   "metadata": {},
   "source": [
    "### Analysis "
   ]
  },
  {
   "cell_type": "code",
   "execution_count": 28,
   "metadata": {},
   "outputs": [
    {
     "name": "stdout",
     "output_type": "stream",
     "text": [
      "BP (hPa)        49630\n",
      "RH (%)          49886\n",
      "TD (degC)         362\n",
      "TDmax (degC)      357\n",
      "TDmin (degC)      360\n",
      "WDmax (deg)       261\n",
      "Ws1mm (m/s)       470\n",
      "Ws10mm (m/s)      462\n",
      "STDwd (deg)       228\n",
      "Wx                473\n",
      "Wy                473\n",
      "max Wx            471\n",
      "max Wy            471\n",
      "Day sin             0\n",
      "Day cos             0\n",
      "Year sin            0\n",
      "Year cos            0\n",
      "dtype: int64\n",
      "\n",
      "Index([   569,   1810,   2674,   4783,   5767,   7473,   8674,   9004,   9224,\n",
      "         9225,\n",
      "       ...\n",
      "       184474, 184475, 186513, 190377, 190378, 194066, 196034, 196035, 196036,\n",
      "       208956],\n",
      "      dtype='int64', length=362)\n"
     ]
    }
   ],
   "source": [
    "print(np.isnan(df).sum())\n",
    "print()\n",
    "nan_indices = df[df['TD (degC)'].isna()].index\n",
    "print(nan_indices)"
   ]
  },
  {
   "cell_type": "code",
   "execution_count": 29,
   "metadata": {},
   "outputs": [],
   "source": [
    "def nan_sequences(df):\n",
    "    result = {}\n",
    "    for column in df.columns:\n",
    "        nan_indices = df[column].isna()\n",
    "        sequences = []\n",
    "        start_idx = None\n",
    "        length = 0\n",
    "        \n",
    "        for i, is_nan in enumerate(nan_indices):\n",
    "            if is_nan:\n",
    "                if start_idx is None:\n",
    "                    start_idx = i\n",
    "                length += 1\n",
    "            else:\n",
    "                if start_idx is not None:\n",
    "                    sequences.append((length, start_idx))\n",
    "                    start_idx = None\n",
    "                    length = 0\n",
    "        \n",
    "        # If the last element was NaN, we need to append the final sequence\n",
    "        if start_idx is not None:\n",
    "            sequences.append((length, start_idx))\n",
    "        \n",
    "        result[column] = sequences\n",
    "    \n",
    "    return result"
   ]
  },
  {
   "cell_type": "code",
   "execution_count": 30,
   "metadata": {},
   "outputs": [],
   "source": [
    "def plot_tuples(tuples):\n",
    "    # Unpack the data into two lists: x (second elements) and y (first elements)\n",
    "    y, x = zip(*tuples)\n",
    "\n",
    "    # Create a scatter plot\n",
    "    plt.figure(figsize=(7, 4))\n",
    "    plt.scatter(x, y, color='blue', alpha=0.5)\n",
    "\n",
    "    # Set plot labels and title\n",
    "    plt.xlabel('indices')\n",
    "    plt.ylabel('sequences lengths')\n",
    "    plt.title('Scatter Plot')\n",
    "\n",
    "    # Display the plot\n",
    "    plt.grid(True)\n",
    "    plt.show()"
   ]
  },
  {
   "cell_type": "code",
   "execution_count": 31,
   "metadata": {},
   "outputs": [],
   "source": [
    "def print_longest_nan_sequences(df, sequences, top_n=5):\n",
    "    for column in df.columns:\n",
    "        if column in sequences:\n",
    "            longest_sequences = sorted(sequences[column], key=lambda x: x[0], reverse=True)[:top_n]\n",
    "            print(f\"Top {top_n} longest NaN sequences for '{column}':\")\n",
    "            for seq in longest_sequences:\n",
    "                print(seq)\n",
    "            print(\"-\" * 70)  # Separator between columns\n",
    "        else:\n",
    "            print(f\"No NaN sequences found in '{column}' column.\")\n",
    "            print(\"-\" * 70)"
   ]
  },
  {
   "cell_type": "code",
   "execution_count": 32,
   "metadata": {},
   "outputs": [
    {
     "name": "stdout",
     "output_type": "stream",
     "text": [
      "'BP (hPa)':  [(49590, 0), (1, 52683), (3, 91723), (2, 100542), (3, 175706), (1, 175726), (6, 176232), (19, 176239), (1, 186849), (2, 190377), (1, 194066), (1, 196034)]\n",
      "'RH (%)':  [(49589, 0), (1, 51700), (1, 52683), (2, 56110), (2, 58222), (1, 58864), (1, 58866), (1, 59154), (1, 63836), (2, 65516), (2, 68130), (2, 76128), (13, 82591), (1, 86907), (3, 91723), (1, 93623), (3, 94952), (2, 100542), (1, 102847), (2, 104451), (1, 107379), (1, 108102), (2, 112441), (3, 113630), (2, 117265), (1, 121588), (2, 124705), (3, 125566), (1, 125882), (77, 132309), (1, 143543), (1, 153376), (1, 161127), (1, 166664), (146, 172776), (2, 173882), (2, 184474), (1, 186513), (2, 190377), (1, 194066), (3, 196034), (1, 208956)]\n",
      "'TD (degC)':  [(1, 569), (1, 1810), (1, 2674), (1, 4783), (1, 5767), (1, 7473), (1, 8674), (1, 9004), (2, 9224), (1, 9245), (1, 9331), (1, 10868), (1, 12548), (2, 13723), (35, 14263), (1, 15852), (1, 16518), (1, 17382), (1, 18389), (1, 19518), (1, 21102), (1, 22226), (1, 23055), (1, 24749), (1, 26205), (1, 27108), (1, 28210), (1, 32476), (2, 33579), (1, 36700), (1, 39481), (1, 41453), (1, 42338), (1, 45026), (1, 47553), (1, 49587), (1, 50740), (1, 51700), (1, 52683), (2, 56110), (2, 58222), (1, 63836), (2, 65516), (1, 66166), (2, 68130), (2, 76128), (1, 82591), (1, 86907), (3, 91723), (1, 93623), (3, 94952), (1, 97509), (2, 100542), (1, 102847), (2, 104451), (1, 107379), (1, 108102), (2, 112441), (3, 113630), (2, 117265), (1, 121588), (2, 124705), (2, 125567), (1, 125882), (77, 132309), (1, 143543), (1, 153376), (1, 161127), (1, 166664), (3, 172728), (1, 172735), (1, 172755), (146, 172776), (2, 173882), (2, 184474), (1, 186513), (2, 190377), (1, 194066), (3, 196034), (1, 208956)]\n",
      "'TDmax (degC)':  [(1, 569), (1, 1810), (1, 2674), (1, 4783), (1, 7473), (1, 8674), (1, 9004), (2, 9224), (1, 9245), (1, 9331), (1, 10868), (1, 12548), (1, 13723), (35, 14263), (1, 15852), (1, 16518), (1, 17382), (1, 18389), (1, 19518), (1, 21102), (1, 22226), (1, 23055), (1, 24749), (1, 26205), (1, 27108), (1, 28210), (1, 32476), (2, 33579), (1, 36700), (1, 39481), (1, 41453), (1, 42338), (1, 45026), (1, 47553), (1, 50740), (1, 51700), (1, 52683), (2, 56110), (2, 58222), (1, 63836), (2, 65516), (1, 66166), (2, 68130), (2, 76128), (1, 82591), (1, 86907), (1, 87525), (3, 91723), (1, 93623), (3, 94952), (2, 100542), (1, 102847), (2, 104451), (1, 107379), (1, 108102), (2, 112441), (3, 113630), (2, 117265), (1, 121588), (2, 124705), (2, 125567), (1, 125882), (77, 132309), (1, 142150), (1, 143543), (1, 153376), (1, 161127), (1, 166664), (3, 172728), (1, 172735), (1, 172755), (146, 172776), (2, 173882), (2, 184474), (1, 186513), (3, 196034), (1, 208956)]\n",
      "'TDmin (degC)':  [(1, 569), (1, 1810), (1, 2674), (1, 4783), (1, 7473), (1, 8674), (1, 9004), (2, 9224), (1, 9245), (1, 9331), (1, 10868), (1, 12548), (1, 13723), (35, 14263), (1, 15852), (1, 16518), (1, 17382), (1, 18389), (1, 19518), (1, 21102), (1, 22226), (1, 23055), (1, 24749), (1, 26205), (1, 27108), (1, 28210), (1, 32476), (2, 33579), (1, 36700), (1, 39481), (1, 41453), (1, 42338), (1, 45026), (1, 47553), (1, 49587), (1, 50740), (1, 51700), (1, 52683), (2, 56110), (2, 58222), (1, 63836), (2, 65516), (1, 66166), (2, 68130), (2, 76128), (1, 82591), (1, 86907), (3, 91723), (1, 93623), (3, 94952), (1, 97509), (2, 100542), (1, 102847), (2, 104451), (1, 107379), (1, 108102), (2, 112441), (3, 113630), (2, 117265), (1, 121588), (2, 124705), (2, 125567), (1, 125882), (77, 132309), (1, 143543), (1, 153376), (1, 161127), (1, 166664), (3, 172728), (1, 172735), (1, 172755), (146, 172776), (2, 173882), (2, 184474), (1, 186513), (2, 190377), (1, 194066), (3, 196034), (1, 208956)]\n",
      "'WDmax (deg)':  [(1, 9004), (2, 9224), (1, 9245), (1, 9331), (35, 14263), (1, 52683), (17, 54756), (1, 54936), (2, 56252), (53, 68810), (1, 71707), (1, 72457), (1, 72696), (1, 73318), (1, 74615), (15, 74921), (16, 92855), (1, 93068), (1, 94598), (1, 97560), (2, 100542), (1, 105604), (1, 107956), (2, 122090), (75, 124658), (1, 125376), (1, 129193), (16, 131501), (1, 143543), (1, 149609), (1, 151889), (1, 160786), (1, 175728), (1, 178599), (1, 186513), (2, 196034)]\n",
      "'Ws1mm (m/s)':  [(8, 1059), (3, 7734), (1, 9004), (2, 9224), (1, 9245), (1, 9331), (35, 14263), (5, 45858), (4, 46050), (1, 48869), (4, 48872), (6, 49516), (1, 49588), (1, 49659), (1, 49963), (2, 49993), (79, 50040), (1, 50137), (106, 50153), (5, 50347), (1, 52683), (17, 54756), (1, 54936), (76, 68787), (2, 74934), (1, 92858), (1, 97560), (2, 100542), (1, 105604), (2, 122090), (75, 124658), (1, 125376), (15, 131502), (1, 143543), (1, 151889), (1, 160786), (1, 175728), (1, 178599), (1, 186513), (2, 196034)]\n",
      "'Ws10mm (m/s)':  [(8, 1059), (3, 7734), (1, 9004), (2, 9224), (1, 9245), (1, 9331), (35, 14263), (5, 45858), (4, 46050), (1, 48869), (4, 48872), (6, 49516), (1, 49588), (1, 49659), (1, 49963), (2, 49993), (79, 50040), (1, 50137), (98, 50161), (5, 50347), (1, 52683), (17, 54756), (1, 54936), (76, 68787), (2, 74934), (1, 92858), (1, 97560), (2, 100542), (1, 105604), (2, 122090), (75, 124658), (1, 125376), (15, 131502), (1, 143543), (1, 151889), (1, 160786), (1, 175728), (1, 178599), (1, 186513), (2, 196034)]\n",
      "'STDwd (deg)':  [(1, 9004), (2, 9224), (1, 9245), (1, 9331), (35, 14263), (1, 48739), (1, 52683), (17, 54756), (1, 54936), (53, 68810), (2, 74934), (1, 92858), (1, 97560), (2, 100542), (1, 105604), (1, 106591), (2, 122090), (75, 124658), (1, 125376), (1, 127873), (1, 129193), (15, 131502), (1, 143543), (1, 151889), (1, 160786), (1, 175728), (1, 178599), (1, 182627), (1, 186513), (2, 196034), (1, 198398), (1, 198452), (1, 198475)]\n",
      "'Wx':  [(8, 1059), (3, 7734), (1, 9004), (2, 9224), (1, 9245), (1, 9331), (35, 14263), (5, 45858), (4, 46050), (1, 48869), (4, 48872), (6, 49516), (1, 49588), (1, 49659), (1, 49963), (2, 49993), (79, 50040), (1, 50137), (98, 50161), (5, 50347), (1, 52683), (17, 54756), (1, 54936), (76, 68787), (7, 74929), (2, 92855), (1, 92858), (1, 93927), (1, 97560), (2, 100542), (1, 105604), (2, 113961), (2, 122090), (75, 124658), (1, 125376), (1, 129193), (15, 131502), (1, 143543), (1, 151889), (1, 160786), (1, 175728), (1, 178599), (1, 186513), (2, 196034)]\n",
      "'Wy':  [(8, 1059), (3, 7734), (1, 9004), (2, 9224), (1, 9245), (1, 9331), (35, 14263), (5, 45858), (4, 46050), (1, 48869), (4, 48872), (6, 49516), (1, 49588), (1, 49659), (1, 49963), (2, 49993), (79, 50040), (1, 50137), (98, 50161), (5, 50347), (1, 52683), (17, 54756), (1, 54936), (76, 68787), (7, 74929), (2, 92855), (1, 92858), (1, 93927), (1, 97560), (2, 100542), (1, 105604), (2, 113961), (2, 122090), (75, 124658), (1, 125376), (1, 129193), (15, 131502), (1, 143543), (1, 151889), (1, 160786), (1, 175728), (1, 178599), (1, 186513), (2, 196034)]\n",
      "'max Wx':  [(8, 1059), (3, 7734), (1, 9004), (2, 9224), (1, 9245), (1, 9331), (35, 14263), (5, 45858), (4, 46050), (1, 48869), (4, 48872), (6, 49516), (1, 49588), (1, 49659), (1, 49963), (2, 49993), (79, 50040), (1, 50137), (98, 50161), (5, 50347), (1, 52683), (17, 54756), (1, 54936), (76, 68787), (7, 74929), (2, 92855), (1, 92858), (1, 93927), (1, 97560), (2, 100542), (1, 105604), (2, 122090), (75, 124658), (1, 125376), (1, 129193), (15, 131502), (1, 143543), (1, 151889), (1, 160786), (1, 175728), (1, 178599), (1, 186513), (2, 196034)]\n",
      "'max Wy':  [(8, 1059), (3, 7734), (1, 9004), (2, 9224), (1, 9245), (1, 9331), (35, 14263), (5, 45858), (4, 46050), (1, 48869), (4, 48872), (6, 49516), (1, 49588), (1, 49659), (1, 49963), (2, 49993), (79, 50040), (1, 50137), (98, 50161), (5, 50347), (1, 52683), (17, 54756), (1, 54936), (76, 68787), (7, 74929), (2, 92855), (1, 92858), (1, 93927), (1, 97560), (2, 100542), (1, 105604), (2, 122090), (75, 124658), (1, 125376), (1, 129193), (15, 131502), (1, 143543), (1, 151889), (1, 160786), (1, 175728), (1, 178599), (1, 186513), (2, 196034)]\n",
      "'Day sin':  []\n",
      "'Day cos':  []\n",
      "'Year sin':  []\n",
      "'Year cos':  []\n"
     ]
    }
   ],
   "source": [
    "sequences = nan_sequences(df)\n",
    "\n",
    "for col in df.columns:\n",
    "    print(f\"'{col}':  {sequences[col]}\")"
   ]
  },
  {
   "cell_type": "code",
   "execution_count": 33,
   "metadata": {},
   "outputs": [
    {
     "name": "stdout",
     "output_type": "stream",
     "text": [
      "Top 8 longest NaN sequences for 'BP (hPa)':\n",
      "(49590, 0)\n",
      "(19, 176239)\n",
      "(6, 176232)\n",
      "(3, 91723)\n",
      "(3, 175706)\n",
      "(2, 100542)\n",
      "(2, 190377)\n",
      "(1, 52683)\n",
      "----------------------------------------------------------------------\n",
      "Top 8 longest NaN sequences for 'RH (%)':\n",
      "(49589, 0)\n",
      "(146, 172776)\n",
      "(77, 132309)\n",
      "(13, 82591)\n",
      "(3, 91723)\n",
      "(3, 94952)\n",
      "(3, 113630)\n",
      "(3, 125566)\n",
      "----------------------------------------------------------------------\n",
      "Top 8 longest NaN sequences for 'TD (degC)':\n",
      "(146, 172776)\n",
      "(77, 132309)\n",
      "(35, 14263)\n",
      "(3, 91723)\n",
      "(3, 94952)\n",
      "(3, 113630)\n",
      "(3, 172728)\n",
      "(3, 196034)\n",
      "----------------------------------------------------------------------\n",
      "Top 8 longest NaN sequences for 'TDmax (degC)':\n",
      "(146, 172776)\n",
      "(77, 132309)\n",
      "(35, 14263)\n",
      "(3, 91723)\n",
      "(3, 94952)\n",
      "(3, 113630)\n",
      "(3, 172728)\n",
      "(3, 196034)\n",
      "----------------------------------------------------------------------\n",
      "Top 8 longest NaN sequences for 'TDmin (degC)':\n",
      "(146, 172776)\n",
      "(77, 132309)\n",
      "(35, 14263)\n",
      "(3, 91723)\n",
      "(3, 94952)\n",
      "(3, 113630)\n",
      "(3, 172728)\n",
      "(3, 196034)\n",
      "----------------------------------------------------------------------\n",
      "Top 8 longest NaN sequences for 'WDmax (deg)':\n",
      "(75, 124658)\n",
      "(53, 68810)\n",
      "(35, 14263)\n",
      "(17, 54756)\n",
      "(16, 92855)\n",
      "(16, 131501)\n",
      "(15, 74921)\n",
      "(2, 9224)\n",
      "----------------------------------------------------------------------\n",
      "Top 8 longest NaN sequences for 'Ws1mm (m/s)':\n",
      "(106, 50153)\n",
      "(79, 50040)\n",
      "(76, 68787)\n",
      "(75, 124658)\n",
      "(35, 14263)\n",
      "(17, 54756)\n",
      "(15, 131502)\n",
      "(8, 1059)\n",
      "----------------------------------------------------------------------\n",
      "Top 8 longest NaN sequences for 'Ws10mm (m/s)':\n",
      "(98, 50161)\n",
      "(79, 50040)\n",
      "(76, 68787)\n",
      "(75, 124658)\n",
      "(35, 14263)\n",
      "(17, 54756)\n",
      "(15, 131502)\n",
      "(8, 1059)\n",
      "----------------------------------------------------------------------\n",
      "Top 8 longest NaN sequences for 'STDwd (deg)':\n",
      "(75, 124658)\n",
      "(53, 68810)\n",
      "(35, 14263)\n",
      "(17, 54756)\n",
      "(15, 131502)\n",
      "(2, 9224)\n",
      "(2, 74934)\n",
      "(2, 100542)\n",
      "----------------------------------------------------------------------\n",
      "Top 8 longest NaN sequences for 'Wx':\n",
      "(98, 50161)\n",
      "(79, 50040)\n",
      "(76, 68787)\n",
      "(75, 124658)\n",
      "(35, 14263)\n",
      "(17, 54756)\n",
      "(15, 131502)\n",
      "(8, 1059)\n",
      "----------------------------------------------------------------------\n",
      "Top 8 longest NaN sequences for 'Wy':\n",
      "(98, 50161)\n",
      "(79, 50040)\n",
      "(76, 68787)\n",
      "(75, 124658)\n",
      "(35, 14263)\n",
      "(17, 54756)\n",
      "(15, 131502)\n",
      "(8, 1059)\n",
      "----------------------------------------------------------------------\n",
      "Top 8 longest NaN sequences for 'max Wx':\n",
      "(98, 50161)\n",
      "(79, 50040)\n",
      "(76, 68787)\n",
      "(75, 124658)\n",
      "(35, 14263)\n",
      "(17, 54756)\n",
      "(15, 131502)\n",
      "(8, 1059)\n",
      "----------------------------------------------------------------------\n",
      "Top 8 longest NaN sequences for 'max Wy':\n",
      "(98, 50161)\n",
      "(79, 50040)\n",
      "(76, 68787)\n",
      "(75, 124658)\n",
      "(35, 14263)\n",
      "(17, 54756)\n",
      "(15, 131502)\n",
      "(8, 1059)\n",
      "----------------------------------------------------------------------\n",
      "Top 8 longest NaN sequences for 'Day sin':\n",
      "----------------------------------------------------------------------\n",
      "Top 8 longest NaN sequences for 'Day cos':\n",
      "----------------------------------------------------------------------\n",
      "Top 8 longest NaN sequences for 'Year sin':\n",
      "----------------------------------------------------------------------\n",
      "Top 8 longest NaN sequences for 'Year cos':\n",
      "----------------------------------------------------------------------\n"
     ]
    }
   ],
   "source": [
    "print_longest_nan_sequences(df, sequences, top_n=8)"
   ]
  },
  {
   "cell_type": "code",
   "execution_count": 34,
   "metadata": {},
   "outputs": [
    {
     "data": {
      "image/png": "[encoded data removed]",
      "text/plain": [
       "<Figure size 700x400 with 1 Axes>"
      ]
     },
     "metadata": {},
     "output_type": "display_data"
    }
   ],
   "source": [
    "plot_tuples(sequences['TD (degC)'])"
   ]
  },
  {
   "cell_type": "code",
   "execution_count": 35,
   "metadata": {},
   "outputs": [
    {
     "name": "stdout",
     "output_type": "stream",
     "text": [
      "amount of single holes: 55\n",
      "[(1, 569), (1, 1810), (1, 2674), (1, 4783), (1, 5767), (1, 7473), (1, 8674), (1, 9004), (1, 9245), (1, 9331), (1, 10868), (1, 12548), (1, 15852), (1, 16518), (1, 17382), (1, 18389), (1, 19518), (1, 21102), (1, 22226), (1, 23055), (1, 24749), (1, 26205), (1, 27108), (1, 28210), (1, 32476), (1, 36700), (1, 39481), (1, 41453), (1, 42338), (1, 45026), (1, 47553), (1, 49587), (1, 50740), (1, 51700), (1, 52683), (1, 63836), (1, 66166), (1, 82591), (1, 86907), (1, 93623), (1, 97509), (1, 102847), (1, 107379), (1, 108102), (1, 121588), (1, 125882), (1, 143543), (1, 153376), (1, 161127), (1, 166664), (1, 172735), (1, 172755), (1, 186513), (1, 194066), (1, 208956)]\n"
     ]
    }
   ],
   "source": [
    "single_hole = [tup for tup in sequences['TD (degC)'] if tup[0] == 1]\n",
    "print(f\"amount of single holes: {len(single_hole)}\")\n",
    "print(single_hole)"
   ]
  },
  {
   "cell_type": "markdown",
   "metadata": {},
   "source": [
    "### Try to fill linear way only if it is a single hole in the middle of the same trend."
   ]
  },
  {
   "cell_type": "code",
   "execution_count": 36,
   "metadata": {},
   "outputs": [
    {
     "data": {
      "image/png": "[encoded data removed]",
      "text/plain": [
       "<Figure size 700x400 with 1 Axes>"
      ]
     },
     "metadata": {},
     "output_type": "display_data"
    }
   ],
   "source": [
    "col = 'TD (degC)'\n",
    "i = 1810\n",
    "\n",
    "x = np.arange(i-6, i+6)\n",
    "y = df[col][x]\n",
    "\n",
    "# Create a scatter plot\n",
    "plt.figure(figsize=(7, 4))\n",
    "plt.scatter(x, y, color='blue')\n",
    "avg = (df[col][i-1] + df[col][i+1]) /2\n",
    "plt.scatter(i, avg, color='red')\n",
    "\n",
    "# Extract the x and y values for i-2, i-1, i, i+1, and i+2\n",
    "x_line = np.arange(i-2, i+2)\n",
    "x_line = [i-2, i-1, i, i+1, i+2]\n",
    "y_line = [df[col][i-2], df[col][i-1], avg, df[col][i+1], df[col][i+2]]\n",
    "\n",
    "# Plot the line\n",
    "plt.plot(x_line, y_line, color='green', linestyle='-')\n",
    "\n",
    "# Set plot labels and title\n",
    "plt.xlabel('indices')\n",
    "plt.ylabel('value')\n",
    "plt.title('Inlustration of the linear fill')\n",
    "\n",
    "# Display the plot\n",
    "plt.grid(True)\n",
    "plt.show()"
   ]
  },
  {
   "cell_type": "code",
   "execution_count": 37,
   "metadata": {},
   "outputs": [],
   "source": [
    "def fix_holes_linear(single_hole, col):\n",
    "    count=0\n",
    "    for tup in single_hole:\n",
    "        ind = tup[1]\n",
    "        if ind>=2 and ind<= len(df[col])-3:\n",
    "            if (df[col][ind-2] <= df[col][ind-1] <= df[col][ind+1] <= df[col][ind+2]) or (df[col][ind-2] >= df[col][ind-1] >= df[col][ind+1] >= df[col][ind+2]):\n",
    "                avg = (df[col][ind-1] + df[col][ind+1]) /2\n",
    "                df.loc[ind, col] = avg\n",
    "                count += 1\n",
    "    print(f\"successfully linearly filled {count} hols in the '{col}' colomn.\")"
   ]
  },
  {
   "cell_type": "code",
   "execution_count": 38,
   "metadata": {},
   "outputs": [
    {
     "name": "stdout",
     "output_type": "stream",
     "text": [
      "55\n"
     ]
    }
   ],
   "source": [
    "print(len(single_hole))"
   ]
  },
  {
   "cell_type": "code",
   "execution_count": 39,
   "metadata": {},
   "outputs": [
    {
     "name": "stdout",
     "output_type": "stream",
     "text": [
      "BP (hPa)        49630\n",
      "RH (%)          49886\n",
      "TD (degC)         362\n",
      "TDmax (degC)      357\n",
      "TDmin (degC)      360\n",
      "WDmax (deg)       261\n",
      "Ws1mm (m/s)       470\n",
      "Ws10mm (m/s)      462\n",
      "STDwd (deg)       228\n",
      "Wx                473\n",
      "Wy                473\n",
      "max Wx            471\n",
      "max Wy            471\n",
      "Day sin             0\n",
      "Day cos             0\n",
      "Year sin            0\n",
      "Year cos            0\n",
      "dtype: int64\n"
     ]
    }
   ],
   "source": [
    "print(np.isnan(df).sum())"
   ]
  },
  {
   "cell_type": "code",
   "execution_count": 40,
   "metadata": {},
   "outputs": [
    {
     "name": "stdout",
     "output_type": "stream",
     "text": [
      "successfully linearly filled 39 hols in the 'TD (degC)' colomn.\n"
     ]
    }
   ],
   "source": [
    "fix_holes_linear(single_hole, 'TD (degC)')"
   ]
  },
  {
   "cell_type": "code",
   "execution_count": 41,
   "metadata": {},
   "outputs": [
    {
     "name": "stdout",
     "output_type": "stream",
     "text": [
      "BP (hPa)        49630\n",
      "RH (%)          49886\n",
      "TD (degC)         323\n",
      "TDmax (degC)      357\n",
      "TDmin (degC)      360\n",
      "WDmax (deg)       261\n",
      "Ws1mm (m/s)       470\n",
      "Ws10mm (m/s)      462\n",
      "STDwd (deg)       228\n",
      "Wx                473\n",
      "Wy                473\n",
      "max Wx            471\n",
      "max Wy            471\n",
      "Day sin             0\n",
      "Day cos             0\n",
      "Year sin            0\n",
      "Year cos            0\n",
      "dtype: int64\n"
     ]
    }
   ],
   "source": [
    "print(np.isnan(df).sum())"
   ]
  },
  {
   "cell_type": "code",
   "execution_count": 42,
   "metadata": {},
   "outputs": [
    {
     "name": "stdout",
     "output_type": "stream",
     "text": [
      "[(1, 569), (2, 9224), (1, 9245), (1, 9331), (2, 13723), (35, 14263), (1, 17382), (1, 19518), (1, 28210), (2, 33579), (1, 36700), (1, 51700), (1, 52683), (2, 56110), (2, 58222), (2, 65516), (2, 68130), (2, 76128), (1, 86907), (3, 91723), (3, 94952), (2, 100542), (2, 104451), (1, 107379), (2, 112441), (3, 113630), (2, 117265), (2, 124705), (2, 125567), (1, 125882), (77, 132309), (1, 161127), (3, 172728), (1, 172755), (146, 172776), (2, 173882), (2, 184474), (1, 186513), (2, 190377), (3, 196034), (1, 208956)]\n"
     ]
    }
   ],
   "source": [
    "sequences = nan_sequences(df)\n",
    "print(sequences['TD (degC)'])"
   ]
  },
  {
   "cell_type": "code",
   "execution_count": 43,
   "metadata": {},
   "outputs": [
    {
     "data": {
      "image/png": "[encoded data removed]",
      "text/plain": [
       "<Figure size 700x400 with 1 Axes>"
      ]
     },
     "metadata": {},
     "output_type": "display_data"
    }
   ],
   "source": [
    "plot_tuples(sequences['TD (degC)'])"
   ]
  },
  {
   "cell_type": "markdown",
   "metadata": {},
   "source": [
    "### Forward and Backward Fill Approach"
   ]
  }
 ],
 "metadata": {
  "kernelspec": {
   "display_name": "Python 3",
   "language": "python",
   "name": "python3"
  },
  "language_info": {
   "codemirror_mode": {
    "name": "ipython",
    "version": 3
   },
   "file_extension": ".py",
   "mimetype": "text/x-python",
   "name": "python",
   "nbconvert_exporter": "python",
   "pygments_lexer": "ipython3",
   "version": "3.11.2"
  }
 },
 "nbformat": 4,
 "nbformat_minor": 2
}

{
 "cells": [
  {
   "cell_type": "markdown",
   "metadata": {},
   "source": [
    "if you want to revert changes you've made on the dataframes -> restart the session and then run the 'Brfore' section again."
   ]
  },
  {
   "cell_type": "markdown",
   "metadata": {},
   "source": [
    "# Before"
   ]
  },
  {
   "cell_type": "markdown",
   "metadata": {},
   "source": [
    "## pips and includes"
   ]
  },
  {
   "cell_type": "code",
   "execution_count": 1,
   "metadata": {},
   "outputs": [],
   "source": [
    "import pandas as pd\n",
    "import requests\n",
    "import json\n",
    "from datetime import datetime\n",
    "import os\n",
    "import numpy as np\n",
    "import matplotlib.pyplot as plt\n",
    "from tqdm import tqdm"
   ]
  },
  {
   "cell_type": "markdown",
   "metadata": {},
   "source": [
    "## Constants"
   ]
  },
  {
   "cell_type": "code",
   "execution_count": 2,
   "metadata": {},
   "outputs": [],
   "source": [
    "DATA_DIRECTORY = \"../data/\"\n",
    "na_values = ['None', 'null', '-', '', ' ', 'NaN', 'nan', 'NAN']"
   ]
  },
  {
   "cell_type": "markdown",
   "metadata": {},
   "source": [
    "## load csv files:"
   ]
  },
  {
   "cell_type": "code",
   "execution_count": 3,
   "metadata": {},
   "outputs": [
    {
     "name": "stderr",
     "output_type": "stream",
     "text": [
      "Loading CSV files:   0%|          | 0/70 [00:00<?, ?it/s]"
     ]
    },
    {
     "name": "stderr",
     "output_type": "stream",
     "text": [
      "Loading CSV files: 100%|██████████| 70/70 [02:55<00:00,  2.50s/it]\n"
     ]
    }
   ],
   "source": [
    "data_files = [f for f in os.listdir(DATA_DIRECTORY) if f.endswith('.csv')]\n",
    "\n",
    "dataframes = {}\n",
    "for file in tqdm(data_files, desc=\"Loading CSV files\"):\n",
    "    file_path = os.path.join(DATA_DIRECTORY, file)\n",
    "    df_name = os.path.splitext(file)[0]\n",
    "    dataframes[df_name] = pd.read_csv(file_path, low_memory=False, na_values=na_values)\n"
   ]
  },
  {
   "cell_type": "markdown",
   "metadata": {},
   "source": [
    "# Preprocessing"
   ]
  },
  {
   "cell_type": "markdown",
   "metadata": {},
   "source": [
    "## Remove unecesery columns"
   ]
  },
  {
   "cell_type": "markdown",
   "metadata": {},
   "source": [
    "### remove 'Time' column:"
   ]
  },
  {
   "cell_type": "code",
   "execution_count": 13,
   "metadata": {},
   "outputs": [],
   "source": [
    "for df_name, df in dataframes.items():\n",
    "    if 'Time' in df.columns:\n",
    "        df.drop(columns=['Time'], inplace=True)"
   ]
  },
  {
   "cell_type": "markdown",
   "metadata": {},
   "source": [
    "### remove radiation columns:"
   ]
  },
  {
   "cell_type": "code",
   "execution_count": 16,
   "metadata": {},
   "outputs": [],
   "source": [
    "columns_to_remove = ['Grad (w/m^2)', 'DiffR (w/m^2)', 'NIP (w/m^2)']\n",
    "\n",
    "for df_name, df in dataframes.items():\n",
    "    df.drop(columns=[col for col in columns_to_remove if col in df.columns], inplace=True)\n"
   ]
  },
  {
   "cell_type": "markdown",
   "metadata": {},
   "source": [
    "### remove 'BP' column:"
   ]
  },
  {
   "cell_type": "code",
   "execution_count": 18,
   "metadata": {},
   "outputs": [],
   "source": [
    "for df_name, df in dataframes.items():\n",
    "    if 'BP (hPa)' in df.columns:\n",
    "        df.drop(columns=['BP (hPa)'], inplace=True)"
   ]
  },
  {
   "cell_type": "markdown",
   "metadata": {},
   "source": [
    "### remove the 'Ws10mm (m/s)' , 'Ws1mm (m/s)' colums:"
   ]
  },
  {
   "cell_type": "code",
   "execution_count": 4,
   "metadata": {},
   "outputs": [],
   "source": [
    "for df_name, df in dataframes.items():\n",
    "    columns_to_remove = ['Ws10mm (m/s)', 'Ws1mm (m/s)']\n",
    "    df.drop(columns=[col for col in columns_to_remove if col in df.columns], inplace=True)"
   ]
  },
  {
   "cell_type": "markdown",
   "metadata": {},
   "source": [
    "## Time"
   ]
  },
  {
   "cell_type": "markdown",
   "metadata": {},
   "source": [
    "### format the time:"
   ]
  },
  {
   "cell_type": "code",
   "execution_count": 22,
   "metadata": {},
   "outputs": [],
   "source": [
    "for df_name, df in dataframes.items():\n",
    "    if 'Date Time' in df.columns:\n",
    "        df['Date Time'] = pd.to_datetime(df.pop('Date Time'), format=\"%d/%m/%Y %H:%M\")"
   ]
  },
  {
   "cell_type": "markdown",
   "metadata": {},
   "source": [
    "### add column with the year:"
   ]
  },
  {
   "cell_type": "code",
   "execution_count": 24,
   "metadata": {},
   "outputs": [],
   "source": [
    "for df_name, df in dataframes.items():\n",
    "    if 'Date Time' in df.columns:\n",
    "        df['Year'] = df['Date Time'].dt.year"
   ]
  },
  {
   "cell_type": "markdown",
   "metadata": {},
   "source": [
    "### time cicles (days ans years):"
   ]
  },
  {
   "cell_type": "code",
   "execution_count": 29,
   "metadata": {},
   "outputs": [],
   "source": [
    "day = 24*60*60\n",
    "year = (365.2425)*day\n",
    "\n",
    "for df_name, df in dataframes.items():\n",
    "    if 'Date Time' in df.columns:\n",
    "        timestamp_s = df['Date Time'].map(pd.Timestamp.timestamp)\n",
    "        df['Day sin'] = np.sin(timestamp_s * (2 * np.pi / day))\n",
    "        df['Day cos'] = np.cos(timestamp_s * (2 * np.pi / day))\n",
    "        df['Year sin'] = np.sin(timestamp_s * (2 * np.pi / year))\n",
    "        df['Year cos'] = np.cos(timestamp_s * (2 * np.pi / year))\n",
    "        df.drop(columns=['Date Time'], inplace=True)\n"
   ]
  },
  {
   "cell_type": "markdown",
   "metadata": {},
   "source": [
    "## Data Imputation"
   ]
  },
  {
   "cell_type": "markdown",
   "metadata": {},
   "source": [
    "### 1 missing value:"
   ]
  },
  {
   "cell_type": "code",
   "execution_count": null,
   "metadata": {},
   "outputs": [],
   "source": [
    "na_values = ['None', 'null', '-', '', ' ', 'NaN', 'nan', 'NAN']\n",
    "\n",
    "for df_name, df in tqdm(dataframes.items(), desc=\"Processing DataFrames\"):\n",
    "    if 'TD (degC)' in df.columns:\n",
    "        df['TD (degC)'].replace(na_values, np.nan, inplace=True)\n",
    "        \n",
    "        # Fill NaN values wrapped with two non-NaN values:\n",
    "        nan_wrapped_count = 0\n",
    "        td_values = df['TD (degC)'].values\n",
    "        for i in range(1, len(td_values) - 1):\n",
    "            if pd.isna(td_values[i]) and not pd.isna(td_values[i - 1]) and not pd.isna(td_values[i + 1]):\n",
    "                try:\n",
    "                    td_values[i] = (float(td_values[i - 1]) + float(td_values[i + 1])) / 2\n",
    "                    nan_wrapped_count += 1\n",
    "                except ValueError as e:\n",
    "                    print(f\"ValueError encountered in {df_name} at index {i}: {e}\")\n",
    "        print(f\"Number of NaN values wrapped with two non-NaN values and filled in {df_name} station: {nan_wrapped_count} which is {nan_wrapped_count / len(df) * 100}% of the data\")"
   ]
  },
  {
   "cell_type": "code",
   "execution_count": null,
   "metadata": {},
   "outputs": [],
   "source": [
    "na_values = ['None', 'null', '-', '', ' ', 'NaN', 'nan', 'NAN']\n",
    "\n",
    "for df_name, df in tqdm(dataframes.items(), desc=\"Processing DataFrames\"):\n",
    "    if 'TDmax (degC)' in df.columns:\n",
    "        df['TDmax (degC)'].replace(na_values, np.nan, inplace=True)\n",
    "        \n",
    "        # Fill NaN values wrapped with two non-NaN values:\n",
    "        nan_wrapped_count = 0\n",
    "        td_values = df['TDmax (degC)'].values\n",
    "        for i in range(1, len(td_values) - 1):\n",
    "            if pd.isna(td_values[i]) and not pd.isna(td_values[i - 1]) and not pd.isna(td_values[i + 1]):\n",
    "                try:\n",
    "                    td_values[i] = (float(td_values[i - 1]) + float(td_values[i + 1])) / 2\n",
    "                    nan_wrapped_count += 1\n",
    "                except ValueError as e:\n",
    "                    print(f\"ValueError encountered in {df_name} at index {i}: {e}\")\n",
    "        print(f\"Number of NaN values wrapped with two non-NaN values and filled in {df_name} station: {nan_wrapped_count} which is {nan_wrapped_count / len(df) * 100}% of the data\")"
   ]
  },
  {
   "cell_type": "code",
   "execution_count": null,
   "metadata": {},
   "outputs": [],
   "source": [
    "na_values = ['None', 'null', '-', '', ' ', 'NaN', 'nan', 'NAN']\n",
    "\n",
    "for df_name, df in tqdm(dataframes.items(), desc=\"Processing DataFrames\"):\n",
    "    if 'TDmin (degC)' in df.columns:\n",
    "        df['TDmin (degC)'].replace(na_values, np.nan, inplace=True)\n",
    "        \n",
    "        # Fill NaN values wrapped with two non-NaN values:\n",
    "        nan_wrapped_count = 0\n",
    "        td_values = df['TDmin (degC)'].values\n",
    "        for i in range(1, len(td_values) - 1):\n",
    "            if pd.isna(td_values[i]) and not pd.isna(td_values[i - 1]) and not pd.isna(td_values[i + 1]):\n",
    "                try:\n",
    "                    td_values[i] = (float(td_values[i - 1]) + float(td_values[i + 1])) / 2\n",
    "                    nan_wrapped_count += 1\n",
    "                except ValueError as e:\n",
    "                    print(f\"ValueError encountered in {df_name} at index {i}: {e}\")\n",
    "        print(f\"Number of NaN values wrapped with two non-NaN values and filled in {df_name} station: {nan_wrapped_count} which is {nan_wrapped_count / len(df) * 100}% of the data\")"
   ]
  },
  {
   "cell_type": "code",
   "execution_count": null,
   "metadata": {},
   "outputs": [],
   "source": [
    "na_values = ['None', 'null', '-', '', ' ', 'NaN', 'nan', 'NAN']\n",
    "\n",
    "for df_name, df in tqdm(dataframes.items(), desc=\"Processing DataFrames\"):\n",
    "    if 'RH (%)' in df.columns:\n",
    "        df['RH (%)'].replace(na_values, np.nan, inplace=True)\n",
    "        \n",
    "        # Fill NaN values wrapped with two non-NaN values:\n",
    "        nan_wrapped_count = 0\n",
    "        td_values = df['RH (%)'].values\n",
    "        for i in range(1, len(td_values) - 1):\n",
    "            if pd.isna(td_values[i]) and not pd.isna(td_values[i - 1]) and not pd.isna(td_values[i + 1]) and not pd.isna(td_values[i - 2]) and not pd.isna(td_values[i + 2]):\n",
    "                trend_before = td_values[i - 1] < td_values[i - 2] if i - 2 >= 0 else None\n",
    "                trend_after = td_values[i + 1] < td_values[i + 2] if i + 2 < len(td_values) else None\n",
    "                if trend_before == trend_after:\n",
    "                    try:\n",
    "                        td_values[i] = (float(td_values[i - 1]) + float(td_values[i + 1])) / 2\n",
    "                        nan_wrapped_count += 1\n",
    "                    except ValueError as e:\n",
    "                        print(f\"ValueError encountered in {df_name} at index {i}: {e}\")\n",
    "        print(f\"Number of NaN values wrapped with two non-NaN values and filled in {df_name} station: {nan_wrapped_count} which is {nan_wrapped_count / len(df) * 100}% of the data\")"
   ]
  },
  {
   "cell_type": "markdown",
   "metadata": {},
   "source": [
    "### 2 missing values together:"
   ]
  },
  {
   "cell_type": "code",
   "execution_count": null,
   "metadata": {},
   "outputs": [],
   "source": [
    "na_values = ['None', 'null', '-', '', ' ', 'NaN', 'nan', 'NAN']\n",
    "column_to_fill = 'RH (%)'\n",
    "\n",
    "for df_name, df in tqdm(dataframes.items(), desc=\"Processing DataFrames\"):\n",
    "    if column_to_fill in df.columns:\n",
    "        df[column_to_fill].replace(na_values, np.nan, inplace=True)\n",
    "        \n",
    "        # Fill two consecutive NaN values wrapped with two non-NaN values:\n",
    "        nan_wrapped_count = 0\n",
    "        td_values = df[column_to_fill].values\n",
    "        i = 2  # Start from index 2 to ensure i-2 is valid\n",
    "        while i < len(td_values) - 2:\n",
    "            if (pd.isna(td_values[i]) and pd.isna(td_values[i+1]) and\n",
    "                not pd.isna(td_values[i - 2]) and not pd.isna(td_values[i - 1]) and\n",
    "                not pd.isna(td_values[i + 2]) and not pd.isna(td_values[i + 3])):\n",
    "                \n",
    "                val1 = float(td_values[i - 2])\n",
    "                val2 = float(td_values[i - 1])\n",
    "                val3 = float(td_values[i + 2])\n",
    "                val4 = float(td_values[i + 3])\n",
    "                \n",
    "                # Determine trends\n",
    "                trend_before = val2 < val1\n",
    "                trend_after = val4 < val3\n",
    "                if trend_before == trend_after:\n",
    "                    try:\n",
    "                        diff = val3 - val2\n",
    "                        td_values[i] = val2 + diff / 3\n",
    "                        td_values[i + 1] = val2 + diff * 2 / 3\n",
    "                        nan_wrapped_count += 2\n",
    "                        i += 2  # Skip the next index as it's already processed\n",
    "                        continue\n",
    "                    except ValueError as e:\n",
    "                        print(f\"ValueError encountered in {df_name} at indices {i} and {i+1}: {e}\")\n",
    "            i += 1\n",
    "        print(f\"Number of NaN values wrapped with two non-NaN values and filled in {df_name} station: {nan_wrapped_count} which is {nan_wrapped_count / len(df) * 100:.2f}% of the data\")"
   ]
  },
  {
   "cell_type": "markdown",
   "metadata": {},
   "source": [
    "### 3 missing values together:"
   ]
  },
  {
   "cell_type": "code",
   "execution_count": null,
   "metadata": {},
   "outputs": [],
   "source": [
    "na_values = ['None', 'null', '-', '', ' ', 'NaN', 'nan', 'NAN']\n",
    "column_to_fill = 'RH (%)'\n",
    "\n",
    "for df_name, df in tqdm(dataframes.items(), desc=\"Processing DataFrames\"):\n",
    "    if column_to_fill in df.columns:\n",
    "        df[column_to_fill].replace(na_values, np.nan, inplace=True)\n",
    "        \n",
    "        # Fill three consecutive NaN values wrapped with two non-NaN values:\n",
    "        nan_wrapped_count = 0\n",
    "        td_values = df[column_to_fill].values\n",
    "        i = 2  # Start from index 2 to ensure i-2 is valid\n",
    "        while i < len(td_values) - 4:\n",
    "            if (pd.isna(td_values[i]) and pd.isna(td_values[i+1]) and pd.isna(td_values[i+2]) and\n",
    "                not pd.isna(td_values[i - 2]) and not pd.isna(td_values[i - 1]) and\n",
    "                not pd.isna(td_values[i + 3]) and not pd.isna(td_values[i + 4])):\n",
    "                \n",
    "                val1 = float(td_values[i - 2])\n",
    "                val2 = float(td_values[i - 1])\n",
    "                val3 = float(td_values[i + 3])\n",
    "                val4 = float(td_values[i + 4])\n",
    "                \n",
    "                # Determine trends\n",
    "                trend_before = val2 < val1\n",
    "                trend_after = val4 < val3\n",
    "                if trend_before == trend_after:\n",
    "                    try:\n",
    "                        diff = val3 - val2\n",
    "                        td_values[i] = val2 + diff / 4\n",
    "                        td_values[i + 1] = val2 + (diff * 2) / 4\n",
    "                        td_values[i + 2] = val2 + (diff * 3) / 4\n",
    "                        nan_wrapped_count += 3\n",
    "                        i += 3  # Skip the next indices as they're already processed\n",
    "                        continue\n",
    "                    except ValueError as e:\n",
    "                        print(f\"ValueError encountered in {df_name} at indices {i}, {i+1}, and {i+2}: {e}\")\n",
    "            i += 1\n",
    "        print(f\"Number of NaN values wrapped with three non-NaN values and filled in {df_name} station: {nan_wrapped_count} which is {nan_wrapped_count / len(df) * 100:.2f}% of the data\")"
   ]
  },
  {
   "cell_type": "markdown",
   "metadata": {},
   "source": []
  },
  {
   "cell_type": "markdown",
   "metadata": {},
   "source": [
    "## Wind"
   ]
  },
  {
   "cell_type": "markdown",
   "metadata": {},
   "source": [
    "ploting the wind and gust before the transformation into vectors for the first station:"
   ]
  },
  {
   "cell_type": "code",
   "execution_count": null,
   "metadata": {},
   "outputs": [],
   "source": [
    "# Example: Plot 2D histogram plots of the wind: 'WD (deg)' and 'WS (m/s)' and gust: 'WDmax (deg)' and 'WSmax (m/s)' for the first dataframe\n",
    "\n",
    "# Assuming 'dataframes' is a dictionary of DataFrames and we take the first one\n",
    "first_df_name = list(dataframes.keys())[0]\n",
    "first_df = dataframes[first_df_name]\n",
    "\n",
    "# Replace specified na_values with np.nan\n",
    "na_values = ['None', 'null', '-', '', ' ', 'NaN', 'nan', 'NAN']\n",
    "first_df['WD (deg)'].replace(na_values, np.nan, inplace=True)\n",
    "first_df['WS (m/s)'].replace(na_values, np.nan, inplace=True)\n",
    "first_df['WDmax (deg)'].replace(na_values, np.nan, inplace=True)\n",
    "first_df['WSmax (m/s)'].replace(na_values, np.nan, inplace=True)\n",
    "\n",
    "# Convert columns to numeric, forcing errors to NaN\n",
    "first_df['WD (deg)'] = pd.to_numeric(first_df['WD (deg)'], errors='coerce')\n",
    "first_df['WS (m/s)'] = pd.to_numeric(first_df['WS (m/s)'], errors='coerce')\n",
    "first_df['WDmax (deg)'] = pd.to_numeric(first_df['WDmax (deg)'], errors='coerce')\n",
    "first_df['WSmax (m/s)'] = pd.to_numeric(first_df['WSmax (m/s)'], errors='coerce')\n",
    "\n",
    "# Create subplots\n",
    "fig, ax = plt.subplots(1, 2, figsize=(14, 6))\n",
    "\n",
    "# Mask to filter out NaN values for wind\n",
    "mask_wind = first_df['WD (deg)'].notna() & first_df['WS (m/s)'].notna()\n",
    "\n",
    "# Create the 2D histogram plot for wind\n",
    "hist_wind = ax[0].hist2d(first_df.loc[mask_wind, 'WD (deg)'], first_df.loc[mask_wind, 'WS (m/s)'], bins=(50, 50), vmax=400)\n",
    "fig.colorbar(hist_wind[3], ax=ax[0])\n",
    "ax[0].set_xlabel('Wind Direction [deg]')\n",
    "ax[0].set_ylabel('Wind Velocity [m/s]')\n",
    "ax[0].set_title(f'2D Histogram of Wind for {first_df_name}')\n",
    "\n",
    "# Mask to filter out NaN values for gust\n",
    "mask_gust = first_df['WDmax (deg)'].notna() & first_df['WSmax (m/s)'].notna()\n",
    "\n",
    "# Create the 2D histogram plot for gust\n",
    "hist_gust = ax[1].hist2d(first_df.loc[mask_gust, 'WDmax (deg)'], first_df.loc[mask_gust, 'WSmax (m/s)'], bins=(50, 50), vmax=400)\n",
    "fig.colorbar(hist_gust[3], ax=ax[1])\n",
    "ax[1].set_xlabel('Gust Direction [deg]')\n",
    "ax[1].set_ylabel('Gust Velocity [m/s]')\n",
    "ax[1].set_title(f'2D Histogram of Gust for {first_df_name}')\n",
    "\n",
    "plt.tight_layout()\n",
    "plt.show()"
   ]
  },
  {
   "cell_type": "markdown",
   "metadata": {},
   "source": [
    "tranforming wind and gust into vectors:"
   ]
  },
  {
   "cell_type": "code",
   "execution_count": 5,
   "metadata": {},
   "outputs": [
    {
     "name": "stderr",
     "output_type": "stream",
     "text": [
      "Processing DataFrames: 100%|██████████| 70/70 [00:26<00:00,  2.65it/s]\n"
     ]
    }
   ],
   "source": [
    "for df_name, df in tqdm(dataframes.items(), desc=\"Processing DataFrames\"):\n",
    "    try:\n",
    "        wind_speed = pd.to_numeric(df.pop('WS (m/s)'), errors='coerce')\n",
    "        wind_direction_rad = pd.to_numeric(df.pop('WD (deg)'), errors='coerce') * np.pi / 180\n",
    "        if wind_speed is not None and wind_direction_rad is not None:\n",
    "            mask_wind = wind_speed.notna() & wind_direction_rad.notna()\n",
    "            df['Wind_x'] = wind_speed * np.cos(wind_direction_rad)\n",
    "            df['Wind_y'] = wind_speed * np.sin(wind_direction_rad)\n",
    "            df.loc[~mask_wind, ['Wind_x', 'Wind_y']] = np.nan\n",
    "\n",
    "        gust_speed = pd.to_numeric(df.pop('WSmax (m/s)'), errors='coerce')\n",
    "        gust_direction_rad = pd.to_numeric(df.pop('WDmax (deg)'), errors='coerce') * np.pi / 180\n",
    "        if gust_speed is not None and gust_direction_rad is not None:\n",
    "            mask_gust = gust_speed.notna() & gust_direction_rad.notna()\n",
    "            df['Gust_x'] = gust_speed * np.cos(gust_direction_rad)\n",
    "            df['Gust_y'] = gust_speed * np.sin(gust_direction_rad)\n",
    "            df.loc[~mask_gust, ['Gust_x', 'Gust_y']] = np.nan\n",
    "    except KeyError as e:\n",
    "        print(f\"KeyError encountered in {df_name}: {e}\")\n",
    "    except TypeError as e:\n",
    "        print(f\"TypeError encountered in {df_name}: {e}\")"
   ]
  },
  {
   "cell_type": "markdown",
   "metadata": {},
   "source": [
    "ploting the wind and gust vectors after the transformation for the first station:"
   ]
  },
  {
   "cell_type": "code",
   "execution_count": 7,
   "metadata": {},
   "outputs": [
    {
     "data": {
      "image/png": "[encoded data removed]",
      "text/plain": [
       "<Figure size 1400x600 with 4 Axes>"
      ]
     },
     "metadata": {},
     "output_type": "display_data"
    }
   ],
   "source": [
    "# Plot 2D histogram plots of the wind ('Wind_x', 'Wind_y') and gust ('Gust_x', 'Gust_y') for the first dataframe\n",
    "first_df_name = list(dataframes.keys())[0]\n",
    "first_df = dataframes[first_df_name]\n",
    "\n",
    "fig, ax = plt.subplots(1, 2, figsize=(14, 6))\n",
    "\n",
    "# Mask to filter out NaN values for wind\n",
    "mask_wind = first_df['Wind_x'].notna() & first_df['Wind_y'].notna()\n",
    "\n",
    "# Create the 2D histogram plot for wind\n",
    "hist_wind = ax[0].hist2d(first_df.loc[mask_wind, 'Wind_x'], first_df.loc[mask_wind, 'Wind_y'], bins=(50, 50), vmax=400)\n",
    "fig.colorbar(hist_wind[3], ax=ax[0])\n",
    "ax[0].set_xlabel('Wind X Component')\n",
    "ax[0].set_ylabel('Wind Y Component')\n",
    "ax[0].set_title(f'2D Histogram of Wind Components for {first_df_name}')\n",
    "\n",
    "# Mask to filter out NaN values for gust\n",
    "mask_gust = first_df['Gust_x'].notna() & first_df['Gust_y'].notna()\n",
    "\n",
    "# Create the 2D histogram plot for gust\n",
    "hist_gust = ax[1].hist2d(first_df.loc[mask_gust, 'Gust_x'], first_df.loc[mask_gust, 'Gust_y'], bins=(50, 50), vmax=400)\n",
    "fig.colorbar(hist_gust[3], ax=ax[1])\n",
    "ax[1].set_xlabel('Gust X Component')\n",
    "ax[1].set_ylabel('Gust Y Component')\n",
    "ax[1].set_title(f'2D Histogram of Gust Components for {first_df_name}')\n",
    "\n",
    "plt.tight_layout()\n",
    "plt.show()"
   ]
  },
  {
   "cell_type": "markdown",
   "metadata": {},
   "source": [
    "# Show and Save"
   ]
  },
  {
   "cell_type": "markdown",
   "metadata": {},
   "source": [
    "## Display"
   ]
  },
  {
   "cell_type": "markdown",
   "metadata": {},
   "source": [
    "### heads:"
   ]
  },
  {
   "cell_type": "code",
   "execution_count": null,
   "metadata": {},
   "outputs": [],
   "source": [
    "# Display the head of all dataframes in the dataframes dictionary\n",
    "for df_name, df in dataframes.items():\n",
    "    print(f\"DataFrame: {df_name}\")\n",
    "    display(df.head())"
   ]
  },
  {
   "cell_type": "markdown",
   "metadata": {},
   "source": [
    "### time:"
   ]
  },
  {
   "cell_type": "code",
   "execution_count": null,
   "metadata": {},
   "outputs": [],
   "source": [
    "fig, ax = plt.subplots(1, 2, figsize=(12, 6))\n",
    "\n",
    "# Plot the Day sin and cos on the first subplot\n",
    "ax[0].plot(np.array(df['Day sin'])[:48*6])\n",
    "ax[0].plot(np.array(df['Day cos'])[:48*6])\n",
    "ax[0].legend(['Day sin', 'Day cos'])\n",
    "ax[0].set_xlabel('Time [h]')\n",
    "ax[0].set_title('Time of 48 hours (2 days) signal')\n",
    "\n",
    "# Plot the Year sin and cos on the second subplot\n",
    "ax[1].plot(np.array(df['Year sin'])[:365*2*24*6])\n",
    "ax[1].plot(np.array(df['Year cos'])[:365*2*24*6])\n",
    "ax[1].legend(['Year sin', 'Year cos'])\n",
    "ax[1].set_xlabel('Time [h]')\n",
    "ax[1].set_title('Time of 2 years signal')\n",
    "plt.show()"
   ]
  },
  {
   "cell_type": "markdown",
   "metadata": {},
   "source": [
    "## Save Changes"
   ]
  },
  {
   "cell_type": "markdown",
   "metadata": {},
   "source": [
    "#### csv:"
   ]
  },
  {
   "cell_type": "code",
   "execution_count": 14,
   "metadata": {},
   "outputs": [
    {
     "name": "stderr",
     "output_type": "stream",
     "text": [
      "Saving DataFrames: 100%|██████████| 70/70 [22:39<00:00, 19.42s/it]\n"
     ]
    }
   ],
   "source": [
    "# Save the dataframes back to CSV files with the changes made\n",
    "# for df_name, df in tqdm(dataframes.items(), desc=\"Saving DataFrames\"):\n",
    "    # file_path = os.path.join(DATA_DIRECTORY, f\"{df_name}.csv\")\n",
    "    # df.to_csv(file_path, index=False)"
   ]
  },
  {
   "cell_type": "markdown",
   "metadata": {},
   "source": [
    "#### pickle:"
   ]
  },
  {
   "cell_type": "code",
   "execution_count": 16,
   "metadata": {},
   "outputs": [
    {
     "name": "stderr",
     "output_type": "stream",
     "text": [
      "Saving DataFrames to Pickle: 100%|██████████| 70/70 [01:06<00:00,  1.05it/s]\n"
     ]
    }
   ],
   "source": [
    "# Save the dataframes to pickle files in the directory ../pickles/\n",
    "os.makedirs(DATA_DIRECTORY, exist_ok=True)\n",
    "\n",
    "for df_name, df in tqdm(dataframes.items(), desc=\"Saving DataFrames to Pickle\"):\n",
    "    file_path = os.path.join(DATA_DIRECTORY, f\"{df_name}.pkl\")\n",
    "    df.to_pickle(file_path)\n"
   ]
  }
 ],
 "metadata": {
  "kernelspec": {
   "display_name": "Python 3",
   "language": "python",
   "name": "python3"
  },
  "language_info": {
   "codemirror_mode": {
    "name": "ipython",
    "version": 3
   },
   "file_extension": ".py",
   "mimetype": "text/x-python",
   "name": "python",
   "nbconvert_exporter": "python",
   "pygments_lexer": "ipython3",
   "version": "3.11.2"
  }
 },
 "nbformat": 4,
 "nbformat_minor": 2
}

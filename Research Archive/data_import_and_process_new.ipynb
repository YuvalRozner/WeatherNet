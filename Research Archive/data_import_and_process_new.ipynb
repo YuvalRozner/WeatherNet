{
 "cells": [
  {
   "cell_type": "markdown",
   "metadata": {},
   "source": [
    "## pips and includes"
   ]
  },
  {
   "cell_type": "code",
   "execution_count": 1,
   "metadata": {},
   "outputs": [],
   "source": [
    "import pandas as pd\n",
    "import requests\n",
    "import json\n",
    "from datetime import datetime\n",
    "import os\n",
    "import numpy as np\n",
    "import matplotlib.pyplot as plt\n",
    "from tqdm import tqdm"
   ]
  },
  {
   "cell_type": "markdown",
   "metadata": {},
   "source": [
    "## Constants"
   ]
  },
  {
   "cell_type": "code",
   "execution_count": 2,
   "metadata": {},
   "outputs": [],
   "source": [
    "BEGINING_OF_YEAR = \"01010000\"\n",
    "ENDING_OF_YEAR = \"12312350\"\n",
    "START_YEAR = 2005\n",
    "END_YEAR = 2024\n",
    "\n",
    "DATA_DIRECTORY = \"../data/newFinalStations/\"\n",
    "\n",
    "columns = [\n",
    "    \"Date Time\", \"BP (hPa)\", \"DiffR (w/m^2)\", \"Grad (w/m^2)\", \"NIP (w/m^2)\", \"RH (%)\",\n",
    "    \"TD (degC)\", \"TDmax (degC)\", \"TDmin (degC)\", \"WD (deg)\", \"WDmax (deg)\",\n",
    "    \"WS (m/s)\", \"Ws1mm (m/s)\", \"Ws10mm (m/s)\", \"WSmax (m/s)\", \"STDwd (deg)\"\n",
    "]\n",
    "\n",
    "column_pairs = [\n",
    "    (\"date\", \"Date Time\"),\n",
    "    (\"BP\", \"BP (hPa)\"),\n",
    "    (\"DiffR\", \"DiffR (w/m^2)\"),\n",
    "    (\"Grad\", \"Grad (w/m^2)\"),\n",
    "    (\"NIP\", \"NIP (w/m^2)\"),\n",
    "    (\"RH\", \"RH (%)\"),\n",
    "    (\"TD\", \"TD (degC)\"),\n",
    "    (\"TDmax\", \"TDmax (degC)\"),\n",
    "    (\"TDmin\", \"TDmin (degC)\"),\n",
    "    (\"WD\", \"WD (deg)\"),\n",
    "    (\"WDmax\", \"WDmax (deg)\"),\n",
    "    (\"WS\", \"WS (m/s)\"),\n",
    "    (\"WS1mm\", \"Ws1mm (m/s)\"),\n",
    "    (\"Ws10mm\", \"Ws10mm (m/s)\"),\n",
    "    (\"WSmax\", \"WSmax (m/s)\"),\n",
    "    (\"STDwd\", \"STDwd (deg)\")\n",
    "]\n",
    "\n",
    "na_values = ['None', 'null', '-', '', ' ', 'NaN', 'nan', 'NAN']"
   ]
  },
  {
   "cell_type": "markdown",
   "metadata": {},
   "source": [
    "### the stations:"
   ]
  },
  {
   "cell_type": "code",
   "execution_count": 3,
   "metadata": {},
   "outputs": [],
   "source": [
    "newStationsLst = {\n",
    "    \"Newe Yaar\": \"186\",\n",
    "    \"Tavor Kadoorie\": \"13\",\n",
    "    \"Yavneel\": \"11\"\n",
    "}"
   ]
  },
  {
   "cell_type": "markdown",
   "metadata": {},
   "source": [
    "# Importing New Data"
   ]
  },
  {
   "cell_type": "markdown",
   "metadata": {},
   "source": [
    "## Utills functions"
   ]
  },
  {
   "cell_type": "markdown",
   "metadata": {},
   "source": [
    "### processing:"
   ]
  },
  {
   "cell_type": "code",
   "execution_count": 40,
   "metadata": {},
   "outputs": [],
   "source": [
    "def remove_unwanted_keys(data):\n",
    "    # Remove 'sid', 'sname', and 'date_for_sort' from each record in data\n",
    "    for record in data['data']['records']:\n",
    "        # if 'date_for_sort' in record:\n",
    "        #     del record['date_for_sort']\n",
    "        if 'sid' in record:\n",
    "            del record['sid']\n",
    "        if 'TW' in record:\n",
    "            del record['TW']\n",
    "        if 'sname' in record:\n",
    "            del record['sname']\n",
    "\n",
    "def replace_column_names(data):\n",
    "    # Replace the names of the columns by the pairs in column_pairs\n",
    "    for record in data['data']['records']:\n",
    "        for new_name, old_name in column_pairs:\n",
    "            if new_name in record:\n",
    "                record[old_name] = record.pop(new_name)\n",
    "\n",
    "def process_data(data):\n",
    "    remove_unwanted_keys(data)\n",
    "    replace_column_names(data)\n",
    "\n",
    "def save_to_csv(data, filename):\n",
    "    import csv\n",
    "    # Extract the column names from the first record\n",
    "    column_names = data['data']['records'][0].keys()\n",
    "    # Open the file in write mode\n",
    "    with open(DATA_DIRECTORY+filename, mode='w', newline='') as file:\n",
    "        writer = csv.DictWriter(file, fieldnames=column_names)\n",
    "        # Write the header\n",
    "        writer.writeheader()\n",
    "        # Write the data\n",
    "        for record in data['data']['records']:\n",
    "            writer.writerow(record)"
   ]
  },
  {
   "cell_type": "markdown",
   "metadata": {},
   "source": [
    "### fetching:"
   ]
  },
  {
   "cell_type": "code",
   "execution_count": 41,
   "metadata": {},
   "outputs": [],
   "source": [
    "def fetch_weather_data(station_id, start_date, end_date):\n",
    "    url = f\"https://ims.gov.il/he/envista_station_all_data_time_range/{station_id}/BP%26DiffR%26Grad%26NIP%26RH%26TD%26TDmax%26TDmin%26TW%26WD%26WDmax%26WS%26WS1mm%26Ws10mm%26Ws10maxEnd%26WSmax%26STDwd%26Rain/{start_date}/{end_date}/1/S\"\n",
    "    response = requests.get(url)\n",
    "    data = json.loads(response.content)\n",
    "    return data\n",
    "\n",
    "\n",
    "def fetch_data_for_station(station_id, start_year, end_year):\n",
    "    all_data = []\n",
    "    for year in range(start_year, end_year + 1):\n",
    "        today_fore0 = f\"{year}\" + BEGINING_OF_YEAR\n",
    "        today_fore23 = f\"{year}\" + ENDING_OF_YEAR\n",
    "        data = fetch_weather_data(station_id, today_fore0, today_fore23)\n",
    "        process_data(data)\n",
    "        # Convert the data to a DataFrame and append to the list\n",
    "        df = pd.DataFrame(data['data']['records'])\n",
    "        all_data.append(df)\n",
    "    # Concatenate all DataFrames\n",
    "    combined_df = pd.concat(all_data, ignore_index=True)\n",
    "    return combined_df\n",
    "\n",
    "\n",
    "def get_and_save_station_data(station_name, station_id, start_year, end_year):\n",
    "    # Get all data for the station\n",
    "    combined_df = fetch_data_for_station(station_id, start_year, end_year)\n",
    "    # Convert the DataFrame back to the dictionary format expected by process_data\n",
    "    data = {'data': {'records': combined_df.to_dict(orient='records')}}\n",
    "    # Process the data\n",
    "    process_data(data)\n",
    "    # Save the data to a CSV file\n",
    "    filename = f\"{station_name}_data_{start_year}_{end_year}.csv\"\n",
    "    save_to_csv(data, filename)\n",
    "\n"
   ]
  },
  {
   "cell_type": "markdown",
   "metadata": {},
   "source": [
    "## Download from IMS"
   ]
  },
  {
   "cell_type": "markdown",
   "metadata": {},
   "source": [
    "### download data:"
   ]
  },
  {
   "cell_type": "code",
   "execution_count": 42,
   "metadata": {},
   "outputs": [],
   "source": [
    "# for station_name, station_id in newStationsLst.items():\n",
    "#     filename = f\"{DATA_DIRECTORY}{station_name}_data_{START_YEAR}_{END_YEAR}.csv\"\n",
    "#     if not os.path.exists(filename):\n",
    "#         print(f\"Downloading data for {station_name}\")\n",
    "#         try:\n",
    "#             get_and_save_station_data(station_name, station_id, START_YEAR, END_YEAR)\n",
    "#         except IndexError as e:\n",
    "#             print(f\"Error processing data for {station_name}: {e}\")"
   ]
  },
  {
   "cell_type": "markdown",
   "metadata": {},
   "source": [
    "# Sync files"
   ]
  },
  {
   "cell_type": "code",
   "execution_count": 22,
   "metadata": {},
   "outputs": [
    {
     "name": "stderr",
     "output_type": "stream",
     "text": [
      "Loading CSV files: 100%|██████████| 3/3 [00:24<00:00,  8.01s/it]\n"
     ]
    }
   ],
   "source": [
    "data_files = [f for f in os.listdir(DATA_DIRECTORY) if f.endswith('.csv')]\n",
    "\n",
    "dataframes = {}\n",
    "for file in tqdm(data_files, desc=\"Loading CSV files\"):\n",
    "    file_path = os.path.join(DATA_DIRECTORY, file)\n",
    "    df_name = os.path.splitext(file)[0]\n",
    "    dataframes[df_name] = pd.read_csv(file_path, low_memory=False, na_values=na_values)"
   ]
  },
  {
   "cell_type": "code",
   "execution_count": 23,
   "metadata": {},
   "outputs": [],
   "source": [
    "# Sort each dataframe by the column 'date_for_sort'\n",
    "for df_name, df in dataframes.items():\n",
    "    dataframes[df_name] = df.sort_values(by='date_for_sort')"
   ]
  },
  {
   "cell_type": "code",
   "execution_count": 24,
   "metadata": {},
   "outputs": [
    {
     "name": "stdout",
     "output_type": "stream",
     "text": [
      "Index to keep for dataframe Newe Yaar_data_2005_2024: 634\n",
      "Index to keep for dataframe Tavor Kadoorie_data_2005_2024: 12648\n",
      "Index to keep for dataframe Yavneel_data_2005_2024: 12960\n"
     ]
    }
   ],
   "source": [
    "date_to_keep = '01/04/2005 00:00'\n",
    "for df_name, df in dataframes.items():\n",
    "    index_to_keep = df[df['Date Time'] == date_to_keep].index\n",
    "    if not index_to_keep.empty:\n",
    "        index_to_keep = index_to_keep[0]\n",
    "        print(f\"Index to keep for dataframe {df_name}: {index_to_keep}\")\n",
    "        dataframes[df_name] = df.loc[index_to_keep:].reset_index(drop=True)\n",
    "    else:\n",
    "        print(f\"{date_to_keep} not found in dataframe {df_name}\")"
   ]
  },
  {
   "cell_type": "code",
   "execution_count": 25,
   "metadata": {},
   "outputs": [
    {
     "name": "stdout",
     "output_type": "stream",
     "text": [
      "Length of dataframe Newe Yaar_data_2005_2024: 1038043\n",
      "Length of dataframe Tavor Kadoorie_data_2005_2024: 1035984\n",
      "Length of dataframe Yavneel_data_2005_2024: 1034035\n",
      "should have been:                            1051920\n"
     ]
    }
   ],
   "source": [
    "# Print the length of each dataframe in dataframes\n",
    "for df_name, df in dataframes.items():\n",
    "    print(f\"Length of dataframe {df_name}: {len(df)}\")\n",
    "\n",
    "durationDays = 7215 # 01/04/2005 - 31/12/2024\n",
    "print(f\"should have been:                            {durationDays*24*6}\")"
   ]
  },
  {
   "cell_type": "code",
   "execution_count": 29,
   "metadata": {},
   "outputs": [
    {
     "name": "stdout",
     "output_type": "stream",
     "text": [
      "Rows deleted from Newe Yaar_data_2005_2024: 6775\n",
      "Rows deleted from Tavor Kadoorie_data_2005_2024: 4716\n",
      "Rows deleted from Yavneel_data_2005_2024: 2767\n"
     ]
    }
   ],
   "source": [
    "# Find common 'Date Time' keys present in all dataframes\n",
    "common_keys = set.intersection(*(set(df['Date Time']) for df in dataframes.values()))\n",
    "\n",
    "# Initialize a dictionary to store the number of deleted rows\n",
    "deleted_rows = {}\n",
    "\n",
    "# Remove rows not in common_keys and count deletions\n",
    "for df_name, df in dataframes.items():\n",
    "    initial_count = len(df)\n",
    "    df_filtered = df[df['Date Time'].isin(common_keys)].reset_index(drop=True)\n",
    "    deleted = initial_count - len(df_filtered)\n",
    "    dataframes[df_name] = df_filtered\n",
    "    deleted_rows[df_name] = deleted\n",
    "\n",
    "# Print the number of rows deleted from each dataframe\n",
    "for df_name, deleted in deleted_rows.items():\n",
    "    print(f\"Rows deleted from {df_name}: {deleted}\")\n",
    "\n"
   ]
  },
  {
   "cell_type": "code",
   "execution_count": 31,
   "metadata": {},
   "outputs": [
    {
     "name": "stdout",
     "output_type": "stream",
     "text": [
      "Length of dataframe Newe Yaar_data_2005_2024: 1031268\n",
      "Length of dataframe Tavor Kadoorie_data_2005_2024: 1031268\n",
      "Length of dataframe Yavneel_data_2005_2024: 1031268\n",
      "should have been:                            1038960\n"
     ]
    }
   ],
   "source": [
    "# Print the length of each dataframe in dataframes\n",
    "for df_name, df in dataframes.items():\n",
    "    print(f\"Length of dataframe {df_name}: {len(df)}\")\n",
    "\n",
    "durationDays = 7215 # 01/04/2005 - 31/12/2024\n",
    "print(f\"should have been:                            {durationDays*24*6}\")"
   ]
  },
  {
   "cell_type": "markdown",
   "metadata": {},
   "source": [
    "### save:"
   ]
  },
  {
   "cell_type": "code",
   "execution_count": 90,
   "metadata": {},
   "outputs": [],
   "source": [
    "# Save the modified dataframes back to their original pickle files\n",
    "for df_name, df in dataframes.items():\n",
    "    file_path = os.path.join(DATA_DIRECTORY, f\"{df_name}.pkl\")\n",
    "    df.to_pickle(file_path)"
   ]
  },
  {
   "cell_type": "markdown",
   "metadata": {},
   "source": [
    "# Preprocessing"
   ]
  },
  {
   "cell_type": "code",
   "execution_count": 94,
   "metadata": {},
   "outputs": [
    {
     "name": "stderr",
     "output_type": "stream",
     "text": [
      "Loading Pickle files: 100%|██████████| 3/3 [00:00<00:00, 18.64it/s]\n"
     ]
    }
   ],
   "source": [
    "data_files = [f for f in os.listdir(DATA_DIRECTORY) if f.endswith('.pkl')]\n",
    "\n",
    "dataframes = {}\n",
    "for file in tqdm(data_files, desc=\"Loading Pickle files\"):\n",
    "    file_path = os.path.join(DATA_DIRECTORY, file)\n",
    "    df_name = os.path.splitext(file)[0]\n",
    "    dataframes[df_name] = pd.read_pickle(file_path)"
   ]
  },
  {
   "cell_type": "markdown",
   "metadata": {},
   "source": [
    "## Remove unecessary columns"
   ]
  },
  {
   "cell_type": "code",
   "execution_count": 48,
   "metadata": {},
   "outputs": [],
   "source": [
    "columns_to_remove = ['date_for_sort', 'BP (hPa)', 'Time', 'Grad (w/m^2)', 'DiffR (w/m^2)', 'NIP (w/m^2)', 'Ws10mm (m/s)', 'Ws1mm (m/s)']\n",
    "\n",
    "for df_name, df in dataframes.items():\n",
    "    df.drop(columns=[col for col in columns_to_remove if col in df.columns], inplace=True)"
   ]
  },
  {
   "cell_type": "markdown",
   "metadata": {},
   "source": [
    "## Data Imputation"
   ]
  },
  {
   "cell_type": "markdown",
   "metadata": {},
   "source": [
    "### 1 missing value:"
   ]
  },
  {
   "cell_type": "code",
   "execution_count": 70,
   "metadata": {},
   "outputs": [
    {
     "name": "stderr",
     "output_type": "stream",
     "text": [
      "Processing DataFrames:   0%|          | 0/3 [00:00<?, ?it/s]"
     ]
    },
    {
     "name": "stderr",
     "output_type": "stream",
     "text": [
      "C:\\Users\\gr062\\AppData\\Local\\Temp\\ipykernel_19164\\1700584968.py:5: FutureWarning: A value is trying to be set on a copy of a DataFrame or Series through chained assignment using an inplace method.\n",
      "The behavior will change in pandas 3.0. This inplace method will never work because the intermediate object on which we are setting values always behaves as a copy.\n",
      "\n",
      "For example, when doing 'df[col].method(value, inplace=True)', try using 'df.method({col: value}, inplace=True)' or df[col] = df[col].method(value) instead, to perform the operation inplace on the original object.\n",
      "\n",
      "\n",
      "  df['TD (degC)'].replace(na_values, np.nan, inplace=True)\n",
      "Processing DataFrames:  67%|██████▋   | 2/3 [00:00<00:00,  7.29it/s]"
     ]
    },
    {
     "name": "stdout",
     "output_type": "stream",
     "text": [
      "Number of NaN values wrapped with two non-NaN values and filled in Newe Yaar_data_2005_2024 station: 11 which is 0.006399032000977307% of the data\n",
      "Number of NaN values wrapped with two non-NaN values and filled in Tavor Kadoorie_data_2005_2024 station: 11 which is 0.006399032000977307% of the data\n"
     ]
    },
    {
     "name": "stderr",
     "output_type": "stream",
     "text": [
      "Processing DataFrames: 100%|██████████| 3/3 [00:00<00:00,  6.96it/s]"
     ]
    },
    {
     "name": "stdout",
     "output_type": "stream",
     "text": [
      "Number of NaN values wrapped with two non-NaN values and filled in Yavneel_data_2005_2024 station: 7 which is 0.0040721112733491955% of the data\n"
     ]
    },
    {
     "name": "stderr",
     "output_type": "stream",
     "text": [
      "\n"
     ]
    }
   ],
   "source": [
    "na_values = ['None', 'null', '-', '', ' ', 'NaN', 'nan', 'NAN']\n",
    "\n",
    "for df_name, df in tqdm(dataframes.items(), desc=\"Processing DataFrames\"):\n",
    "    if 'TD (degC)' in df.columns:\n",
    "        df['TD (degC)'].replace(na_values, np.nan, inplace=True)\n",
    "        \n",
    "        # Fill NaN values wrapped with two non-NaN values:\n",
    "        nan_wrapped_count = 0\n",
    "        td_values = df['TD (degC)'].values\n",
    "        for i in range(1, len(td_values) - 1):\n",
    "            if pd.isna(td_values[i]) and not pd.isna(td_values[i - 1]) and not pd.isna(td_values[i + 1]):\n",
    "                try:\n",
    "                    td_values[i] = (float(td_values[i - 1]) + float(td_values[i + 1])) / 2\n",
    "                    nan_wrapped_count += 1\n",
    "                except ValueError as e:\n",
    "                    print(f\"ValueError encountered in {df_name} at index {i}: {e}\")\n",
    "        print(f\"Number of NaN values wrapped with two non-NaN values and filled in {df_name} station: {nan_wrapped_count} which is {nan_wrapped_count / len(df) * 100}% of the data\")"
   ]
  },
  {
   "cell_type": "code",
   "execution_count": 71,
   "metadata": {},
   "outputs": [
    {
     "name": "stderr",
     "output_type": "stream",
     "text": [
      "Processing DataFrames:   0%|          | 0/3 [00:00<?, ?it/s]C:\\Users\\gr062\\AppData\\Local\\Temp\\ipykernel_19164\\2937968893.py:5: FutureWarning: A value is trying to be set on a copy of a DataFrame or Series through chained assignment using an inplace method.\n",
      "The behavior will change in pandas 3.0. This inplace method will never work because the intermediate object on which we are setting values always behaves as a copy.\n",
      "\n",
      "For example, when doing 'df[col].method(value, inplace=True)', try using 'df.method({col: value}, inplace=True)' or df[col] = df[col].method(value) instead, to perform the operation inplace on the original object.\n",
      "\n",
      "\n",
      "  df['TDmax (degC)'].replace(na_values, np.nan, inplace=True)\n",
      "Processing DataFrames:  33%|███▎      | 1/3 [00:00<00:00,  4.63it/s]"
     ]
    },
    {
     "name": "stdout",
     "output_type": "stream",
     "text": [
      "Number of NaN values wrapped with two non-NaN values and filled in Newe Yaar_data_2005_2024 station: 17 which is 0.009889413092419473% of the data\n"
     ]
    },
    {
     "name": "stderr",
     "output_type": "stream",
     "text": [
      "Processing DataFrames:  67%|██████▋   | 2/3 [00:00<00:00,  3.62it/s]"
     ]
    },
    {
     "name": "stdout",
     "output_type": "stream",
     "text": [
      "Number of NaN values wrapped with two non-NaN values and filled in Tavor Kadoorie_data_2005_2024 station: 15 which is 0.00872595272860542% of the data\n"
     ]
    },
    {
     "name": "stderr",
     "output_type": "stream",
     "text": [
      "Processing DataFrames: 100%|██████████| 3/3 [00:00<00:00,  3.66it/s]"
     ]
    },
    {
     "name": "stdout",
     "output_type": "stream",
     "text": [
      "Number of NaN values wrapped with two non-NaN values and filled in Yavneel_data_2005_2024 station: 7 which is 0.0040721112733491955% of the data\n"
     ]
    },
    {
     "name": "stderr",
     "output_type": "stream",
     "text": [
      "\n"
     ]
    }
   ],
   "source": [
    "na_values = ['None', 'null', '-', '', ' ', 'NaN', 'nan', 'NAN']\n",
    "\n",
    "for df_name, df in tqdm(dataframes.items(), desc=\"Processing DataFrames\"):\n",
    "    if 'TDmax (degC)' in df.columns:\n",
    "        df['TDmax (degC)'].replace(na_values, np.nan, inplace=True)\n",
    "        \n",
    "        # Fill NaN values wrapped with two non-NaN values:\n",
    "        nan_wrapped_count = 0\n",
    "        td_values = df['TDmax (degC)'].values\n",
    "        for i in range(1, len(td_values) - 1):\n",
    "            if pd.isna(td_values[i]) and not pd.isna(td_values[i - 1]) and not pd.isna(td_values[i + 1]):\n",
    "                try:\n",
    "                    td_values[i] = (float(td_values[i - 1]) + float(td_values[i + 1])) / 2\n",
    "                    nan_wrapped_count += 1\n",
    "                except ValueError as e:\n",
    "                    print(f\"ValueError encountered in {df_name} at index {i}: {e}\")\n",
    "        print(f\"Number of NaN values wrapped with two non-NaN values and filled in {df_name} station: {nan_wrapped_count} which is {nan_wrapped_count / len(df) * 100}% of the data\")"
   ]
  },
  {
   "cell_type": "code",
   "execution_count": 72,
   "metadata": {},
   "outputs": [
    {
     "name": "stderr",
     "output_type": "stream",
     "text": [
      "Processing DataFrames:   0%|          | 0/3 [00:00<?, ?it/s]C:\\Users\\gr062\\AppData\\Local\\Temp\\ipykernel_19164\\2539305799.py:5: FutureWarning: A value is trying to be set on a copy of a DataFrame or Series through chained assignment using an inplace method.\n",
      "The behavior will change in pandas 3.0. This inplace method will never work because the intermediate object on which we are setting values always behaves as a copy.\n",
      "\n",
      "For example, when doing 'df[col].method(value, inplace=True)', try using 'df.method({col: value}, inplace=True)' or df[col] = df[col].method(value) instead, to perform the operation inplace on the original object.\n",
      "\n",
      "\n",
      "  df['TDmin (degC)'].replace(na_values, np.nan, inplace=True)\n",
      "Processing DataFrames:  33%|███▎      | 1/3 [00:00<00:00,  3.87it/s]"
     ]
    },
    {
     "name": "stdout",
     "output_type": "stream",
     "text": [
      "Number of NaN values wrapped with two non-NaN values and filled in Newe Yaar_data_2005_2024 station: 11 which is 0.006399032000977307% of the data\n"
     ]
    },
    {
     "name": "stderr",
     "output_type": "stream",
     "text": [
      "Processing DataFrames:  67%|██████▋   | 2/3 [00:00<00:00,  4.07it/s]"
     ]
    },
    {
     "name": "stdout",
     "output_type": "stream",
     "text": [
      "Number of NaN values wrapped with two non-NaN values and filled in Tavor Kadoorie_data_2005_2024 station: 13 which is 0.007562492364791363% of the data\n"
     ]
    },
    {
     "name": "stderr",
     "output_type": "stream",
     "text": [
      "Processing DataFrames: 100%|██████████| 3/3 [00:00<00:00,  3.63it/s]"
     ]
    },
    {
     "name": "stdout",
     "output_type": "stream",
     "text": [
      "Number of NaN values wrapped with two non-NaN values and filled in Yavneel_data_2005_2024 station: 7 which is 0.0040721112733491955% of the data\n"
     ]
    },
    {
     "name": "stderr",
     "output_type": "stream",
     "text": [
      "\n"
     ]
    }
   ],
   "source": [
    "na_values = ['None', 'null', '-', '', ' ', 'NaN', 'nan', 'NAN']\n",
    "\n",
    "for df_name, df in tqdm(dataframes.items(), desc=\"Processing DataFrames\"):\n",
    "    if 'TDmin (degC)' in df.columns:\n",
    "        df['TDmin (degC)'].replace(na_values, np.nan, inplace=True)\n",
    "        \n",
    "        # Fill NaN values wrapped with two non-NaN values:\n",
    "        nan_wrapped_count = 0\n",
    "        td_values = df['TDmin (degC)'].values\n",
    "        for i in range(1, len(td_values) - 1):\n",
    "            if pd.isna(td_values[i]) and not pd.isna(td_values[i - 1]) and not pd.isna(td_values[i + 1]):\n",
    "                try:\n",
    "                    td_values[i] = (float(td_values[i - 1]) + float(td_values[i + 1])) / 2\n",
    "                    nan_wrapped_count += 1\n",
    "                except ValueError as e:\n",
    "                    print(f\"ValueError encountered in {df_name} at index {i}: {e}\")\n",
    "        print(f\"Number of NaN values wrapped with two non-NaN values and filled in {df_name} station: {nan_wrapped_count} which is {nan_wrapped_count / len(df) * 100}% of the data\")"
   ]
  },
  {
   "cell_type": "code",
   "execution_count": 73,
   "metadata": {},
   "outputs": [
    {
     "name": "stderr",
     "output_type": "stream",
     "text": [
      "Processing DataFrames:   0%|          | 0/3 [00:00<?, ?it/s]C:\\Users\\gr062\\AppData\\Local\\Temp\\ipykernel_19164\\641120800.py:5: FutureWarning: A value is trying to be set on a copy of a DataFrame or Series through chained assignment using an inplace method.\n",
      "The behavior will change in pandas 3.0. This inplace method will never work because the intermediate object on which we are setting values always behaves as a copy.\n",
      "\n",
      "For example, when doing 'df[col].method(value, inplace=True)', try using 'df.method({col: value}, inplace=True)' or df[col] = df[col].method(value) instead, to perform the operation inplace on the original object.\n",
      "\n",
      "\n",
      "  df['RH (%)'].replace(na_values, np.nan, inplace=True)\n",
      "Processing DataFrames:  33%|███▎      | 1/3 [00:00<00:00,  3.34it/s]"
     ]
    },
    {
     "name": "stdout",
     "output_type": "stream",
     "text": [
      "Number of NaN values wrapped with two non-NaN values and filled in Newe Yaar_data_2005_2024 station: 18 which is 0.010471143274326501% of the data\n"
     ]
    },
    {
     "name": "stderr",
     "output_type": "stream",
     "text": [
      "Processing DataFrames:  67%|██████▋   | 2/3 [00:00<00:00,  3.83it/s]"
     ]
    },
    {
     "name": "stdout",
     "output_type": "stream",
     "text": [
      "Number of NaN values wrapped with two non-NaN values and filled in Tavor Kadoorie_data_2005_2024 station: 15 which is 0.00872595272860542% of the data\n"
     ]
    },
    {
     "name": "stderr",
     "output_type": "stream",
     "text": [
      "Processing DataFrames: 100%|██████████| 3/3 [00:00<00:00,  3.87it/s]"
     ]
    },
    {
     "name": "stdout",
     "output_type": "stream",
     "text": [
      "Number of NaN values wrapped with two non-NaN values and filled in Yavneel_data_2005_2024 station: 18 which is 0.010471143274326501% of the data\n"
     ]
    },
    {
     "name": "stderr",
     "output_type": "stream",
     "text": [
      "\n"
     ]
    }
   ],
   "source": [
    "na_values = ['None', 'null', '-', '', ' ', 'NaN', 'nan', 'NAN']\n",
    "\n",
    "for df_name, df in tqdm(dataframes.items(), desc=\"Processing DataFrames\"):\n",
    "    if 'RH (%)' in df.columns:\n",
    "        df['RH (%)'].replace(na_values, np.nan, inplace=True)\n",
    "        \n",
    "        # Fill NaN values wrapped with two non-NaN values:\n",
    "        nan_wrapped_count = 0\n",
    "        td_values = df['RH (%)'].values\n",
    "        for i in range(1, len(td_values) - 1):\n",
    "            if pd.isna(td_values[i]) and not pd.isna(td_values[i - 1]) and not pd.isna(td_values[i + 1]) and not pd.isna(td_values[i - 2]) and not pd.isna(td_values[i + 2]):\n",
    "                trend_before = td_values[i - 1] < td_values[i - 2] if i - 2 >= 0 else None\n",
    "                trend_after = td_values[i + 1] < td_values[i + 2] if i + 2 < len(td_values) else None\n",
    "                if trend_before == trend_after:\n",
    "                    try:\n",
    "                        td_values[i] = (float(td_values[i - 1]) + float(td_values[i + 1])) / 2\n",
    "                        nan_wrapped_count += 1\n",
    "                    except ValueError as e:\n",
    "                        print(f\"ValueError encountered in {df_name} at index {i}: {e}\")\n",
    "        print(f\"Number of NaN values wrapped with two non-NaN values and filled in {df_name} station: {nan_wrapped_count} which is {nan_wrapped_count / len(df) * 100}% of the data\")"
   ]
  },
  {
   "cell_type": "markdown",
   "metadata": {},
   "source": [
    "### 2 missing values together:"
   ]
  },
  {
   "cell_type": "code",
   "execution_count": 74,
   "metadata": {},
   "outputs": [
    {
     "name": "stderr",
     "output_type": "stream",
     "text": [
      "Processing DataFrames:   0%|          | 0/3 [00:00<?, ?it/s]C:\\Users\\gr062\\AppData\\Local\\Temp\\ipykernel_19164\\4118533079.py:6: FutureWarning: A value is trying to be set on a copy of a DataFrame or Series through chained assignment using an inplace method.\n",
      "The behavior will change in pandas 3.0. This inplace method will never work because the intermediate object on which we are setting values always behaves as a copy.\n",
      "\n",
      "For example, when doing 'df[col].method(value, inplace=True)', try using 'df.method({col: value}, inplace=True)' or df[col] = df[col].method(value) instead, to perform the operation inplace on the original object.\n",
      "\n",
      "\n",
      "  df[column_to_fill].replace(na_values, np.nan, inplace=True)\n",
      "Processing DataFrames:  33%|███▎      | 1/3 [00:00<00:00,  2.33it/s]"
     ]
    },
    {
     "name": "stdout",
     "output_type": "stream",
     "text": [
      "Number of NaN values wrapped with two non-NaN values and filled in Newe Yaar_data_2005_2024 station: 0 which is 0.00% of the data\n"
     ]
    },
    {
     "name": "stderr",
     "output_type": "stream",
     "text": [
      "Processing DataFrames:  67%|██████▋   | 2/3 [00:00<00:00,  2.88it/s]"
     ]
    },
    {
     "name": "stdout",
     "output_type": "stream",
     "text": [
      "Number of NaN values wrapped with two non-NaN values and filled in Tavor Kadoorie_data_2005_2024 station: 2 which is 0.00% of the data\n"
     ]
    },
    {
     "name": "stderr",
     "output_type": "stream",
     "text": [
      "Processing DataFrames: 100%|██████████| 3/3 [00:01<00:00,  2.83it/s]"
     ]
    },
    {
     "name": "stdout",
     "output_type": "stream",
     "text": [
      "Number of NaN values wrapped with two non-NaN values and filled in Yavneel_data_2005_2024 station: 6 which is 0.00% of the data\n"
     ]
    },
    {
     "name": "stderr",
     "output_type": "stream",
     "text": [
      "\n"
     ]
    }
   ],
   "source": [
    "na_values = ['None', 'null', '-', '', ' ', 'NaN', 'nan', 'NAN']\n",
    "column_to_fill = 'TD (degC)'\n",
    "\n",
    "for df_name, df in tqdm(dataframes.items(), desc=\"Processing DataFrames\"):\n",
    "    if column_to_fill in df.columns:\n",
    "        df[column_to_fill].replace(na_values, np.nan, inplace=True)\n",
    "        \n",
    "        # Fill two consecutive NaN values wrapped with two non-NaN values:\n",
    "        nan_wrapped_count = 0\n",
    "        td_values = df[column_to_fill].values\n",
    "        i = 2  # Start from index 2 to ensure i-2 is valid\n",
    "        while i < len(td_values) - 2:\n",
    "            if (pd.isna(td_values[i]) and pd.isna(td_values[i+1]) and\n",
    "                not pd.isna(td_values[i - 2]) and not pd.isna(td_values[i - 1]) and\n",
    "                not pd.isna(td_values[i + 2]) and not pd.isna(td_values[i + 3])):\n",
    "                \n",
    "                val1 = float(td_values[i - 2])\n",
    "                val2 = float(td_values[i - 1])\n",
    "                val3 = float(td_values[i + 2])\n",
    "                val4 = float(td_values[i + 3])\n",
    "                \n",
    "                # Determine trends\n",
    "                trend_before = val2 < val1\n",
    "                trend_after = val4 < val3\n",
    "                if trend_before == trend_after:\n",
    "                    try:\n",
    "                        diff = val3 - val2\n",
    "                        td_values[i] = val2 + diff / 3\n",
    "                        td_values[i + 1] = val2 + diff * 2 / 3\n",
    "                        nan_wrapped_count += 2\n",
    "                        i += 2  # Skip the next index as it's already processed\n",
    "                        continue\n",
    "                    except ValueError as e:\n",
    "                        print(f\"ValueError encountered in {df_name} at indices {i} and {i+1}: {e}\")\n",
    "            i += 1\n",
    "        print(f\"Number of NaN values wrapped with two non-NaN values and filled in {df_name} station: {nan_wrapped_count} which is {nan_wrapped_count / len(df) * 100:.2f}% of the data\")"
   ]
  },
  {
   "cell_type": "code",
   "execution_count": 75,
   "metadata": {},
   "outputs": [
    {
     "name": "stderr",
     "output_type": "stream",
     "text": [
      "Processing DataFrames: 100%|██████████| 3/3 [00:00<?, ?it/s]\n"
     ]
    }
   ],
   "source": [
    "na_values = ['None', 'null', '-', '', ' ', 'NaN', 'nan', 'NAN']\n",
    "column_to_fill = ' TDmax (degC)'\n",
    "\n",
    "for df_name, df in tqdm(dataframes.items(), desc=\"Processing DataFrames\"):\n",
    "    if column_to_fill in df.columns:\n",
    "        df[column_to_fill].replace(na_values, np.nan, inplace=True)\n",
    "        \n",
    "        # Fill two consecutive NaN values wrapped with two non-NaN values:\n",
    "        nan_wrapped_count = 0\n",
    "        td_values = df[column_to_fill].values\n",
    "        i = 2  # Start from index 2 to ensure i-2 is valid\n",
    "        while i < len(td_values) - 2:\n",
    "            if (pd.isna(td_values[i]) and pd.isna(td_values[i+1]) and\n",
    "                not pd.isna(td_values[i - 2]) and not pd.isna(td_values[i - 1]) and\n",
    "                not pd.isna(td_values[i + 2]) and not pd.isna(td_values[i + 3])):\n",
    "                \n",
    "                val1 = float(td_values[i - 2])\n",
    "                val2 = float(td_values[i - 1])\n",
    "                val3 = float(td_values[i + 2])\n",
    "                val4 = float(td_values[i + 3])\n",
    "                \n",
    "                # Determine trends\n",
    "                trend_before = val2 < val1\n",
    "                trend_after = val4 < val3\n",
    "                if trend_before == trend_after:\n",
    "                    try:\n",
    "                        diff = val3 - val2\n",
    "                        td_values[i] = val2 + diff / 3\n",
    "                        td_values[i + 1] = val2 + diff * 2 / 3\n",
    "                        nan_wrapped_count += 2\n",
    "                        i += 2  # Skip the next index as it's already processed\n",
    "                        continue\n",
    "                    except ValueError as e:\n",
    "                        print(f\"ValueError encountered in {df_name} at indices {i} and {i+1}: {e}\")\n",
    "            i += 1\n",
    "        print(f\"Number of NaN values wrapped with two non-NaN values and filled in {df_name} station: {nan_wrapped_count} which is {nan_wrapped_count / len(df) * 100:.2f}% of the data\")"
   ]
  },
  {
   "cell_type": "code",
   "execution_count": 76,
   "metadata": {},
   "outputs": [
    {
     "name": "stderr",
     "output_type": "stream",
     "text": [
      "Processing DataFrames: 100%|██████████| 3/3 [00:00<00:00, 1184.39it/s]\n"
     ]
    }
   ],
   "source": [
    "na_values = ['None', 'null', '-', '', ' ', 'NaN', 'nan', 'NAN']\n",
    "column_to_fill = ' TDmin (degC)'\n",
    "\n",
    "for df_name, df in tqdm(dataframes.items(), desc=\"Processing DataFrames\"):\n",
    "    if column_to_fill in df.columns:\n",
    "        df[column_to_fill].replace(na_values, np.nan, inplace=True)\n",
    "        \n",
    "        # Fill two consecutive NaN values wrapped with two non-NaN values:\n",
    "        nan_wrapped_count = 0\n",
    "        td_values = df[column_to_fill].values\n",
    "        i = 2  # Start from index 2 to ensure i-2 is valid\n",
    "        while i < len(td_values) - 2:\n",
    "            if (pd.isna(td_values[i]) and pd.isna(td_values[i+1]) and\n",
    "                not pd.isna(td_values[i - 2]) and not pd.isna(td_values[i - 1]) and\n",
    "                not pd.isna(td_values[i + 2]) and not pd.isna(td_values[i + 3])):\n",
    "                \n",
    "                val1 = float(td_values[i - 2])\n",
    "                val2 = float(td_values[i - 1])\n",
    "                val3 = float(td_values[i + 2])\n",
    "                val4 = float(td_values[i + 3])\n",
    "                \n",
    "                # Determine trends\n",
    "                trend_before = val2 < val1\n",
    "                trend_after = val4 < val3\n",
    "                if trend_before == trend_after:\n",
    "                    try:\n",
    "                        diff = val3 - val2\n",
    "                        td_values[i] = val2 + diff / 3\n",
    "                        td_values[i + 1] = val2 + diff * 2 / 3\n",
    "                        nan_wrapped_count += 2\n",
    "                        i += 2  # Skip the next index as it's already processed\n",
    "                        continue\n",
    "                    except ValueError as e:\n",
    "                        print(f\"ValueError encountered in {df_name} at indices {i} and {i+1}: {e}\")\n",
    "            i += 1\n",
    "        print(f\"Number of NaN values wrapped with two non-NaN values and filled in {df_name} station: {nan_wrapped_count} which is {nan_wrapped_count / len(df) * 100:.2f}% of the data\")"
   ]
  },
  {
   "cell_type": "code",
   "execution_count": 77,
   "metadata": {},
   "outputs": [
    {
     "name": "stderr",
     "output_type": "stream",
     "text": [
      "Processing DataFrames: 100%|██████████| 3/3 [00:00<00:00, 1459.06it/s]\n"
     ]
    }
   ],
   "source": [
    "na_values = ['None', 'null', '-', '', ' ', 'NaN', 'nan', 'NAN']\n",
    "column_to_fill = ' RH (%)'\n",
    "\n",
    "for df_name, df in tqdm(dataframes.items(), desc=\"Processing DataFrames\"):\n",
    "    if column_to_fill in df.columns:\n",
    "        df[column_to_fill].replace(na_values, np.nan, inplace=True)\n",
    "        \n",
    "        # Fill two consecutive NaN values wrapped with two non-NaN values:\n",
    "        nan_wrapped_count = 0\n",
    "        td_values = df[column_to_fill].values\n",
    "        i = 2  # Start from index 2 to ensure i-2 is valid\n",
    "        while i < len(td_values) - 2:\n",
    "            if (pd.isna(td_values[i]) and pd.isna(td_values[i+1]) and\n",
    "                not pd.isna(td_values[i - 2]) and not pd.isna(td_values[i - 1]) and\n",
    "                not pd.isna(td_values[i + 2]) and not pd.isna(td_values[i + 3])):\n",
    "                \n",
    "                val1 = float(td_values[i - 2])\n",
    "                val2 = float(td_values[i - 1])\n",
    "                val3 = float(td_values[i + 2])\n",
    "                val4 = float(td_values[i + 3])\n",
    "                \n",
    "                # Determine trends\n",
    "                trend_before = val2 < val1\n",
    "                trend_after = val4 < val3\n",
    "                if trend_before == trend_after:\n",
    "                    try:\n",
    "                        diff = val3 - val2\n",
    "                        td_values[i] = val2 + diff / 3\n",
    "                        td_values[i + 1] = val2 + diff * 2 / 3\n",
    "                        nan_wrapped_count += 2\n",
    "                        i += 2  # Skip the next index as it's already processed\n",
    "                        continue\n",
    "                    except ValueError as e:\n",
    "                        print(f\"ValueError encountered in {df_name} at indices {i} and {i+1}: {e}\")\n",
    "            i += 1\n",
    "        print(f\"Number of NaN values wrapped with two non-NaN values and filled in {df_name} station: {nan_wrapped_count} which is {nan_wrapped_count / len(df) * 100:.2f}% of the data\")"
   ]
  },
  {
   "cell_type": "markdown",
   "metadata": {},
   "source": [
    "### 3 missing values together:"
   ]
  },
  {
   "cell_type": "code",
   "execution_count": 78,
   "metadata": {},
   "outputs": [
    {
     "name": "stderr",
     "output_type": "stream",
     "text": [
      "Processing DataFrames:   0%|          | 0/3 [00:00<?, ?it/s]C:\\Users\\gr062\\AppData\\Local\\Temp\\ipykernel_19164\\1175203349.py:6: FutureWarning: A value is trying to be set on a copy of a DataFrame or Series through chained assignment using an inplace method.\n",
      "The behavior will change in pandas 3.0. This inplace method will never work because the intermediate object on which we are setting values always behaves as a copy.\n",
      "\n",
      "For example, when doing 'df[col].method(value, inplace=True)', try using 'df.method({col: value}, inplace=True)' or df[col] = df[col].method(value) instead, to perform the operation inplace on the original object.\n",
      "\n",
      "\n",
      "  df[column_to_fill].replace(na_values, np.nan, inplace=True)\n",
      "Processing DataFrames:  33%|███▎      | 1/3 [00:00<00:01,  1.27it/s]"
     ]
    },
    {
     "name": "stdout",
     "output_type": "stream",
     "text": [
      "Number of NaN values wrapped with three non-NaN values and filled in Newe Yaar_data_2005_2024 station: 0 which is 0.00% of the data\n"
     ]
    },
    {
     "name": "stderr",
     "output_type": "stream",
     "text": [
      "Processing DataFrames:  67%|██████▋   | 2/3 [00:01<00:00,  1.54it/s]"
     ]
    },
    {
     "name": "stdout",
     "output_type": "stream",
     "text": [
      "Number of NaN values wrapped with three non-NaN values and filled in Tavor Kadoorie_data_2005_2024 station: 0 which is 0.00% of the data\n"
     ]
    },
    {
     "name": "stderr",
     "output_type": "stream",
     "text": [
      "Processing DataFrames: 100%|██████████| 3/3 [00:01<00:00,  1.73it/s]"
     ]
    },
    {
     "name": "stdout",
     "output_type": "stream",
     "text": [
      "Number of NaN values wrapped with three non-NaN values and filled in Yavneel_data_2005_2024 station: 3 which is 0.00% of the data\n"
     ]
    },
    {
     "name": "stderr",
     "output_type": "stream",
     "text": [
      "\n"
     ]
    }
   ],
   "source": [
    "na_values = ['None', 'null', '-', '', ' ', 'NaN', 'nan', 'NAN']\n",
    "column_to_fill = 'TD (degC)'\n",
    "\n",
    "for df_name, df in tqdm(dataframes.items(), desc=\"Processing DataFrames\"):\n",
    "    if column_to_fill in df.columns:\n",
    "        df[column_to_fill].replace(na_values, np.nan, inplace=True)\n",
    "        \n",
    "        # Fill three consecutive NaN values wrapped with two non-NaN values:\n",
    "        nan_wrapped_count = 0\n",
    "        td_values = df[column_to_fill].values\n",
    "        i = 2  # Start from index 2 to ensure i-2 is valid\n",
    "        while i < len(td_values) - 4:\n",
    "            if (pd.isna(td_values[i]) and pd.isna(td_values[i+1]) and pd.isna(td_values[i+2]) and\n",
    "                not pd.isna(td_values[i - 2]) and not pd.isna(td_values[i - 1]) and\n",
    "                not pd.isna(td_values[i + 3]) and not pd.isna(td_values[i + 4])):\n",
    "                \n",
    "                val1 = float(td_values[i - 2])\n",
    "                val2 = float(td_values[i - 1])\n",
    "                val3 = float(td_values[i + 3])\n",
    "                val4 = float(td_values[i + 4])\n",
    "                \n",
    "                # Determine trends\n",
    "                trend_before = val2 < val1\n",
    "                trend_after = val4 < val3\n",
    "                if trend_before == trend_after:\n",
    "                    try:\n",
    "                        diff = val3 - val2\n",
    "                        td_values[i] = val2 + diff / 4\n",
    "                        td_values[i + 1] = val2 + (diff * 2) / 4\n",
    "                        td_values[i + 2] = val2 + (diff * 3) / 4\n",
    "                        nan_wrapped_count += 3\n",
    "                        i += 3  # Skip the next indices as they're already processed\n",
    "                        continue\n",
    "                    except ValueError as e:\n",
    "                        print(f\"ValueError encountered in {df_name} at indices {i}, {i+1}, and {i+2}: {e}\")\n",
    "            i += 1\n",
    "        print(f\"Number of NaN values wrapped with three non-NaN values and filled in {df_name} station: {nan_wrapped_count} which is {nan_wrapped_count / len(df) * 100:.2f}% of the data\")"
   ]
  },
  {
   "cell_type": "code",
   "execution_count": 79,
   "metadata": {},
   "outputs": [
    {
     "name": "stderr",
     "output_type": "stream",
     "text": [
      "Processing DataFrames:   0%|          | 0/3 [00:00<?, ?it/s]C:\\Users\\gr062\\AppData\\Local\\Temp\\ipykernel_19164\\2914012273.py:6: FutureWarning: A value is trying to be set on a copy of a DataFrame or Series through chained assignment using an inplace method.\n",
      "The behavior will change in pandas 3.0. This inplace method will never work because the intermediate object on which we are setting values always behaves as a copy.\n",
      "\n",
      "For example, when doing 'df[col].method(value, inplace=True)', try using 'df.method({col: value}, inplace=True)' or df[col] = df[col].method(value) instead, to perform the operation inplace on the original object.\n",
      "\n",
      "\n",
      "  df[column_to_fill].replace(na_values, np.nan, inplace=True)\n",
      "Processing DataFrames:  33%|███▎      | 1/3 [00:00<00:00,  2.90it/s]"
     ]
    },
    {
     "name": "stdout",
     "output_type": "stream",
     "text": [
      "Number of NaN values wrapped with three non-NaN values and filled in Newe Yaar_data_2005_2024 station: 0 which is 0.00% of the data\n"
     ]
    },
    {
     "name": "stderr",
     "output_type": "stream",
     "text": [
      "Processing DataFrames:  67%|██████▋   | 2/3 [00:00<00:00,  3.07it/s]"
     ]
    },
    {
     "name": "stdout",
     "output_type": "stream",
     "text": [
      "Number of NaN values wrapped with three non-NaN values and filled in Tavor Kadoorie_data_2005_2024 station: 0 which is 0.00% of the data\n"
     ]
    },
    {
     "name": "stderr",
     "output_type": "stream",
     "text": [
      "Processing DataFrames: 100%|██████████| 3/3 [00:01<00:00,  2.91it/s]"
     ]
    },
    {
     "name": "stdout",
     "output_type": "stream",
     "text": [
      "Number of NaN values wrapped with three non-NaN values and filled in Yavneel_data_2005_2024 station: 0 which is 0.00% of the data\n"
     ]
    },
    {
     "name": "stderr",
     "output_type": "stream",
     "text": [
      "\n"
     ]
    }
   ],
   "source": [
    "na_values = ['None', 'null', '-', '', ' ', 'NaN', 'nan', 'NAN']\n",
    "column_to_fill = 'TDmax (degC)'\n",
    "\n",
    "for df_name, df in tqdm(dataframes.items(), desc=\"Processing DataFrames\"):\n",
    "    if column_to_fill in df.columns:\n",
    "        df[column_to_fill].replace(na_values, np.nan, inplace=True)\n",
    "        \n",
    "        # Fill three consecutive NaN values wrapped with two non-NaN values:\n",
    "        nan_wrapped_count = 0\n",
    "        td_values = df[column_to_fill].values\n",
    "        i = 2  # Start from index 2 to ensure i-2 is valid\n",
    "        while i < len(td_values) - 4:\n",
    "            if (pd.isna(td_values[i]) and pd.isna(td_values[i+1]) and pd.isna(td_values[i+2]) and\n",
    "                not pd.isna(td_values[i - 2]) and not pd.isna(td_values[i - 1]) and\n",
    "                not pd.isna(td_values[i + 3]) and not pd.isna(td_values[i + 4])):\n",
    "                \n",
    "                val1 = float(td_values[i - 2])\n",
    "                val2 = float(td_values[i - 1])\n",
    "                val3 = float(td_values[i + 3])\n",
    "                val4 = float(td_values[i + 4])\n",
    "                \n",
    "                # Determine trends\n",
    "                trend_before = val2 < val1\n",
    "                trend_after = val4 < val3\n",
    "                if trend_before == trend_after:\n",
    "                    try:\n",
    "                        diff = val3 - val2\n",
    "                        td_values[i] = val2 + diff / 4\n",
    "                        td_values[i + 1] = val2 + (diff * 2) / 4\n",
    "                        td_values[i + 2] = val2 + (diff * 3) / 4\n",
    "                        nan_wrapped_count += 3\n",
    "                        i += 3  # Skip the next indices as they're already processed\n",
    "                        continue\n",
    "                    except ValueError as e:\n",
    "                        print(f\"ValueError encountered in {df_name} at indices {i}, {i+1}, and {i+2}: {e}\")\n",
    "            i += 1\n",
    "        print(f\"Number of NaN values wrapped with three non-NaN values and filled in {df_name} station: {nan_wrapped_count} which is {nan_wrapped_count / len(df) * 100:.2f}% of the data\")"
   ]
  },
  {
   "cell_type": "code",
   "execution_count": 80,
   "metadata": {},
   "outputs": [
    {
     "name": "stderr",
     "output_type": "stream",
     "text": [
      "Processing DataFrames:   0%|          | 0/3 [00:00<?, ?it/s]"
     ]
    },
    {
     "name": "stderr",
     "output_type": "stream",
     "text": [
      "C:\\Users\\gr062\\AppData\\Local\\Temp\\ipykernel_19164\\3717511480.py:6: FutureWarning: A value is trying to be set on a copy of a DataFrame or Series through chained assignment using an inplace method.\n",
      "The behavior will change in pandas 3.0. This inplace method will never work because the intermediate object on which we are setting values always behaves as a copy.\n",
      "\n",
      "For example, when doing 'df[col].method(value, inplace=True)', try using 'df.method({col: value}, inplace=True)' or df[col] = df[col].method(value) instead, to perform the operation inplace on the original object.\n",
      "\n",
      "\n",
      "  df[column_to_fill].replace(na_values, np.nan, inplace=True)\n",
      "Processing DataFrames:  33%|███▎      | 1/3 [00:00<00:00,  2.44it/s]"
     ]
    },
    {
     "name": "stdout",
     "output_type": "stream",
     "text": [
      "Number of NaN values wrapped with three non-NaN values and filled in Newe Yaar_data_2005_2024 station: 0 which is 0.00% of the data\n"
     ]
    },
    {
     "name": "stderr",
     "output_type": "stream",
     "text": [
      "Processing DataFrames:  67%|██████▋   | 2/3 [00:00<00:00,  2.45it/s]"
     ]
    },
    {
     "name": "stdout",
     "output_type": "stream",
     "text": [
      "Number of NaN values wrapped with three non-NaN values and filled in Tavor Kadoorie_data_2005_2024 station: 0 which is 0.00% of the data\n"
     ]
    },
    {
     "name": "stderr",
     "output_type": "stream",
     "text": [
      "Processing DataFrames: 100%|██████████| 3/3 [00:01<00:00,  2.66it/s]"
     ]
    },
    {
     "name": "stdout",
     "output_type": "stream",
     "text": [
      "Number of NaN values wrapped with three non-NaN values and filled in Yavneel_data_2005_2024 station: 0 which is 0.00% of the data\n"
     ]
    },
    {
     "name": "stderr",
     "output_type": "stream",
     "text": [
      "\n"
     ]
    }
   ],
   "source": [
    "na_values = ['None', 'null', '-', '', ' ', 'NaN', 'nan', 'NAN']\n",
    "column_to_fill = 'TDmin (degC)'\n",
    "\n",
    "for df_name, df in tqdm(dataframes.items(), desc=\"Processing DataFrames\"):\n",
    "    if column_to_fill in df.columns:\n",
    "        df[column_to_fill].replace(na_values, np.nan, inplace=True)\n",
    "        \n",
    "        # Fill three consecutive NaN values wrapped with two non-NaN values:\n",
    "        nan_wrapped_count = 0\n",
    "        td_values = df[column_to_fill].values\n",
    "        i = 2  # Start from index 2 to ensure i-2 is valid\n",
    "        while i < len(td_values) - 4:\n",
    "            if (pd.isna(td_values[i]) and pd.isna(td_values[i+1]) and pd.isna(td_values[i+2]) and\n",
    "                not pd.isna(td_values[i - 2]) and not pd.isna(td_values[i - 1]) and\n",
    "                not pd.isna(td_values[i + 3]) and not pd.isna(td_values[i + 4])):\n",
    "                \n",
    "                val1 = float(td_values[i - 2])\n",
    "                val2 = float(td_values[i - 1])\n",
    "                val3 = float(td_values[i + 3])\n",
    "                val4 = float(td_values[i + 4])\n",
    "                \n",
    "                # Determine trends\n",
    "                trend_before = val2 < val1\n",
    "                trend_after = val4 < val3\n",
    "                if trend_before == trend_after:\n",
    "                    try:\n",
    "                        diff = val3 - val2\n",
    "                        td_values[i] = val2 + diff / 4\n",
    "                        td_values[i + 1] = val2 + (diff * 2) / 4\n",
    "                        td_values[i + 2] = val2 + (diff * 3) / 4\n",
    "                        nan_wrapped_count += 3\n",
    "                        i += 3  # Skip the next indices as they're already processed\n",
    "                        continue\n",
    "                    except ValueError as e:\n",
    "                        print(f\"ValueError encountered in {df_name} at indices {i}, {i+1}, and {i+2}: {e}\")\n",
    "            i += 1\n",
    "        print(f\"Number of NaN values wrapped with three non-NaN values and filled in {df_name} station: {nan_wrapped_count} which is {nan_wrapped_count / len(df) * 100:.2f}% of the data\")"
   ]
  },
  {
   "cell_type": "code",
   "execution_count": 81,
   "metadata": {},
   "outputs": [
    {
     "name": "stderr",
     "output_type": "stream",
     "text": [
      "Processing DataFrames:   0%|          | 0/3 [00:00<?, ?it/s]C:\\Users\\gr062\\AppData\\Local\\Temp\\ipykernel_19164\\2157539601.py:6: FutureWarning: A value is trying to be set on a copy of a DataFrame or Series through chained assignment using an inplace method.\n",
      "The behavior will change in pandas 3.0. This inplace method will never work because the intermediate object on which we are setting values always behaves as a copy.\n",
      "\n",
      "For example, when doing 'df[col].method(value, inplace=True)', try using 'df.method({col: value}, inplace=True)' or df[col] = df[col].method(value) instead, to perform the operation inplace on the original object.\n",
      "\n",
      "\n",
      "  df[column_to_fill].replace(na_values, np.nan, inplace=True)\n",
      "Processing DataFrames:  33%|███▎      | 1/3 [00:00<00:00,  3.28it/s]"
     ]
    },
    {
     "name": "stdout",
     "output_type": "stream",
     "text": [
      "Number of NaN values wrapped with three non-NaN values and filled in Newe Yaar_data_2005_2024 station: 3 which is 0.00% of the data\n"
     ]
    },
    {
     "name": "stderr",
     "output_type": "stream",
     "text": [
      "Processing DataFrames:  67%|██████▋   | 2/3 [00:00<00:00,  3.54it/s]"
     ]
    },
    {
     "name": "stdout",
     "output_type": "stream",
     "text": [
      "Number of NaN values wrapped with three non-NaN values and filled in Tavor Kadoorie_data_2005_2024 station: 3 which is 0.00% of the data\n"
     ]
    },
    {
     "name": "stderr",
     "output_type": "stream",
     "text": [
      "Processing DataFrames: 100%|██████████| 3/3 [00:00<00:00,  3.41it/s]"
     ]
    },
    {
     "name": "stdout",
     "output_type": "stream",
     "text": [
      "Number of NaN values wrapped with three non-NaN values and filled in Yavneel_data_2005_2024 station: 3 which is 0.00% of the data\n"
     ]
    },
    {
     "name": "stderr",
     "output_type": "stream",
     "text": [
      "\n"
     ]
    }
   ],
   "source": [
    "na_values = ['None', 'null', '-', '', ' ', 'NaN', 'nan', 'NAN']\n",
    "column_to_fill = 'RH (%)'\n",
    "\n",
    "for df_name, df in tqdm(dataframes.items(), desc=\"Processing DataFrames\"):\n",
    "    if column_to_fill in df.columns:\n",
    "        df[column_to_fill].replace(na_values, np.nan, inplace=True)\n",
    "        \n",
    "        # Fill three consecutive NaN values wrapped with two non-NaN values:\n",
    "        nan_wrapped_count = 0\n",
    "        td_values = df[column_to_fill].values\n",
    "        i = 2  # Start from index 2 to ensure i-2 is valid\n",
    "        while i < len(td_values) - 4:\n",
    "            if (pd.isna(td_values[i]) and pd.isna(td_values[i+1]) and pd.isna(td_values[i+2]) and\n",
    "                not pd.isna(td_values[i - 2]) and not pd.isna(td_values[i - 1]) and\n",
    "                not pd.isna(td_values[i + 3]) and not pd.isna(td_values[i + 4])):\n",
    "                \n",
    "                val1 = float(td_values[i - 2])\n",
    "                val2 = float(td_values[i - 1])\n",
    "                val3 = float(td_values[i + 3])\n",
    "                val4 = float(td_values[i + 4])\n",
    "                \n",
    "                # Determine trends\n",
    "                trend_before = val2 < val1\n",
    "                trend_after = val4 < val3\n",
    "                if trend_before == trend_after:\n",
    "                    try:\n",
    "                        diff = val3 - val2\n",
    "                        td_values[i] = val2 + diff / 4\n",
    "                        td_values[i + 1] = val2 + (diff * 2) / 4\n",
    "                        td_values[i + 2] = val2 + (diff * 3) / 4\n",
    "                        nan_wrapped_count += 3\n",
    "                        i += 3  # Skip the next indices as they're already processed\n",
    "                        continue\n",
    "                    except ValueError as e:\n",
    "                        print(f\"ValueError encountered in {df_name} at indices {i}, {i+1}, and {i+2}: {e}\")\n",
    "            i += 1\n",
    "        print(f\"Number of NaN values wrapped with three non-NaN values and filled in {df_name} station: {nan_wrapped_count} which is {nan_wrapped_count / len(df) * 100:.2f}% of the data\")"
   ]
  },
  {
   "cell_type": "markdown",
   "metadata": {},
   "source": [
    "## Time"
   ]
  },
  {
   "cell_type": "code",
   "execution_count": 63,
   "metadata": {},
   "outputs": [],
   "source": [
    "for df_name, df in dataframes.items():\n",
    "    if 'Date Time' in df.columns:\n",
    "        df['Date Time'] = pd.to_datetime(df.pop('Date Time'), format=\"%d/%m/%Y %H:%M\")\n",
    "        df['Year'] = df['Date Time'].dt.year"
   ]
  },
  {
   "cell_type": "code",
   "execution_count": 64,
   "metadata": {},
   "outputs": [],
   "source": [
    "for df_name, df in dataframes.items():\n",
    "    if 'Date Time' in df.columns:\n",
    "        df = df[df['Date Time'].dt.minute == 0]\n",
    "        dataframes[df_name] = df\n"
   ]
  },
  {
   "cell_type": "markdown",
   "metadata": {},
   "source": [
    "data imputation again..."
   ]
  },
  {
   "cell_type": "code",
   "execution_count": 92,
   "metadata": {},
   "outputs": [],
   "source": [
    "# day = 24*60*60\n",
    "# year = (365.2425)*day\n",
    "\n",
    "# for df_name, df in dataframes.items():\n",
    "#     if 'Date Time' in df.columns:\n",
    "#         timestamp_s = df['Date Time'].map(pd.Timestamp.timestamp)\n",
    "#         df['Day sin'] = np.sin(timestamp_s * (2 * np.pi / day))\n",
    "#         df['Day cos'] = np.cos(timestamp_s * (2 * np.pi / day))\n",
    "#         df['Year sin'] = np.sin(timestamp_s * (2 * np.pi / year))\n",
    "#         df['Year cos'] = np.cos(timestamp_s * (2 * np.pi / year))\n",
    "#         df.drop(columns=['Date Time'], inplace=True)"
   ]
  },
  {
   "cell_type": "markdown",
   "metadata": {},
   "source": [
    "## Wind"
   ]
  },
  {
   "cell_type": "markdown",
   "metadata": {},
   "source": [
    "ploting the wind and gust before the transformation into vectors for the first station:"
   ]
  },
  {
   "cell_type": "code",
   "execution_count": 86,
   "metadata": {},
   "outputs": [
    {
     "name": "stderr",
     "output_type": "stream",
     "text": [
      "C:\\Users\\gr062\\AppData\\Local\\Temp\\ipykernel_19164\\2489638357.py:9: FutureWarning: A value is trying to be set on a copy of a DataFrame or Series through chained assignment using an inplace method.\n",
      "The behavior will change in pandas 3.0. This inplace method will never work because the intermediate object on which we are setting values always behaves as a copy.\n",
      "\n",
      "For example, when doing 'df[col].method(value, inplace=True)', try using 'df.method({col: value}, inplace=True)' or df[col] = df[col].method(value) instead, to perform the operation inplace on the original object.\n",
      "\n",
      "\n",
      "  first_df['WD (deg)'].replace(na_values, np.nan, inplace=True)\n",
      "C:\\Users\\gr062\\AppData\\Local\\Temp\\ipykernel_19164\\2489638357.py:10: FutureWarning: A value is trying to be set on a copy of a DataFrame or Series through chained assignment using an inplace method.\n",
      "The behavior will change in pandas 3.0. This inplace method will never work because the intermediate object on which we are setting values always behaves as a copy.\n",
      "\n",
      "For example, when doing 'df[col].method(value, inplace=True)', try using 'df.method({col: value}, inplace=True)' or df[col] = df[col].method(value) instead, to perform the operation inplace on the original object.\n",
      "\n",
      "\n",
      "  first_df['WS (m/s)'].replace(na_values, np.nan, inplace=True)\n",
      "C:\\Users\\gr062\\AppData\\Local\\Temp\\ipykernel_19164\\2489638357.py:11: FutureWarning: A value is trying to be set on a copy of a DataFrame or Series through chained assignment using an inplace method.\n",
      "The behavior will change in pandas 3.0. This inplace method will never work because the intermediate object on which we are setting values always behaves as a copy.\n",
      "\n",
      "For example, when doing 'df[col].method(value, inplace=True)', try using 'df.method({col: value}, inplace=True)' or df[col] = df[col].method(value) instead, to perform the operation inplace on the original object.\n",
      "\n",
      "\n",
      "  first_df['WDmax (deg)'].replace(na_values, np.nan, inplace=True)\n",
      "C:\\Users\\gr062\\AppData\\Local\\Temp\\ipykernel_19164\\2489638357.py:12: FutureWarning: A value is trying to be set on a copy of a DataFrame or Series through chained assignment using an inplace method.\n",
      "The behavior will change in pandas 3.0. This inplace method will never work because the intermediate object on which we are setting values always behaves as a copy.\n",
      "\n",
      "For example, when doing 'df[col].method(value, inplace=True)', try using 'df.method({col: value}, inplace=True)' or df[col] = df[col].method(value) instead, to perform the operation inplace on the original object.\n",
      "\n",
      "\n",
      "  first_df['WSmax (m/s)'].replace(na_values, np.nan, inplace=True)\n"
     ]
    },
    {
     "data": {
      "image/png": "[encoded data removed]",
      "text/plain": [
       "<Figure size 1400x600 with 4 Axes>"
      ]
     },
     "metadata": {},
     "output_type": "display_data"
    }
   ],
   "source": [
    "# Example: Plot 2D histogram plots of the wind: 'WD (deg)' and 'WS (m/s)' and gust: 'WDmax (deg)' and 'WSmax (m/s)' for the first dataframe\n",
    "\n",
    "# Assuming 'dataframes' is a dictionary of DataFrames and we take the first one\n",
    "first_df_name = list(dataframes.keys())[0]\n",
    "first_df = dataframes[first_df_name]\n",
    "\n",
    "# Replace specified na_values with np.nan\n",
    "na_values = ['None', 'null', '-', '', ' ', 'NaN', 'nan', 'NAN']\n",
    "first_df['WD (deg)'].replace(na_values, np.nan, inplace=True)\n",
    "first_df['WS (m/s)'].replace(na_values, np.nan, inplace=True)\n",
    "first_df['WDmax (deg)'].replace(na_values, np.nan, inplace=True)\n",
    "first_df['WSmax (m/s)'].replace(na_values, np.nan, inplace=True)\n",
    "\n",
    "# Convert columns to numeric, forcing errors to NaN\n",
    "first_df['WD (deg)'] = pd.to_numeric(first_df['WD (deg)'], errors='coerce')\n",
    "first_df['WS (m/s)'] = pd.to_numeric(first_df['WS (m/s)'], errors='coerce')\n",
    "first_df['WDmax (deg)'] = pd.to_numeric(first_df['WDmax (deg)'], errors='coerce')\n",
    "first_df['WSmax (m/s)'] = pd.to_numeric(first_df['WSmax (m/s)'], errors='coerce')\n",
    "\n",
    "# Create subplots\n",
    "fig, ax = plt.subplots(1, 2, figsize=(14, 6))\n",
    "\n",
    "# Mask to filter out NaN values for wind\n",
    "mask_wind = first_df['WD (deg)'].notna() & first_df['WS (m/s)'].notna()\n",
    "\n",
    "# Create the 2D histogram plot for wind\n",
    "hist_wind = ax[0].hist2d(first_df.loc[mask_wind, 'WD (deg)'], first_df.loc[mask_wind, 'WS (m/s)'], bins=(50, 50), vmax=400)\n",
    "fig.colorbar(hist_wind[3], ax=ax[0])\n",
    "ax[0].set_xlabel('Wind Direction [deg]')\n",
    "ax[0].set_ylabel('Wind Velocity [m/s]')\n",
    "ax[0].set_title(f'2D Histogram of Wind for {first_df_name}')\n",
    "\n",
    "# Mask to filter out NaN values for gust\n",
    "mask_gust = first_df['WDmax (deg)'].notna() & first_df['WSmax (m/s)'].notna()\n",
    "\n",
    "# Create the 2D histogram plot for gust\n",
    "hist_gust = ax[1].hist2d(first_df.loc[mask_gust, 'WDmax (deg)'], first_df.loc[mask_gust, 'WSmax (m/s)'], bins=(50, 50), vmax=400)\n",
    "fig.colorbar(hist_gust[3], ax=ax[1])\n",
    "ax[1].set_xlabel('Gust Direction [deg]')\n",
    "ax[1].set_ylabel('Gust Velocity [m/s]')\n",
    "ax[1].set_title(f'2D Histogram of Gust for {first_df_name}')\n",
    "\n",
    "plt.tight_layout()\n",
    "plt.show()"
   ]
  },
  {
   "cell_type": "markdown",
   "metadata": {},
   "source": [
    "tranforming wind and gust into vectors:"
   ]
  },
  {
   "cell_type": "code",
   "execution_count": 87,
   "metadata": {},
   "outputs": [
    {
     "name": "stderr",
     "output_type": "stream",
     "text": [
      "Processing DataFrames:   0%|          | 0/3 [00:00<?, ?it/s]"
     ]
    },
    {
     "name": "stderr",
     "output_type": "stream",
     "text": [
      "Processing DataFrames: 100%|██████████| 3/3 [00:00<00:00,  8.04it/s]\n"
     ]
    }
   ],
   "source": [
    "for df_name, df in tqdm(dataframes.items(), desc=\"Processing DataFrames\"):\n",
    "    try:\n",
    "        wind_speed = pd.to_numeric(df.pop('WS (m/s)'), errors='coerce')\n",
    "        wind_direction_rad = pd.to_numeric(df.pop('WD (deg)'), errors='coerce') * np.pi / 180\n",
    "        if wind_speed is not None and wind_direction_rad is not None:\n",
    "            mask_wind = wind_speed.notna() & wind_direction_rad.notna()\n",
    "            df['Wind_x'] = wind_speed * np.cos(wind_direction_rad)\n",
    "            df['Wind_y'] = wind_speed * np.sin(wind_direction_rad)\n",
    "            df.loc[~mask_wind, ['Wind_x', 'Wind_y']] = np.nan\n",
    "\n",
    "        gust_speed = pd.to_numeric(df.pop('WSmax (m/s)'), errors='coerce')\n",
    "        gust_direction_rad = pd.to_numeric(df.pop('WDmax (deg)'), errors='coerce') * np.pi / 180\n",
    "        if gust_speed is not None and gust_direction_rad is not None:\n",
    "            mask_gust = gust_speed.notna() & gust_direction_rad.notna()\n",
    "            df['Gust_x'] = gust_speed * np.cos(gust_direction_rad)\n",
    "            df['Gust_y'] = gust_speed * np.sin(gust_direction_rad)\n",
    "            df.loc[~mask_gust, ['Gust_x', 'Gust_y']] = np.nan\n",
    "    except KeyError as e:\n",
    "        print(f\"KeyError encountered in {df_name}: {e}\")\n",
    "    except TypeError as e:\n",
    "        print(f\"TypeError encountered in {df_name}: {e}\")"
   ]
  },
  {
   "cell_type": "markdown",
   "metadata": {},
   "source": [
    "ploting the wind and gust vectors after the transformation for the first station:"
   ]
  },
  {
   "cell_type": "code",
   "execution_count": 88,
   "metadata": {},
   "outputs": [
    {
     "data": {
      "image/png": "[encoded data removed]",
      "text/plain": [
       "<Figure size 1400x600 with 4 Axes>"
      ]
     },
     "metadata": {},
     "output_type": "display_data"
    }
   ],
   "source": [
    "# Plot 2D histogram plots of the wind ('Wind_x', 'Wind_y') and gust ('Gust_x', 'Gust_y') for the first dataframe\n",
    "first_df_name = list(dataframes.keys())[0]\n",
    "first_df = dataframes[first_df_name]\n",
    "\n",
    "fig, ax = plt.subplots(1, 2, figsize=(14, 6))\n",
    "\n",
    "# Mask to filter out NaN values for wind\n",
    "mask_wind = first_df['Wind_x'].notna() & first_df['Wind_y'].notna()\n",
    "\n",
    "# Create the 2D histogram plot for wind\n",
    "hist_wind = ax[0].hist2d(first_df.loc[mask_wind, 'Wind_x'], first_df.loc[mask_wind, 'Wind_y'], bins=(50, 50), vmax=400)\n",
    "fig.colorbar(hist_wind[3], ax=ax[0])\n",
    "ax[0].set_xlabel('Wind X Component')\n",
    "ax[0].set_ylabel('Wind Y Component')\n",
    "ax[0].set_title(f'2D Histogram of Wind Components for {first_df_name}')\n",
    "\n",
    "# Mask to filter out NaN values for gust\n",
    "mask_gust = first_df['Gust_x'].notna() & first_df['Gust_y'].notna()\n",
    "\n",
    "# Create the 2D histogram plot for gust\n",
    "hist_gust = ax[1].hist2d(first_df.loc[mask_gust, 'Gust_x'], first_df.loc[mask_gust, 'Gust_y'], bins=(50, 50), vmax=400)\n",
    "fig.colorbar(hist_gust[3], ax=ax[1])\n",
    "ax[1].set_xlabel('Gust X Component')\n",
    "ax[1].set_ylabel('Gust Y Component')\n",
    "ax[1].set_title(f'2D Histogram of Gust Components for {first_df_name}')\n",
    "\n",
    "plt.tight_layout()\n",
    "plt.show()"
   ]
  },
  {
   "cell_type": "markdown",
   "metadata": {},
   "source": [
    "## print head"
   ]
  },
  {
   "cell_type": "code",
   "execution_count": 95,
   "metadata": {},
   "outputs": [
    {
     "name": "stdout",
     "output_type": "stream",
     "text": [
      "Showing the head of the dataframe: Newe Yaar_data_2005_2024\n"
     ]
    },
    {
     "data": {
      "text/html": [
       "<div>\n",
       "<style scoped>\n",
       "    .dataframe tbody tr th:only-of-type {\n",
       "        vertical-align: middle;\n",
       "    }\n",
       "\n",
       "    .dataframe tbody tr th {\n",
       "        vertical-align: top;\n",
       "    }\n",
       "\n",
       "    .dataframe thead th {\n",
       "        text-align: right;\n",
       "    }\n",
       "</style>\n",
       "<table border=\"1\" class=\"dataframe\">\n",
       "  <thead>\n",
       "    <tr style=\"text-align: right;\">\n",
       "      <th></th>\n",
       "      <th>Rain</th>\n",
       "      <th>RH (%)</th>\n",
       "      <th>TD (degC)</th>\n",
       "      <th>TDmax (degC)</th>\n",
       "      <th>TDmin (degC)</th>\n",
       "      <th>STDwd (deg)</th>\n",
       "      <th>Date Time</th>\n",
       "      <th>Year</th>\n",
       "      <th>Wind_x</th>\n",
       "      <th>Wind_y</th>\n",
       "      <th>Gust_x</th>\n",
       "      <th>Gust_y</th>\n",
       "    </tr>\n",
       "  </thead>\n",
       "  <tbody>\n",
       "    <tr>\n",
       "      <th>0</th>\n",
       "      <td>0.0</td>\n",
       "      <td>79.0</td>\n",
       "      <td>16.9</td>\n",
       "      <td>17.1</td>\n",
       "      <td>16.8</td>\n",
       "      <td>12.1</td>\n",
       "      <td>2005-04-01 00:00:00</td>\n",
       "      <td>2005</td>\n",
       "      <td>-1.050000</td>\n",
       "      <td>-1.818653</td>\n",
       "      <td>-2.069628</td>\n",
       "      <td>-3.186948</td>\n",
       "    </tr>\n",
       "    <tr>\n",
       "      <th>6</th>\n",
       "      <td>0.0</td>\n",
       "      <td>82.0</td>\n",
       "      <td>16.0</td>\n",
       "      <td>16.0</td>\n",
       "      <td>16.0</td>\n",
       "      <td>9.3</td>\n",
       "      <td>2005-04-01 01:00:00</td>\n",
       "      <td>2005</td>\n",
       "      <td>-1.484924</td>\n",
       "      <td>-1.484924</td>\n",
       "      <td>-1.763356</td>\n",
       "      <td>-2.427051</td>\n",
       "    </tr>\n",
       "    <tr>\n",
       "      <th>12</th>\n",
       "      <td>0.0</td>\n",
       "      <td>85.0</td>\n",
       "      <td>15.3</td>\n",
       "      <td>15.4</td>\n",
       "      <td>15.2</td>\n",
       "      <td>11.6</td>\n",
       "      <td>2005-04-01 02:00:00</td>\n",
       "      <td>2005</td>\n",
       "      <td>-1.807007</td>\n",
       "      <td>0.587132</td>\n",
       "      <td>-2.945616</td>\n",
       "      <td>1.250340</td>\n",
       "    </tr>\n",
       "    <tr>\n",
       "      <th>18</th>\n",
       "      <td>0.0</td>\n",
       "      <td>86.0</td>\n",
       "      <td>15.0</td>\n",
       "      <td>15.2</td>\n",
       "      <td>15.0</td>\n",
       "      <td>15.1</td>\n",
       "      <td>2005-04-01 03:00:00</td>\n",
       "      <td>2005</td>\n",
       "      <td>-1.199269</td>\n",
       "      <td>0.041879</td>\n",
       "      <td>-2.738813</td>\n",
       "      <td>-0.582153</td>\n",
       "    </tr>\n",
       "    <tr>\n",
       "      <th>24</th>\n",
       "      <td>0.0</td>\n",
       "      <td>88.0</td>\n",
       "      <td>14.8</td>\n",
       "      <td>14.8</td>\n",
       "      <td>14.8</td>\n",
       "      <td>18.6</td>\n",
       "      <td>2005-04-01 04:00:00</td>\n",
       "      <td>2005</td>\n",
       "      <td>-1.296833</td>\n",
       "      <td>-0.090683</td>\n",
       "      <td>-1.638304</td>\n",
       "      <td>-1.147153</td>\n",
       "    </tr>\n",
       "  </tbody>\n",
       "</table>\n",
       "</div>"
      ],
      "text/plain": [
       "    Rain  RH (%)  TD (degC)  TDmax (degC)  TDmin (degC)  STDwd (deg)  \\\n",
       "0    0.0    79.0       16.9          17.1          16.8         12.1   \n",
       "6    0.0    82.0       16.0          16.0          16.0          9.3   \n",
       "12   0.0    85.0       15.3          15.4          15.2         11.6   \n",
       "18   0.0    86.0       15.0          15.2          15.0         15.1   \n",
       "24   0.0    88.0       14.8          14.8          14.8         18.6   \n",
       "\n",
       "             Date Time  Year    Wind_x    Wind_y    Gust_x    Gust_y  \n",
       "0  2005-04-01 00:00:00  2005 -1.050000 -1.818653 -2.069628 -3.186948  \n",
       "6  2005-04-01 01:00:00  2005 -1.484924 -1.484924 -1.763356 -2.427051  \n",
       "12 2005-04-01 02:00:00  2005 -1.807007  0.587132 -2.945616  1.250340  \n",
       "18 2005-04-01 03:00:00  2005 -1.199269  0.041879 -2.738813 -0.582153  \n",
       "24 2005-04-01 04:00:00  2005 -1.296833 -0.090683 -1.638304 -1.147153  "
      ]
     },
     "execution_count": 95,
     "metadata": {},
     "output_type": "execute_result"
    }
   ],
   "source": [
    "first_df_name = next(iter(dataframes))\n",
    "print(f\"Showing the head of the dataframe: {first_df_name}\")\n",
    "dataframes[first_df_name].head()"
   ]
  }
 ],
 "metadata": {
  "kernelspec": {
   "display_name": "Python 3",
   "language": "python",
   "name": "python3"
  },
  "language_info": {
   "codemirror_mode": {
    "name": "ipython",
    "version": 3
   },
   "file_extension": ".py",
   "mimetype": "text/x-python",
   "name": "python",
   "nbconvert_exporter": "python",
   "pygments_lexer": "ipython3",
   "version": "3.11.2"
  }
 },
 "nbformat": 4,
 "nbformat_minor": 2
}
